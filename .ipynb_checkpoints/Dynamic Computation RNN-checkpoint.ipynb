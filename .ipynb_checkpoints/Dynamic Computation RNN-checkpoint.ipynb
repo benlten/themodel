{
 "cells": [
  {
   "cell_type": "markdown",
   "id": "ec73d40f",
   "metadata": {
    "tags": []
   },
   "source": [
    "# Start here, basic imports"
   ]
  },
  {
   "cell_type": "code",
   "execution_count": 1,
   "id": "ccd9183f",
   "metadata": {},
   "outputs": [
    {
     "data": {
      "text/html": [
       "<style>.container { width:90% !important; }</style>"
      ],
      "text/plain": [
       "<IPython.core.display.HTML object>"
      ]
     },
     "metadata": {},
     "output_type": "display_data"
    }
   ],
   "source": [
    "from IPython.display import display, HTML\n",
    "display(HTML(\"<style>.container { width:90% !important; }</style>\"))"
   ]
  },
  {
   "cell_type": "code",
   "execution_count": null,
   "id": "2871b3da",
   "metadata": {},
   "outputs": [],
   "source": [
    "from train import *\n",
    "import shlex\n",
    "import matplotlib.pyplot as plt\n",
    "from collections import Counter\n",
    "from tqdm import tqdm\n",
    "import scipy"
   ]
  },
  {
   "cell_type": "code",
   "execution_count": 3,
   "id": "226b175f",
   "metadata": {},
   "outputs": [],
   "source": [
    "def get_entropy_curve(all_timesteps_logits):\n",
    "    # all_timesteps_logits : b x num_timesteps x num_logits \n",
    "    # returns: shannon_entropies : bs x num_timesteps\n",
    "    probs = torch.nn.functional.softmax(all_timesteps_logits, dim=-1)\n",
    "    shannon_entropies = (-probs * torch.log2(probs)).sum(axis=-1)\n",
    "    return shannon_entropies\n",
    "\n",
    "def get_probs(all_timesteps_logits):\n",
    "    # all_timesteps_logits : b x num_timesteps x num_logits \n",
    "    # returns: probs : bs x num_timesteps x num_logits\n",
    "    probs = torch.nn.functional.softmax(all_timesteps_logits, dim=-1)\n",
    "    return probs"
   ]
  },
  {
   "cell_type": "markdown",
   "id": "8696e03f",
   "metadata": {},
   "source": [
    "- Command to run the main training file\n",
    "\n",
    "python train.py -cfg dalernn-t-12-gate-ln-relu -nl 3 --epochs 5 -b 256 --lr 1e-4 --rank 0 --world-size 1 --gpu 0 --data /home/vveeraba/src/pathfinder_full/curv_contour_length_14 -wd 0 --in-res 160 --expname pf14_channels32_fsize7 --seed 10"
   ]
  },
  {
   "cell_type": "markdown",
   "id": "2514e50a",
   "metadata": {
    "heading_collapsed": true,
    "jp-MarkdownHeadingCollapsed": true,
    "tags": []
   },
   "source": [
    "# Error analysis of original model"
   ]
  },
  {
   "cell_type": "code",
   "execution_count": null,
   "id": "c394091e",
   "metadata": {
    "hidden": true
   },
   "outputs": [],
   "source": [
    "cmd = 'train.py -cfg dalernn-t-12-gate-ln-relu -nl 3 --doEntropyThresholding 0 --returnValidOutput 1 --epochs 5 -b 256 --lr 1e-4 --rank 0 --world-size 1 --gpu 0 -wd 0 --in-res 160 --expname pf14_channels32_fsize7 --seed 10'\n",
    "args = parser.parse_args(shlex.split(cmd))\n",
    "args.cfg = load_cfg(args)\n",
    "args.cfg['nlayers'] = args.nlayers\n",
    "args.cfg['in_res'] = args.in_res\n",
    "args.data = '/home/vveeraba/src/pathfinder_full/curv_contour_length_14'\n",
    "\n",
    "# Data loading code\n",
    "traindir = os.path.join(args.data, 'train')\n",
    "valdir = os.path.join(args.data, 'val')\n",
    "\n",
    "# Load val data\n",
    "val_loader = torch.utils.data.DataLoader(\n",
    "        datasets.ImageFolder(valdir, transforms.Compose([\n",
    "            transforms.Resize(args.in_res),\n",
    "            transforms.ToTensor(),\n",
    "        ])),\n",
    "        batch_size=args.batch_size, shuffle=False,\n",
    "        num_workers=args.workers, pin_memory=True)"
   ]
  },
  {
   "cell_type": "code",
   "execution_count": null,
   "id": "66cc986d",
   "metadata": {
    "hidden": true,
    "scrolled": true
   },
   "outputs": [],
   "source": [
    "# Load existing checkpoint\n",
    "print(\"=> loading checkpoint '{}'\".format(args.resume))\n",
    "# Map model to be loaded to specified single gpu.\n",
    "loc = 'cuda:0'\n",
    "checkpoint_file = 'ckpt_iclr/curv_contour_length_14/dalernn_gate_ln_relu/pf14_channels32_fsize7_grmfwu_seed_10/pathfinder_checkpoint_best_dalernn_gate_ln_relu.pth'  # Without entropy thresholding\n",
    "checkpoint = torch.load(checkpoint_file, map_location=loc)\n",
    "best_acc1 = checkpoint['val_acc1']\n",
    "# create model\n",
    "num_classes = 2\n",
    "args.cfg = create_config(args.cfg)\n",
    "model = BaseModel(args.cfg, args)\n",
    "model_name = args.cfg.name  # + str(args.cfg.nlayers)\n",
    "args.model_name = model_name\n",
    "model.cuda()\n",
    "model.load_state_dict(checkpoint['model'])\n",
    "\n",
    "criterion = nn.CrossEntropyLoss().cuda(args.gpu)\n",
    "optimizer = torch.optim.Adam(model.parameters(), args.lr,\n",
    "                             # momentum=args.momentum,\n",
    "                             # weight_decay=args.weight_decay\n",
    "                             )\n",
    "optimizer.load_state_dict(checkpoint['optimizer'])"
   ]
  },
  {
   "cell_type": "code",
   "execution_count": null,
   "id": "64414020",
   "metadata": {
    "hidden": true,
    "scrolled": true
   },
   "outputs": [],
   "source": [
    "val_acc1, (outputs, full_outputs, targets) = validate(val_loader, model, criterion, optimizer=None, epoch=None, args=args)"
   ]
  },
  {
   "cell_type": "code",
   "execution_count": null,
   "id": "b6314765",
   "metadata": {
    "hidden": true,
    "scrolled": true
   },
   "outputs": [],
   "source": [
    "full_outputs = torch.transpose(full_outputs, 1, 0)"
   ]
  },
  {
   "cell_type": "code",
   "execution_count": null,
   "id": "21fafa25",
   "metadata": {
    "hidden": true
   },
   "outputs": [],
   "source": [
    "(outputs.argmax(dim=-1) != targets).sum()"
   ]
  },
  {
   "cell_type": "code",
   "execution_count": null,
   "id": "af2c4660",
   "metadata": {
    "hidden": true,
    "scrolled": true
   },
   "outputs": [],
   "source": [
    "(((outputs.argmax(dim=-1) != targets)) * (targets==0)).sum(), (((outputs.argmax(dim=-1) != targets)) * (targets==1)).sum()"
   ]
  },
  {
   "cell_type": "code",
   "execution_count": null,
   "id": "c66a1f01",
   "metadata": {
    "hidden": true
   },
   "outputs": [],
   "source": [
    "(((outputs.argmax(dim=-1) == targets)) * (targets==0)).sum(), (((outputs.argmax(dim=-1) == targets)) * (targets==1)).sum()"
   ]
  },
  {
   "cell_type": "code",
   "execution_count": null,
   "id": "934cee1c",
   "metadata": {
    "hidden": true,
    "scrolled": true
   },
   "outputs": [],
   "source": [
    "entropies = get_entropy_curve(full_outputs)\n",
    "probs = get_probs(full_outputs)"
   ]
  },
  {
   "cell_type": "code",
   "execution_count": null,
   "id": "0f46c9c5",
   "metadata": {
    "hidden": true
   },
   "outputs": [],
   "source": [
    "incorrect_gt_false_idxs = torch.where(((outputs.argmax(dim=-1) != targets)) * (targets==0))[0]\n",
    "incorrect_gt_true_idxs = torch.where(((outputs.argmax(dim=-1) != targets)) * (targets==1))[0]\n",
    "correct_gt_false_idxs = torch.where(((outputs.argmax(dim=-1) == targets)) * (targets==0))[0]\n",
    "correct_gt_true_idxs = torch.where(((outputs.argmax(dim=-1) == targets)) * (targets==1))[0]"
   ]
  },
  {
   "cell_type": "code",
   "execution_count": null,
   "id": "0dd61b20",
   "metadata": {
    "hidden": true
   },
   "outputs": [],
   "source": [
    "incorrect_gt_true_entropies = entropies[incorrect_gt_true_idxs]\n",
    "incorrect_gt_false_entropies = entropies[incorrect_gt_false_idxs]\n",
    "correct_gt_true_entropies = entropies[correct_gt_true_idxs]\n",
    "correct_gt_false_entropies = entropies[correct_gt_false_idxs]\n",
    "\n",
    "incorrect_gt_true_probs = probs[incorrect_gt_true_idxs][:, :, 1]\n",
    "incorrect_gt_false_probs = probs[incorrect_gt_false_idxs][:, :, 0]\n",
    "correct_gt_true_probs = probs[correct_gt_true_idxs][:, :, 1]\n",
    "correct_gt_false_probs = probs[correct_gt_false_idxs][:, :, 0]"
   ]
  },
  {
   "cell_type": "code",
   "execution_count": null,
   "id": "c9bb137c",
   "metadata": {
    "hidden": true
   },
   "outputs": [],
   "source": [
    "plt.figure(figsize=(6,1))\n",
    "plt.title('Entropy, Prob curve for incorrect, gt true {}'.format(incorrect_gt_true_entropies.shape[0]))\n",
    "means = incorrect_gt_true_entropies.mean(axis=0).cpu().numpy()\n",
    "stds = incorrect_gt_true_entropies.std(axis=0).cpu().numpy()\n",
    "plt.errorbar(range(12), means, yerr=stds)\n",
    "means = incorrect_gt_true_probs.mean(axis=0).cpu().numpy()\n",
    "stds = incorrect_gt_true_probs.std(axis=0).cpu().numpy()\n",
    "plt.errorbar(range(12), means, yerr=stds)\n",
    "\n",
    "plt.figure(figsize=(6,1))\n",
    "plt.title('Entropy, Prob curve for incorrect, gt false {}'.format(incorrect_gt_false_entropies.shape[0]))\n",
    "means = incorrect_gt_false_entropies.mean(axis=0).cpu().numpy()\n",
    "stds = incorrect_gt_false_entropies.std(axis=0).cpu().numpy()\n",
    "plt.errorbar(range(12), means, yerr=stds)\n",
    "means = incorrect_gt_false_probs.mean(axis=0).cpu().numpy()\n",
    "stds = incorrect_gt_false_probs.std(axis=0).cpu().numpy()\n",
    "plt.errorbar(range(12), means, yerr=stds)\n",
    "\n",
    "plt.figure(figsize=(6,1))\n",
    "plt.title('Entropy, Prob curve for correct, gt true {}'.format(correct_gt_true_entropies.shape[0]))\n",
    "means = correct_gt_true_entropies.mean(axis=0).cpu().numpy()\n",
    "stds = correct_gt_true_entropies.std(axis=0).cpu().numpy()\n",
    "plt.errorbar(range(12), means, yerr=stds)\n",
    "means = correct_gt_true_probs.mean(axis=0).cpu().numpy()\n",
    "stds = correct_gt_true_probs.std(axis=0).cpu().numpy()\n",
    "plt.errorbar(range(12), means, yerr=stds)\n",
    "\n",
    "plt.figure(figsize=(6,1))\n",
    "plt.title('Entropy, Prob curve for correct, gt false {}'.format(correct_gt_false_entropies.shape[0]))\n",
    "means = correct_gt_false_entropies.mean(axis=0).cpu().numpy()\n",
    "stds = correct_gt_false_entropies.std(axis=0).cpu().numpy()\n",
    "plt.errorbar(range(12), means, yerr=stds)\n",
    "means = correct_gt_false_probs.mean(axis=0).cpu().numpy()\n",
    "stds = correct_gt_false_probs.std(axis=0).cpu().numpy()\n",
    "plt.errorbar(range(12), means, yerr=stds)\n"
   ]
  },
  {
   "cell_type": "markdown",
   "id": "c037daf3",
   "metadata": {
    "heading_collapsed": true,
    "jp-MarkdownHeadingCollapsed": true,
    "tags": []
   },
   "source": [
    "# Entropy cutoff experiments\n",
    "\n",
    "- When picking timestep with minimum entropy (just during validation, no change in training), performance drops from 91% to 81%.\n",
    "- For random samples, analyze the entropy curve with timesteps. "
   ]
  },
  {
   "cell_type": "code",
   "execution_count": null,
   "id": "e21cd796",
   "metadata": {
    "hidden": true
   },
   "outputs": [],
   "source": [
    "cmd = 'train.py -cfg dalernn-t-12-gate-ln-relu -nl 3 --doEntropyThresholding 1 --returnValidOutput 1 --epochs 5 -b 256 --lr 1e-4 --rank 0 --world-size 1 --gpu 0 -wd 0 --in-res 160 --expname pf14_channels32_fsize7 --seed 10'\n",
    "args = parser.parse_args(shlex.split(cmd))\n",
    "args.cfg = load_cfg(args)\n",
    "args.cfg['nlayers'] = args.nlayers\n",
    "args.cfg['in_res'] = args.in_res\n",
    "args.data = '/home/vveeraba/src/pathfinder_full/curv_contour_length_14'\n",
    "\n",
    "# Data loading code\n",
    "traindir = os.path.join(args.data, 'train')\n",
    "valdir = os.path.join(args.data, 'val')\n",
    "\n",
    "# Load val data\n",
    "val_loader = torch.utils.data.DataLoader(\n",
    "        datasets.ImageFolder(valdir, transforms.Compose([\n",
    "            transforms.Resize(args.in_res),\n",
    "            transforms.ToTensor(),\n",
    "        ])),\n",
    "        batch_size=args.batch_size, shuffle=False,\n",
    "        num_workers=args.workers, pin_memory=True)"
   ]
  },
  {
   "cell_type": "code",
   "execution_count": null,
   "id": "d85a2756",
   "metadata": {
    "hidden": true,
    "scrolled": true
   },
   "outputs": [],
   "source": [
    "# Load existing checkpoint\n",
    "print(\"=> loading checkpoint '{}'\".format(args.resume))\n",
    "# Map model to be loaded to specified single gpu.\n",
    "loc = 'cuda:0'\n",
    "checkpoint_file = 'ckpt_iclr/curv_contour_length_14/dalernn_gate_ln_relu/pf14_channels32_fsize7_vgnrnr_seed_10/pathfinder_checkpoint_best_dalernn_gate_ln_relu.pth'  # With entropy thresholding\n",
    "# checkpoint_file = 'ckpt_iclr/curv_contour_length_14/dalernn_gate_ln_relu/pf14_channels32_fsize7_grmfwu_seed_10/pathfinder_checkpoint_best_dalernn_gate_ln_relu.pth'  # Without entropy thresholding\n",
    "checkpoint = torch.load(checkpoint_file, map_location=loc)\n",
    "best_acc1 = checkpoint['val_acc1']\n",
    "# create model\n",
    "num_classes = 2\n",
    "args.cfg = create_config(args.cfg)\n",
    "model = BaseModel(args.cfg, args)\n",
    "model_name = args.cfg.name  # + str(args.cfg.nlayers)\n",
    "args.model_name = model_name\n",
    "model.cuda()\n",
    "model.load_state_dict(checkpoint['model'])\n",
    "\n",
    "criterion = nn.CrossEntropyLoss().cuda(args.gpu)\n",
    "optimizer = torch.optim.Adam(model.parameters(), args.lr,\n",
    "                             # momentum=args.momentum,\n",
    "                             # weight_decay=args.weight_decay\n",
    "                             )\n",
    "optimizer.load_state_dict(checkpoint['optimizer'])"
   ]
  },
  {
   "cell_type": "code",
   "execution_count": null,
   "id": "eb562fe8",
   "metadata": {
    "hidden": true,
    "scrolled": true
   },
   "outputs": [],
   "source": [
    "val_acc2, (outputs2, full_outputs2, targets2) = validate(val_loader, model, criterion, optimizer=None, epoch=None, args=args)"
   ]
  },
  {
   "cell_type": "code",
   "execution_count": null,
   "id": "fb0753be",
   "metadata": {
    "hidden": true
   },
   "outputs": [],
   "source": [
    "full_outputs2 = torch.transpose(full_outputs2, 1, 0)"
   ]
  },
  {
   "cell_type": "markdown",
   "id": "998e6af3",
   "metadata": {
    "hidden": true
   },
   "source": [
    "- Where do these outputs differ? i.e, where did the entropy thresholding go wrong (and right). We first investigate the examples  where entropy thresholding wrong, old one was right."
   ]
  },
  {
   "cell_type": "code",
   "execution_count": null,
   "id": "779e2290",
   "metadata": {
    "hidden": true
   },
   "outputs": [],
   "source": [
    "print(((outputs.argmax(dim=-1) == targets) * ((outputs2.argmax(dim=-1) != targets2))).sum())\n",
    "print(((outputs.argmax(dim=-1) != targets) * ((outputs2.argmax(dim=-1) == targets2))).sum())\n",
    "print(((outputs.argmax(dim=-1) != targets) * ((outputs2.argmax(dim=-1) != targets2))).sum())\n",
    "print(((outputs.argmax(dim=-1) == targets) * ((outputs2.argmax(dim=-1) == targets2))).sum())"
   ]
  },
  {
   "cell_type": "code",
   "execution_count": null,
   "id": "93d03212",
   "metadata": {
    "hidden": true
   },
   "outputs": [],
   "source": [
    "newly_incorrect_gt_false_idxs = torch.where((outputs.argmax(dim=-1) == targets) * ((outputs2.argmax(dim=-1) != targets)) * (targets==0))[0]\n",
    "newly_incorrect_gt_true_idxs = torch.where((outputs.argmax(dim=-1) == targets) * ((outputs2.argmax(dim=-1) != targets)) * (targets==1))[0]"
   ]
  },
  {
   "cell_type": "markdown",
   "id": "dc2a2193",
   "metadata": {
    "heading_collapsed": true,
    "hidden": true
   },
   "source": [
    "## Inspect entropies"
   ]
  },
  {
   "cell_type": "code",
   "execution_count": null,
   "id": "702d466b",
   "metadata": {
    "hidden": true
   },
   "outputs": [],
   "source": [
    "entropies = get_entropy_curve(full_outputs2)"
   ]
  },
  {
   "cell_type": "code",
   "execution_count": null,
   "id": "55a2a755",
   "metadata": {
    "hidden": true
   },
   "outputs": [],
   "source": [
    "entropies.shape"
   ]
  },
  {
   "cell_type": "code",
   "execution_count": null,
   "id": "8037a786",
   "metadata": {
    "hidden": true
   },
   "outputs": [],
   "source": [
    "newly_incorrect_gt_true_entropies = entropies[newly_incorrect_gt_true_idxs]\n",
    "newly_incorrect_gt_false_entropies = entropies[newly_incorrect_gt_false_idxs]"
   ]
  },
  {
   "cell_type": "code",
   "execution_count": null,
   "id": "6ffe527c",
   "metadata": {
    "hidden": true
   },
   "outputs": [],
   "source": [
    "newly_incorrect_gt_true_entropies.shape, newly_incorrect_gt_false_entropies.shape"
   ]
  },
  {
   "cell_type": "code",
   "execution_count": null,
   "id": "6283270c",
   "metadata": {
    "hidden": true,
    "scrolled": true
   },
   "outputs": [],
   "source": [
    "plt.figure(figsize=(6,1))\n",
    "plt.title('Min entropy selected incorrect, gt true {}'.format(newly_incorrect_gt_true_entropies.shape[0]))\n",
    "means = newly_incorrect_gt_true_entropies.mean(axis=0).cpu().numpy()\n",
    "stds = newly_incorrect_gt_true_entropies.std(axis=0).cpu().numpy()\n",
    "plt.errorbar(range(12), means, yerr=stds)\n",
    "\n",
    "plt.figure(figsize=(6,1))\n",
    "plt.title('Min entropy selected incorrect, gt false {}'.format(newly_incorrect_gt_false_entropies.shape[0]))\n",
    "means = newly_incorrect_gt_false_entropies.mean(axis=0).cpu().numpy()\n",
    "stds = newly_incorrect_gt_false_entropies.std(axis=0).cpu().numpy()\n",
    "plt.errorbar(range(12), means, yerr=stds)"
   ]
  },
  {
   "cell_type": "code",
   "execution_count": null,
   "id": "c1a1685e",
   "metadata": {
    "hidden": true
   },
   "outputs": [],
   "source": [
    "probs = torch.nn.functional.softmax(full_outputs2[newly_incorrect_idxs], dim=-1)"
   ]
  },
  {
   "cell_type": "code",
   "execution_count": null,
   "id": "2325d07c",
   "metadata": {
    "hidden": true
   },
   "outputs": [],
   "source": [
    "targets2[newly_incorrect_idxs]"
   ]
  },
  {
   "cell_type": "code",
   "execution_count": null,
   "id": "5af0d2e6",
   "metadata": {
    "hidden": true
   },
   "outputs": [],
   "source": [
    "probs.shape"
   ]
  },
  {
   "cell_type": "markdown",
   "id": "6084ea2b",
   "metadata": {
    "tags": []
   },
   "source": [
    "# ACT"
   ]
  },
  {
   "cell_type": "markdown",
   "id": "262dd676",
   "metadata": {
    "heading_collapsed": true,
    "jp-MarkdownHeadingCollapsed": true,
    "tags": []
   },
   "source": [
    "## Contour length 14"
   ]
  },
  {
   "cell_type": "code",
   "execution_count": 2,
   "id": "352d5fe5",
   "metadata": {
    "hidden": true
   },
   "outputs": [],
   "source": [
    "cmd = 'train.py -cfg dalernn-t-12-gate-ln-relu -nl 3 --doEntropyThresholding 0 --returnValidOutput 0 --tau 0.01 --epochs 5 -b 256 --lr 1e-4 --rank 0 --world-size 1 --gpu 0 -wd 0 --in-res 160 --expname temp1 --seed 13'\n",
    "args = parser.parse_args(shlex.split(cmd))\n",
    "args.cfg = load_cfg(args)\n",
    "args.cfg['nlayers'] = args.nlayers\n",
    "args.cfg['in_res'] = args.in_res\n",
    "\n",
    "# args.data = '/home/vveeraba/src/pathfinder_full/curv_contour_length_14'\n",
    "args.data = '/home/yutang/curv_contour_length_18_1M'\n",
    "\n",
    "# Data loading code\n",
    "traindir = os.path.join(args.data, 'train')\n",
    "valdir = os.path.join(args.data, 'val')\n",
    "\n",
    "# Load val data\n",
    "val_loader = torch.utils.data.DataLoader(\n",
    "        datasets.ImageFolder(valdir, transforms.Compose([\n",
    "            transforms.Resize(args.in_res),\n",
    "            transforms.ToTensor(),\n",
    "        ])),\n",
    "        batch_size=args.batch_size, shuffle=False,\n",
    "        num_workers=args.workers, pin_memory=True)"
   ]
  },
  {
   "cell_type": "code",
   "execution_count": 3,
   "id": "496ece75",
   "metadata": {
    "hidden": true,
    "scrolled": true
   },
   "outputs": [
    {
     "name": "stdout",
     "output_type": "stream",
     "text": [
      "=> loading checkpoint ''\n",
      "12 steps of recurrence\n",
      "Using interneuron\n"
     ]
    }
   ],
   "source": [
    "# Load existing checkpoint\n",
    "print(\"=> loading checkpoint '{}'\".format(args.resume))\n",
    "# Map model to be loaded to specified single gpu.\n",
    "loc = 'cuda:0'\n",
    "checkpoint_file = 'ckpt_iclr/curv_contour_length_14/dalernn_gate_ln_relu/act_seed_13/pathfinder_checkpoint_best_dalernn_gate_ln_relu.pth'\n",
    "checkpoint = torch.load(checkpoint_file, map_location=loc)\n",
    "best_acc1 = checkpoint['val_acc1']\n",
    "# create model\n",
    "num_classes = 2\n",
    "args.cfg = create_config(args.cfg)\n",
    "model = BaseModel(args.cfg, args)\n",
    "model_name = args.cfg.name  # + str(args.cfg.nlayers)\n",
    "args.model_name = model_name\n",
    "model.cuda()\n",
    "model.load_state_dict(checkpoint['model'])\n",
    "model.rnn.total_step_count = 20000000\n",
    "\n",
    "criterion = nn.CrossEntropyLoss().cuda(args.gpu)\n",
    "optimizer = torch.optim.Adam(model.parameters(), args.lr,\n",
    "                             # momentum=args.momentum,\n",
    "                             # weight_decay=args.weight_decay\n",
    "                             )\n",
    "optimizer.load_state_dict(checkpoint['optimizer'])"
   ]
  },
  {
   "cell_type": "code",
   "execution_count": 4,
   "id": "e1ec1495",
   "metadata": {
    "hidden": true,
    "scrolled": true
   },
   "outputs": [
    {
     "name": "stderr",
     "output_type": "stream",
     "text": [
      "/home/AD/srravishankar/anaconda3/envs/pytorch_111/lib/python3.9/site-packages/torch/nn/functional.py:1967: UserWarning: nn.functional.sigmoid is deprecated. Use torch.sigmoid instead.\n",
      "  warnings.warn(\"nn.functional.sigmoid is deprecated. Use torch.sigmoid instead.\")\n"
     ]
    },
    {
     "name": "stdout",
     "output_type": "stream",
     "text": [
      "Test: [  0/782]\tTime  5.177 ( 5.177)\tLoss 2.1931e+00 (2.1931e+00)\tAcc@1  30.47 ( 30.47)\n",
      "Test: [ 10/782]\tTime  0.188 ( 0.744)\tLoss 2.3647e+00 (2.2981e+00)\tAcc@1  23.83 ( 26.07)\n",
      "Test: [ 20/782]\tTime  0.827 ( 0.633)\tLoss 2.1408e+00 (2.2927e+00)\tAcc@1  25.78 ( 25.47)\n",
      "Test: [ 30/782]\tTime  0.189 ( 0.583)\tLoss 2.3465e+00 (2.2672e+00)\tAcc@1  23.83 ( 25.95)\n",
      "Test: [ 40/782]\tTime  0.921 ( 0.563)\tLoss 2.3774e+00 (2.2754e+00)\tAcc@1  28.52 ( 26.25)\n",
      "Test: [ 50/782]\tTime  0.252 ( 0.544)\tLoss 2.1930e+00 (2.2739e+00)\tAcc@1  27.34 ( 26.55)\n",
      "Test: [ 60/782]\tTime  0.763 ( 0.540)\tLoss 2.2900e+00 (2.2725e+00)\tAcc@1  27.34 ( 26.70)\n",
      "Test: [ 70/782]\tTime  0.314 ( 0.532)\tLoss 2.3212e+00 (2.2707e+00)\tAcc@1  24.61 ( 26.72)\n",
      "Test: [ 80/782]\tTime  0.446 ( 0.525)\tLoss 2.5253e+00 (2.2785e+00)\tAcc@1  24.22 ( 26.69)\n",
      "Test: [ 90/782]\tTime  0.603 ( 0.527)\tLoss 2.2620e+00 (2.2753e+00)\tAcc@1  23.05 ( 26.61)\n",
      "Test: [100/782]\tTime  0.185 ( 0.518)\tLoss 2.0410e+00 (2.2728e+00)\tAcc@1  30.86 ( 26.56)\n",
      "Test: [110/782]\tTime  0.361 ( 0.525)\tLoss 2.2138e+00 (2.2644e+00)\tAcc@1  28.12 ( 26.82)\n",
      "Test: [120/782]\tTime  0.185 ( 0.520)\tLoss 2.2061e+00 (2.2607e+00)\tAcc@1  26.95 ( 26.90)\n",
      "Test: [130/782]\tTime  1.059 ( 0.524)\tLoss 2.1397e+00 (2.2642e+00)\tAcc@1  30.86 ( 26.84)\n",
      "Test: [140/782]\tTime  0.184 ( 0.517)\tLoss 2.2886e+00 (2.2633e+00)\tAcc@1  28.52 ( 26.91)\n",
      "Test: [150/782]\tTime  0.982 ( 0.520)\tLoss 2.3471e+00 (2.2619e+00)\tAcc@1  25.78 ( 26.92)\n",
      "Test: [160/782]\tTime  0.185 ( 0.515)\tLoss 2.4364e+00 (2.2623e+00)\tAcc@1  21.88 ( 26.94)\n",
      "Test: [170/782]\tTime  1.317 ( 0.517)\tLoss 2.3690e+00 (2.2649e+00)\tAcc@1  26.17 ( 26.89)\n",
      "Test: [180/782]\tTime  0.185 ( 0.514)\tLoss 2.1654e+00 (2.2670e+00)\tAcc@1  29.69 ( 26.90)\n",
      "Test: [190/782]\tTime  1.581 ( 0.516)\tLoss 2.4503e+00 (2.2691e+00)\tAcc@1  21.09 ( 26.79)\n",
      "Test: [200/782]\tTime  0.189 ( 0.511)\tLoss 2.4982e+00 (2.2684e+00)\tAcc@1  25.39 ( 26.81)\n",
      "Test: [210/782]\tTime  1.527 ( 0.516)\tLoss 2.1515e+00 (2.2704e+00)\tAcc@1  25.78 ( 26.76)\n",
      "Test: [220/782]\tTime  0.184 ( 0.515)\tLoss 2.0771e+00 (2.2681e+00)\tAcc@1  29.69 ( 26.82)\n",
      "Test: [230/782]\tTime  1.650 ( 0.516)\tLoss 2.1972e+00 (2.2690e+00)\tAcc@1  25.00 ( 26.82)\n",
      "Test: [240/782]\tTime  0.184 ( 0.511)\tLoss 2.2418e+00 (2.2684e+00)\tAcc@1  25.78 ( 26.83)\n",
      "Test: [250/782]\tTime  1.519 ( 0.514)\tLoss 2.2276e+00 (2.2685e+00)\tAcc@1  31.25 ( 26.86)\n",
      "Test: [260/782]\tTime  0.185 ( 0.510)\tLoss 2.3318e+00 (2.2672e+00)\tAcc@1  28.91 ( 26.84)\n",
      "Test: [270/782]\tTime  0.921 ( 0.511)\tLoss 2.3023e+00 (2.2675e+00)\tAcc@1  25.78 ( 26.86)\n",
      "Test: [280/782]\tTime  0.184 ( 0.508)\tLoss 2.3527e+00 (2.2674e+00)\tAcc@1  20.70 ( 26.84)\n",
      "Test: [290/782]\tTime  1.174 ( 0.510)\tLoss 2.5146e+00 (2.2671e+00)\tAcc@1  21.09 ( 26.84)\n",
      "Test: [300/782]\tTime  0.184 ( 0.507)\tLoss 2.0274e+00 (2.2650e+00)\tAcc@1  32.81 ( 26.88)\n",
      "Test: [310/782]\tTime  1.439 ( 0.509)\tLoss 2.2176e+00 (2.2647e+00)\tAcc@1  30.86 ( 26.91)\n",
      "Test: [320/782]\tTime  0.192 ( 0.508)\tLoss 2.2843e+00 (2.2659e+00)\tAcc@1  28.91 ( 26.88)\n",
      "Test: [330/782]\tTime  1.325 ( 0.510)\tLoss 2.1634e+00 (2.2657e+00)\tAcc@1  26.17 ( 26.83)\n",
      "Test: [340/782]\tTime  0.183 ( 0.508)\tLoss 2.2638e+00 (2.2650e+00)\tAcc@1  26.56 ( 26.80)\n",
      "Test: [350/782]\tTime  1.244 ( 0.509)\tLoss 2.2909e+00 (2.2642e+00)\tAcc@1  28.91 ( 26.84)\n",
      "Test: [360/782]\tTime  0.185 ( 0.507)\tLoss 2.1635e+00 (2.2656e+00)\tAcc@1  28.91 ( 26.82)\n",
      "Test: [370/782]\tTime  1.590 ( 0.509)\tLoss 2.2627e+00 (2.2641e+00)\tAcc@1  30.86 ( 26.87)\n",
      "Test: [380/782]\tTime  0.185 ( 0.508)\tLoss 2.2870e+00 (2.2643e+00)\tAcc@1  25.78 ( 26.88)\n",
      "Test: [390/782]\tTime  1.375 ( 0.509)\tLoss 1.7304e+00 (2.2638e+00)\tAcc@1  46.09 ( 26.92)\n",
      "Test: [400/782]\tTime  0.185 ( 0.507)\tLoss 5.1524e-01 (2.2198e+00)\tAcc@1  82.81 ( 28.29)\n",
      "Test: [410/782]\tTime  1.190 ( 0.508)\tLoss 4.9740e-01 (2.1773e+00)\tAcc@1  82.81 ( 29.60)\n",
      "Test: [420/782]\tTime  0.184 ( 0.506)\tLoss 5.8659e-01 (2.1373e+00)\tAcc@1  80.86 ( 30.84)\n",
      "Test: [430/782]\tTime  1.088 ( 0.508)\tLoss 4.7649e-01 (2.0991e+00)\tAcc@1  81.64 ( 32.02)\n",
      "Test: [440/782]\tTime  0.199 ( 0.507)\tLoss 4.9601e-01 (2.0629e+00)\tAcc@1  83.98 ( 33.17)\n",
      "Test: [450/782]\tTime  1.450 ( 0.509)\tLoss 5.5661e-01 (2.0282e+00)\tAcc@1  77.73 ( 34.22)\n",
      "Test: [460/782]\tTime  0.184 ( 0.509)\tLoss 5.0539e-01 (1.9948e+00)\tAcc@1  81.25 ( 35.25)\n",
      "Test: [470/782]\tTime  1.177 ( 0.510)\tLoss 5.1535e-01 (1.9633e+00)\tAcc@1  84.77 ( 36.25)\n",
      "Test: [480/782]\tTime  0.185 ( 0.508)\tLoss 4.9410e-01 (1.9327e+00)\tAcc@1  81.25 ( 37.20)\n",
      "Test: [490/782]\tTime  1.066 ( 0.510)\tLoss 4.3887e-01 (1.9034e+00)\tAcc@1  82.42 ( 38.10)\n",
      "Test: [500/782]\tTime  0.185 ( 0.508)\tLoss 5.4537e-01 (1.8755e+00)\tAcc@1  80.47 ( 38.96)\n",
      "Test: [510/782]\tTime  0.539 ( 0.508)\tLoss 4.9312e-01 (1.8487e+00)\tAcc@1  80.08 ( 39.79)\n",
      "Test: [520/782]\tTime  0.184 ( 0.507)\tLoss 5.9164e-01 (1.8228e+00)\tAcc@1  80.86 ( 40.59)\n",
      "Test: [530/782]\tTime  0.841 ( 0.508)\tLoss 4.9068e-01 (1.7970e+00)\tAcc@1  83.98 ( 41.41)\n",
      "Test: [540/782]\tTime  0.185 ( 0.506)\tLoss 6.0101e-01 (1.7727e+00)\tAcc@1  78.12 ( 42.15)\n",
      "Test: [550/782]\tTime  0.599 ( 0.507)\tLoss 5.8513e-01 (1.7494e+00)\tAcc@1  78.52 ( 42.87)\n",
      "Test: [560/782]\tTime  0.187 ( 0.506)\tLoss 5.1265e-01 (1.7269e+00)\tAcc@1  82.81 ( 43.56)\n",
      "Test: [570/782]\tTime  1.036 ( 0.507)\tLoss 4.2310e-01 (1.7058e+00)\tAcc@1  82.03 ( 44.22)\n",
      "Test: [580/782]\tTime  0.185 ( 0.505)\tLoss 4.4447e-01 (1.6854e+00)\tAcc@1  84.38 ( 44.87)\n",
      "Test: [590/782]\tTime  0.792 ( 0.506)\tLoss 5.2943e-01 (1.6652e+00)\tAcc@1  79.69 ( 45.50)\n",
      "Test: [600/782]\tTime  0.183 ( 0.505)\tLoss 4.2621e-01 (1.6457e+00)\tAcc@1  82.03 ( 46.11)\n",
      "Test: [610/782]\tTime  1.592 ( 0.506)\tLoss 4.8421e-01 (1.6266e+00)\tAcc@1  82.42 ( 46.68)\n",
      "Test: [620/782]\tTime  0.185 ( 0.505)\tLoss 4.0025e-01 (1.6079e+00)\tAcc@1  84.77 ( 47.27)\n",
      "Test: [630/782]\tTime  1.336 ( 0.505)\tLoss 5.7353e-01 (1.5901e+00)\tAcc@1  81.25 ( 47.83)\n",
      "Test: [640/782]\tTime  0.184 ( 0.504)\tLoss 3.9834e-01 (1.5731e+00)\tAcc@1  87.11 ( 48.36)\n",
      "Test: [650/782]\tTime  1.183 ( 0.505)\tLoss 5.2519e-01 (1.5561e+00)\tAcc@1  79.69 ( 48.89)\n",
      "Test: [660/782]\tTime  0.184 ( 0.503)\tLoss 5.2523e-01 (1.5405e+00)\tAcc@1  80.47 ( 49.38)\n",
      "Test: [670/782]\tTime  1.405 ( 0.505)\tLoss 4.5845e-01 (1.5244e+00)\tAcc@1  81.64 ( 49.88)\n",
      "Test: [680/782]\tTime  0.184 ( 0.504)\tLoss 5.4532e-01 (1.5096e+00)\tAcc@1  78.52 ( 50.36)\n",
      "Test: [690/782]\tTime  2.217 ( 0.507)\tLoss 3.5430e-01 (1.4943e+00)\tAcc@1  83.98 ( 50.84)\n",
      "Test: [700/782]\tTime  0.184 ( 0.509)\tLoss 3.4616e-01 (1.4798e+00)\tAcc@1  86.33 ( 51.28)\n",
      "Test: [710/782]\tTime  0.435 ( 0.509)\tLoss 4.6855e-01 (1.4658e+00)\tAcc@1  85.16 ( 51.72)\n",
      "Test: [720/782]\tTime  0.184 ( 0.508)\tLoss 4.2836e-01 (1.4518e+00)\tAcc@1  84.77 ( 52.15)\n",
      "Test: [730/782]\tTime  0.412 ( 0.509)\tLoss 4.9864e-01 (1.4390e+00)\tAcc@1  81.25 ( 52.54)\n",
      "Test: [740/782]\tTime  0.184 ( 0.508)\tLoss 4.8860e-01 (1.4266e+00)\tAcc@1  79.69 ( 52.93)\n",
      "Test: [750/782]\tTime  0.247 ( 0.508)\tLoss 4.8585e-01 (1.4138e+00)\tAcc@1  78.52 ( 53.31)\n",
      "Test: [760/782]\tTime  0.184 ( 0.507)\tLoss 3.7639e-01 (1.4020e+00)\tAcc@1  85.55 ( 53.67)\n",
      "Test: [770/782]\tTime  0.184 ( 0.508)\tLoss 5.7685e-01 (1.3904e+00)\tAcc@1  80.08 ( 54.04)\n",
      "Test: [780/782]\tTime  0.185 ( 0.508)\tLoss 4.1976e-01 (1.3787e+00)\tAcc@1  83.98 ( 54.41)\n",
      " * Acc@1 54.414\n"
     ]
    }
   ],
   "source": [
    "val_acc1, (outputs, all_halt_probs, ponder_costs, targets) = validate(val_loader, model, criterion, optimizer=None, epoch=None, args=args)"
   ]
  },
  {
   "cell_type": "code",
   "execution_count": null,
   "id": "5bcbef17",
   "metadata": {
    "hidden": true
   },
   "outputs": [],
   "source": [
    "incorrect_gt_true_idxs = torch.where(((outputs.argmax(dim=-1) != targets)) * (targets==0))[0]\n",
    "incorrect_gt_false_idxs = torch.where(((outputs.argmax(dim=-1) != targets)) * (targets==1))[0]\n",
    "correct_gt_true_idxs = torch.where(((outputs.argmax(dim=-1) == targets)) * (targets==0))[0]\n",
    "correct_gt_false_idxs = torch.where(((outputs.argmax(dim=-1) == targets)) * (targets==1))[0]\n",
    "\n",
    "incorrect_gt_false_probs = all_halt_probs[incorrect_gt_false_idxs]\n",
    "incorrect_gt_true_probs = all_halt_probs[incorrect_gt_true_idxs]\n",
    "correct_gt_false_probs = all_halt_probs[correct_gt_false_idxs]\n",
    "correct_gt_true_probs = all_halt_probs[correct_gt_true_idxs]"
   ]
  },
  {
   "cell_type": "code",
   "execution_count": null,
   "id": "a198e379",
   "metadata": {
    "hidden": true
   },
   "outputs": [],
   "source": [
    "plt.figure(figsize=(10,2))\n",
    "means = all_halt_probs.mean(axis=0)\n",
    "stddevs = all_halt_probs.std(axis=0)\n",
    "plt.plot(range(1,13), means)\n",
    "# plt.errorbar(range(1,13), means, yerr=stddevs)\n",
    "plt.fill_between(range(1,13), means-stddevs, means+stddevs,\n",
    "    alpha=0.5, edgecolor='#CC4F1B', facecolor='#FF9848')\n",
    "plt.xticks(range(1, 13))\n",
    "plt.title('(Approx) Contribution of output by each timestep')\n",
    "\n",
    "plt.figure(figsize=(10,2))\n",
    "gt_true_idxs = torch.where(targets == 0)[0]\n",
    "means = all_halt_probs[gt_true_idxs].mean(axis=0)\n",
    "stddevs = all_halt_probs[gt_true_idxs].std(axis=0)\n",
    "plt.plot(range(1,13), means)\n",
    "# plt.errorbar(range(1,13), means, yerr=stddevs)\n",
    "plt.fill_between(range(1,13), means-stddevs, means+stddevs,\n",
    "    alpha=0.5, edgecolor='#CC4F1B', facecolor='#FF9848')\n",
    "plt.xticks(range(1, 13))\n",
    "plt.title('(Approx) Contribution of output by each timestep, GT True')\n",
    "\n",
    "plt.figure(figsize=(10,2))\n",
    "gt_false_idxs = torch.where(targets == 1)[0]\n",
    "means = all_halt_probs[gt_false_idxs].mean(axis=0)\n",
    "stddevs = all_halt_probs[gt_false_idxs].std(axis=0)\n",
    "plt.plot(range(1,13), means)\n",
    "# plt.errorbar(range(1,13), means, yerr=stddevs)\n",
    "plt.fill_between(range(1,13), means-stddevs, means+stddevs,\n",
    "    alpha=0.5, edgecolor='#CC4F1B', facecolor='#FF9848')\n",
    "plt.xticks(range(1, 13))\n",
    "plt.title('(Approx) Contribution of output by each timestep, GT False')"
   ]
  },
  {
   "cell_type": "code",
   "execution_count": null,
   "id": "ee5b796d",
   "metadata": {
    "hidden": true
   },
   "outputs": [],
   "source": [
    "num_steps_all = (all_halt_probs != 0).sum(dim=1)\n",
    "correct_gt_true_steps5_idxs = torch.where(((outputs.argmax(dim=-1) == targets)) * (targets==0) * (num_steps_all == 5))[0]\n",
    "correct_gt_true_steps6_idxs = torch.where(((outputs.argmax(dim=-1) == targets)) * (targets==0) * (num_steps_all == 6))[0]\n",
    "correct_gt_false_steps5_idxs = torch.where(((outputs.argmax(dim=-1) == targets)) * (targets==1) * (num_steps_all == 5))[0]\n",
    "correct_gt_false_steps6_idxs = torch.where(((outputs.argmax(dim=-1) == targets)) * (targets==1) * (num_steps_all == 6))[0]"
   ]
  },
  {
   "cell_type": "code",
   "execution_count": null,
   "id": "327b9c96",
   "metadata": {
    "hidden": true
   },
   "outputs": [],
   "source": [
    "fig, axs = plt.subplots(2, 2, figsize=(6,6))\n",
    "\n",
    "num_steps_run = (incorrect_gt_true_probs != 0).sum(dim=1).numpy()\n",
    "num_steps, freq = zip(*Counter(num_steps_run.tolist()).items())\n",
    "axs[0,0].bar(num_steps, freq)\n",
    "axs[0,0].set_xlabel('Number of steps')\n",
    "axs[0,0].set_ylabel('Frequency')\n",
    "axs[0,0].set_title('GT True, Incorrect')\n",
    "print(Counter(num_steps_run.tolist()))\n",
    "\n",
    "num_steps_run = (incorrect_gt_false_probs != 0).sum(dim=1).numpy()\n",
    "num_steps, freq = zip(*Counter(num_steps_run.tolist()).items())\n",
    "axs[0, 1].bar(num_steps, freq)\n",
    "axs[0, 1].set_xlabel('Number of steps')\n",
    "axs[0, 1].set_ylabel('Frequency')\n",
    "axs[0, 1].set_title('GT False, Incorrect')\n",
    "print(Counter(num_steps_run.tolist()))\n",
    "\n",
    "num_steps_run = (correct_gt_true_probs != 0).sum(dim=1).numpy()\n",
    "num_steps, freq = zip(*Counter(num_steps_run.tolist()).items())\n",
    "axs[1, 0].bar(num_steps, freq)\n",
    "axs[1, 0].set_xlabel('Number of steps')\n",
    "axs[1, 0].set_ylabel('Frequency')\n",
    "axs[1, 0].set_title('GT True, Correct')\n",
    "print(Counter(num_steps_run.tolist()))\n",
    "\n",
    "num_steps_run = (correct_gt_false_probs != 0).sum(dim=1).numpy()\n",
    "num_steps, freq = zip(*Counter(num_steps_run.tolist()).items())\n",
    "axs[1, 1].bar(num_steps, freq)\n",
    "axs[1, 1].set_xlabel('Number of steps')\n",
    "axs[1, 1].set_ylabel('Frequency')\n",
    "axs[1, 1].set_title('GT False, Correct')\n",
    "print(Counter(num_steps_run.tolist()))\n"
   ]
  },
  {
   "cell_type": "code",
   "execution_count": null,
   "id": "fc44cfdd",
   "metadata": {
    "hidden": true
   },
   "outputs": [],
   "source": [
    "all_images = []\n",
    "for x in tqdm(val_loader):\n",
    "    inputs, _ = x\n",
    "    all_images.append(inputs)\n",
    "all_images = torch.cat(all_images, dim=0)\n",
    "all_images = all_images[:, 0, :, :]"
   ]
  },
  {
   "cell_type": "code",
   "execution_count": null,
   "id": "9b1c4ae8",
   "metadata": {
    "hidden": true
   },
   "outputs": [],
   "source": [
    "sampled_gt_true_steps5_idxs = np.random.choice(correct_gt_true_steps5_idxs, size=10, replace=False)\n",
    "sampled_gt_true_steps6_idxs = np.random.choice(correct_gt_true_steps6_idxs, size=10, replace=False)\n",
    "sampled_gt_false_steps5_idxs = np.random.choice(correct_gt_false_steps5_idxs, size=10, replace=False)\n",
    "sampled_gt_false_steps6_idxs = np.random.choice(correct_gt_false_steps6_idxs, size=10, replace=False)"
   ]
  },
  {
   "cell_type": "code",
   "execution_count": null,
   "id": "d59bfa87",
   "metadata": {
    "hidden": true,
    "scrolled": true
   },
   "outputs": [],
   "source": [
    "fig = plt.figure(figsize=(20,20))\n",
    "for idx, x in enumerate(all_images[sampled_gt_true_steps5_idxs]):\n",
    "    fig.add_subplot(4,5,idx+1)\n",
    "    plt.imshow(x)\n",
    "for idx, x in enumerate(all_images[sampled_gt_true_steps6_idxs]):\n",
    "    fig.add_subplot(4,5,idx+11)\n",
    "    plt.imshow(x)"
   ]
  },
  {
   "cell_type": "code",
   "execution_count": null,
   "id": "74fc6d26",
   "metadata": {
    "hidden": true
   },
   "outputs": [],
   "source": [
    "all_images.shape"
   ]
  },
  {
   "cell_type": "code",
   "execution_count": null,
   "id": "9d3b803d",
   "metadata": {
    "hidden": true
   },
   "outputs": [],
   "source": [
    "random_pos_examples = np.random.choice(99992//2, 20)\n",
    "random_neg_examples = np.random.choice(np.arange(99992//2, 99992), 20)\n",
    "fig = plt.figure(figsize=(20,20))\n",
    "for idx, x in enumerate(all_images[random_pos_examples]):\n",
    "    fig.add_subplot(4,5,idx+1)\n",
    "    plt.imshow(x)\n",
    "for idx, x in enumerate(all_images[random_neg_examples]):\n",
    "    fig.add_subplot(4,5,idx+11)\n",
    "    plt.imshow(x)"
   ]
  },
  {
   "cell_type": "markdown",
   "id": "4dfdf9a2",
   "metadata": {
    "heading_collapsed": true,
    "jp-MarkdownHeadingCollapsed": true,
    "tags": []
   },
   "source": [
    "## Contour length 9"
   ]
  },
  {
   "cell_type": "code",
   "execution_count": null,
   "id": "3a5a85be",
   "metadata": {
    "hidden": true
   },
   "outputs": [],
   "source": [
    "cmd = 'train.py -cfg dalernn-t-12-gate-ln-relu -nl 3 --doEntropyThresholding 0 --returnValidOutput 0 --tau 0.01 --epochs 5 -b 256 --lr 1e-4 --rank 0 --world-size 1 --gpu 0 -wd 0 --in-res 160 --expname temp1 --seed 13'\n",
    "args = parser.parse_args(shlex.split(cmd))\n",
    "args.cfg = load_cfg(args)\n",
    "args.cfg['nlayers'] = args.nlayers\n",
    "args.cfg['in_res'] = args.in_res\n",
    "\n",
    "args.data = '/mnt/cube/projects/contour_integration/pathfinder_full/curv_contour_length_9'\n",
    "\n",
    "# Data loading code\n",
    "traindir = os.path.join(args.data, 'train')\n",
    "valdir = os.path.join(args.data, 'val')\n",
    "\n",
    "# Load val data\n",
    "val_loader = torch.utils.data.DataLoader(\n",
    "        datasets.ImageFolder(valdir, transforms.Compose([\n",
    "            transforms.Resize(args.in_res),\n",
    "            transforms.ToTensor(),\n",
    "        ])),\n",
    "        batch_size=args.batch_size, shuffle=False,\n",
    "        num_workers=args.workers, pin_memory=True)\n"
   ]
  },
  {
   "cell_type": "code",
   "execution_count": null,
   "id": "f445fecb",
   "metadata": {
    "hidden": true,
    "scrolled": true
   },
   "outputs": [],
   "source": [
    "# Load existing checkpoint\n",
    "print(\"=> loading checkpoint '{}'\".format(args.resume))\n",
    "# Map model to be loaded to specified single gpu.\n",
    "loc = 'cuda:0'\n",
    "checkpoint_file = 'ckpt_iclr/curv_contour_length_9/dalernn_gate_ln_relu/temp1_ksvdcd_seed_13/pathfinder_checkpoint_dalernn_gate_ln_relu_epoch_19.pth'\n",
    "checkpoint = torch.load(checkpoint_file, map_location=loc)\n",
    "# best_acc1 = checkpoint['val_acc1']\n",
    "# create model\n",
    "num_classes = 2\n",
    "args.cfg = create_config(args.cfg)\n",
    "model = BaseModel(args.cfg, args)\n",
    "model_name = args.cfg.name  # + str(args.cfg.nlayers)\n",
    "args.model_name = model_name\n",
    "model.cuda()\n",
    "model.load_state_dict(checkpoint['model'])\n",
    "model.rnn.total_step_count = 50000\n",
    "\n",
    "criterion = nn.CrossEntropyLoss().cuda(args.gpu)\n",
    "optimizer = torch.optim.Adam(model.parameters(), args.lr,\n",
    "                             # momentum=args.momentum,\n",
    "                             # weight_decay=args.weight_decay\n",
    "                             )\n",
    "optimizer.load_state_dict(checkpoint['optimizer'])"
   ]
  },
  {
   "cell_type": "code",
   "execution_count": null,
   "id": "d7e756fe",
   "metadata": {
    "hidden": true,
    "scrolled": true
   },
   "outputs": [],
   "source": [
    "val_acc1, (outputs, all_halt_probs, ponder_costs, targets) = validate(val_loader, model, criterion, optimizer=None, epoch=None, args=args)"
   ]
  },
  {
   "cell_type": "code",
   "execution_count": null,
   "id": "591e96bd",
   "metadata": {
    "hidden": true
   },
   "outputs": [],
   "source": [
    "plt.figure(figsize=(10,2))\n",
    "means = all_halt_probs.mean(axis=0)\n",
    "stddevs = all_halt_probs.std(axis=0)\n",
    "plt.plot(range(1,13), means)\n",
    "# plt.errorbar(range(1,13), means, yerr=stddevs)\n",
    "plt.fill_between(range(1,13), means-stddevs, means+stddevs,\n",
    "    alpha=0.5, edgecolor='#CC4F1B', facecolor='#FF9848')\n",
    "plt.xticks(range(1, 13))\n",
    "plt.title('(Approx) Contribution of output by each timestep')\n",
    "\n",
    "plt.figure(figsize=(10,2))\n",
    "gt_true_idxs = torch.where(targets == 0)[0]\n",
    "means = all_halt_probs[gt_true_idxs].mean(axis=0)\n",
    "stddevs = all_halt_probs[gt_true_idxs].std(axis=0)\n",
    "plt.plot(range(1,13), means)\n",
    "# plt.errorbar(range(1,13), means, yerr=stddevs)\n",
    "plt.fill_between(range(1,13), means-stddevs, means+stddevs,\n",
    "    alpha=0.5, edgecolor='#CC4F1B', facecolor='#FF9848')\n",
    "plt.xticks(range(1, 13))\n",
    "plt.title('(Approx) Contribution of output by each timestep, GT True')\n",
    "\n",
    "plt.figure(figsize=(10,2))\n",
    "gt_false_idxs = torch.where(targets == 1)[0]\n",
    "means = all_halt_probs[gt_false_idxs].mean(axis=0)\n",
    "stddevs = all_halt_probs[gt_false_idxs].std(axis=0)\n",
    "plt.plot(range(1,13), means)\n",
    "# plt.errorbar(range(1,13), means, yerr=stddevs)\n",
    "plt.fill_between(range(1,13), means-stddevs, means+stddevs,\n",
    "    alpha=0.5, edgecolor='#CC4F1B', facecolor='#FF9848')\n",
    "plt.xticks(range(1, 13))\n",
    "plt.title('(Approx) Contribution of output by each timestep, GT False')"
   ]
  },
  {
   "cell_type": "code",
   "execution_count": null,
   "id": "1a257947",
   "metadata": {
    "hidden": true
   },
   "outputs": [],
   "source": [
    "incorrect_gt_true_idxs = torch.where(((outputs.argmax(dim=-1) != targets)) * (targets==0))[0]\n",
    "incorrect_gt_false_idxs = torch.where(((outputs.argmax(dim=-1) != targets)) * (targets==1))[0]\n",
    "correct_gt_true_idxs = torch.where(((outputs.argmax(dim=-1) == targets)) * (targets==0))[0]\n",
    "correct_gt_false_idxs = torch.where(((outputs.argmax(dim=-1) == targets)) * (targets==1))[0]\n",
    "\n",
    "incorrect_gt_false_probs = all_halt_probs[incorrect_gt_false_idxs]\n",
    "incorrect_gt_true_probs = all_halt_probs[incorrect_gt_true_idxs]\n",
    "correct_gt_false_probs = all_halt_probs[correct_gt_false_idxs]\n",
    "correct_gt_true_probs = all_halt_probs[correct_gt_true_idxs]"
   ]
  },
  {
   "cell_type": "code",
   "execution_count": null,
   "id": "2c630c25",
   "metadata": {
    "hidden": true,
    "scrolled": true
   },
   "outputs": [],
   "source": [
    "num_steps_all = (all_halt_probs != 0).sum(dim=1)\n",
    "counts = Counter(num_steps_all.tolist())\n",
    "print(counts)\n",
    "num_steps, freq = zip(*counts.items())"
   ]
  },
  {
   "cell_type": "code",
   "execution_count": null,
   "id": "561b6f55",
   "metadata": {
    "hidden": true,
    "scrolled": true
   },
   "outputs": [],
   "source": [
    "plt.figure(figsize=(3,3))\n",
    "plt.bar(num_steps, freq)"
   ]
  },
  {
   "cell_type": "code",
   "execution_count": null,
   "id": "5161b72f",
   "metadata": {
    "hidden": true
   },
   "outputs": [],
   "source": [
    "correct_gt_true_steps4_idxs = torch.where(((outputs.argmax(dim=-1) == targets)) * (targets==0) * (num_steps_all == 4))[0]\n",
    "correct_gt_true_steps5_idxs = torch.where(((outputs.argmax(dim=-1) == targets)) * (targets==0) * (num_steps_all == 5))[0]\n",
    "correct_gt_false_steps4_idxs = torch.where(((outputs.argmax(dim=-1) == targets)) * (targets==1) * (num_steps_all == 4))[0]\n",
    "correct_gt_false_steps5_idxs = torch.where(((outputs.argmax(dim=-1) == targets)) * (targets==1) * (num_steps_all == 5))[0]"
   ]
  },
  {
   "cell_type": "code",
   "execution_count": null,
   "id": "a57643ad",
   "metadata": {
    "hidden": true
   },
   "outputs": [],
   "source": [
    "fig, axs = plt.subplots(2, 2, figsize=(6,6))\n",
    "\n",
    "num_steps_run = (incorrect_gt_true_probs != 0).sum(dim=1).numpy()\n",
    "num_steps, freq = zip(*Counter(num_steps_run.tolist()).items())\n",
    "axs[0,0].bar(num_steps, freq)\n",
    "axs[0,0].set_xlabel('Number of steps')\n",
    "axs[0,0].set_ylabel('Frequency')\n",
    "axs[0,0].set_title('GT True, Incorrect')\n",
    "print(Counter(num_steps_run.tolist()))\n",
    "\n",
    "num_steps_run = (incorrect_gt_false_probs != 0).sum(dim=1).numpy()\n",
    "num_steps, freq = zip(*Counter(num_steps_run.tolist()).items())\n",
    "axs[0, 1].bar(num_steps, freq)\n",
    "axs[0, 1].set_xlabel('Number of steps')\n",
    "axs[0, 1].set_ylabel('Frequency')\n",
    "axs[0, 1].set_title('GT False, Incorrect')\n",
    "print(Counter(num_steps_run.tolist()))\n",
    "\n",
    "num_steps_run = (correct_gt_true_probs != 0).sum(dim=1).numpy()\n",
    "num_steps, freq = zip(*Counter(num_steps_run.tolist()).items())\n",
    "axs[1, 0].bar(num_steps, freq)\n",
    "axs[1, 0].set_xlabel('Number of steps')\n",
    "axs[1, 0].set_ylabel('Frequency')\n",
    "axs[1, 0].set_title('GT True, Correct')\n",
    "print(Counter(num_steps_run.tolist()))\n",
    "\n",
    "num_steps_run = (correct_gt_false_probs != 0).sum(dim=1).numpy()\n",
    "num_steps, freq = zip(*Counter(num_steps_run.tolist()).items())\n",
    "axs[1, 1].bar(num_steps, freq)\n",
    "axs[1, 1].set_xlabel('Number of steps')\n",
    "axs[1, 1].set_ylabel('Frequency')\n",
    "axs[1, 1].set_title('GT False, Correct')\n",
    "print(Counter(num_steps_run.tolist()))\n"
   ]
  },
  {
   "cell_type": "code",
   "execution_count": null,
   "id": "64db6c2a",
   "metadata": {
    "hidden": true
   },
   "outputs": [],
   "source": [
    "all_images = []\n",
    "for x in tqdm(val_loader):\n",
    "    inputs, _ = x\n",
    "    all_images.append(inputs)\n",
    "all_images = torch.cat(all_images, dim=0)\n",
    "all_images = all_images[:, 0, :, :]"
   ]
  },
  {
   "cell_type": "code",
   "execution_count": null,
   "id": "a03caab4",
   "metadata": {
    "hidden": true
   },
   "outputs": [],
   "source": [
    "sampled_gt_true_steps4_idxs = np.random.choice(correct_gt_true_steps4_idxs, size=10, replace=False)\n",
    "sampled_gt_true_steps5_idxs = np.random.choice(correct_gt_true_steps5_idxs, size=10, replace=False)\n",
    "sampled_gt_false_steps4_idxs = np.random.choice(correct_gt_false_steps4_idxs, size=10, replace=False)\n",
    "sampled_gt_false_steps5_idxs = np.random.choice(correct_gt_false_steps5_idxs, size=10, replace=False)"
   ]
  },
  {
   "cell_type": "code",
   "execution_count": null,
   "id": "09ae1b1c",
   "metadata": {
    "hidden": true,
    "scrolled": true
   },
   "outputs": [],
   "source": [
    "fig = plt.figure(figsize=(20,20))\n",
    "for idx, x in enumerate(all_images[sampled_gt_true_steps4_idxs]):\n",
    "    fig.add_subplot(4,5,idx+1)\n",
    "    plt.imshow(x)\n",
    "for idx, x in enumerate(all_images[sampled_gt_true_steps5_idxs]):\n",
    "    fig.add_subplot(4,5,idx+11)\n",
    "    plt.imshow(x)"
   ]
  },
  {
   "cell_type": "markdown",
   "id": "c2e0e977",
   "metadata": {
    "heading_collapsed": true,
    "jp-MarkdownHeadingCollapsed": true,
    "tags": []
   },
   "source": [
    "## Model 9 tested on Contour length 14 data; and vice versa"
   ]
  },
  {
   "cell_type": "code",
   "execution_count": null,
   "id": "d21d76d7",
   "metadata": {
    "hidden": true
   },
   "outputs": [],
   "source": [
    "cmd = 'train.py -cfg dalernn-t-12-gate-ln-relu -nl 3 --doEntropyThresholding 0 --returnValidOutput 0 --tau 0.01 --epochs 5 -b 256 --lr 1e-4 --rank 0 --world-size 1 --gpu 0 -wd 0 --in-res 160 --expname temp1 --seed 13'\n",
    "args = parser.parse_args(shlex.split(cmd))\n",
    "args.cfg = load_cfg(args)\n",
    "args.cfg['nlayers'] = args.nlayers\n",
    "args.cfg['in_res'] = args.in_res\n",
    "\n",
    "# Data for 9 lengths\n",
    "# args.data = '/mnt/cube/projects/contour_integration/pathfinder_full/curv_contour_length_9'\n",
    "# Data for 14 lengths\n",
    "args.data = '/home/vveeraba/src/pathfinder_full/curv_contour_length_14'\n",
    "\n",
    "# Data loading code\n",
    "traindir = os.path.join(args.data, 'train')\n",
    "valdir = os.path.join(args.data, 'val')\n",
    "\n",
    "# Load val data\n",
    "val_loader = torch.utils.data.DataLoader(\n",
    "        datasets.ImageFolder(valdir, transforms.Compose([\n",
    "            transforms.Resize(args.in_res),\n",
    "            transforms.ToTensor(),\n",
    "        ])),\n",
    "        batch_size=args.batch_size, shuffle=False,\n",
    "        num_workers=args.workers, pin_memory=True)"
   ]
  },
  {
   "cell_type": "code",
   "execution_count": null,
   "id": "1f42c83e",
   "metadata": {
    "hidden": true,
    "scrolled": true
   },
   "outputs": [],
   "source": [
    "# Load existing checkpoint\n",
    "print(\"=> loading checkpoint '{}'\".format(args.resume))\n",
    "# Map model to be loaded to specified single gpu.\n",
    "loc = 'cuda:0'\n",
    "\n",
    "# Model for 9 lengths\n",
    "checkpoint_file = 'ckpt_iclr/curv_contour_length_9/dalernn_gate_ln_relu/temp1_ksvdcd_seed_13/pathfinder_checkpoint_dalernn_gate_ln_relu_epoch_19.pth'\n",
    "# Model for 14 lengths\n",
    "# checkpoint_file = 'ckpt_iclr/curv_contour_length_14/dalernn_gate_ln_relu/act_seed_13/pathfinder_checkpoint_best_dalernn_gate_ln_relu.pth'\n",
    "\n",
    "\n",
    "checkpoint = torch.load(checkpoint_file, map_location=loc)\n",
    "# best_acc1 = checkpoint['val_acc1']\n",
    "# create model\n",
    "num_classes = 2\n",
    "args.cfg = create_config(args.cfg)\n",
    "model = BaseModel(args.cfg, args)\n",
    "model_name = args.cfg.name  # + str(args.cfg.nlayers)\n",
    "args.model_name = model_name\n",
    "model.cuda()\n",
    "model.load_state_dict(checkpoint['model'])\n",
    "model.rnn.total_step_count = 10e7\n",
    "\n",
    "criterion = nn.CrossEntropyLoss().cuda(args.gpu)\n",
    "optimizer = torch.optim.Adam(model.parameters(), args.lr,\n",
    "                             # momentum=args.momentum,\n",
    "                             # weight_decay=args.weight_decay\n",
    "                             )\n",
    "optimizer.load_state_dict(checkpoint['optimizer'])"
   ]
  },
  {
   "cell_type": "code",
   "execution_count": null,
   "id": "724731db",
   "metadata": {
    "hidden": true,
    "scrolled": true
   },
   "outputs": [],
   "source": [
    "val_acc1, (outputs, all_halt_probs, ponder_costs, targets) = validate(val_loader, model, criterion, optimizer=None, epoch=None, args=args)"
   ]
  },
  {
   "cell_type": "code",
   "execution_count": null,
   "id": "3a95e09e",
   "metadata": {
    "hidden": true
   },
   "outputs": [],
   "source": [
    "plt.figure(figsize=(10,2))\n",
    "means = all_halt_probs.mean(axis=0)\n",
    "stddevs = all_halt_probs.std(axis=0)\n",
    "plt.plot(range(1,13), means)\n",
    "# plt.errorbar(range(1,13), means, yerr=stddevs)\n",
    "plt.fill_between(range(1,13), means-stddevs, means+stddevs,\n",
    "    alpha=0.5, edgecolor='#CC4F1B', facecolor='#FF9848')\n",
    "plt.xticks(range(1, 13))\n",
    "plt.title('(Approx) Contribution of output by each timestep')\n",
    "\n",
    "plt.figure(figsize=(10,2))\n",
    "gt_true_idxs = torch.where(targets == 0)[0]\n",
    "means = all_halt_probs[gt_true_idxs].mean(axis=0)\n",
    "stddevs = all_halt_probs[gt_true_idxs].std(axis=0)\n",
    "plt.plot(range(1,13), means)\n",
    "# plt.errorbar(range(1,13), means, yerr=stddevs)\n",
    "plt.fill_between(range(1,13), means-stddevs, means+stddevs,\n",
    "    alpha=0.5, edgecolor='#CC4F1B', facecolor='#FF9848')\n",
    "plt.xticks(range(1, 13))\n",
    "plt.title('(Approx) Contribution of output by each timestep, GT True')\n",
    "\n",
    "plt.figure(figsize=(10,2))\n",
    "gt_false_idxs = torch.where(targets == 1)[0]\n",
    "means = all_halt_probs[gt_false_idxs].mean(axis=0)\n",
    "stddevs = all_halt_probs[gt_false_idxs].std(axis=0)\n",
    "plt.plot(range(1,13), means)\n",
    "# plt.errorbar(range(1,13), means, yerr=stddevs)\n",
    "plt.fill_between(range(1,13), means-stddevs, means+stddevs,\n",
    "    alpha=0.5, edgecolor='#CC4F1B', facecolor='#FF9848')\n",
    "plt.xticks(range(1, 13))\n",
    "plt.title('(Approx) Contribution of output by each timestep, GT False')"
   ]
  },
  {
   "cell_type": "code",
   "execution_count": null,
   "id": "52ca4470",
   "metadata": {
    "hidden": true
   },
   "outputs": [],
   "source": [
    "incorrect_gt_true_idxs = torch.where(((outputs.argmax(dim=-1) != targets)) * (targets==0))[0]\n",
    "incorrect_gt_false_idxs = torch.where(((outputs.argmax(dim=-1) != targets)) * (targets==1))[0]\n",
    "correct_gt_true_idxs = torch.where(((outputs.argmax(dim=-1) == targets)) * (targets==0))[0]\n",
    "correct_gt_false_idxs = torch.where(((outputs.argmax(dim=-1) == targets)) * (targets==1))[0]\n",
    "\n",
    "incorrect_gt_false_probs = all_halt_probs[incorrect_gt_false_idxs]\n",
    "incorrect_gt_true_probs = all_halt_probs[incorrect_gt_true_idxs]\n",
    "correct_gt_false_probs = all_halt_probs[correct_gt_false_idxs]\n",
    "correct_gt_true_probs = all_halt_probs[correct_gt_true_idxs]"
   ]
  },
  {
   "cell_type": "code",
   "execution_count": null,
   "id": "cec869d4",
   "metadata": {
    "hidden": true,
    "scrolled": true
   },
   "outputs": [],
   "source": [
    "num_steps_all = (all_halt_probs != 0).sum(dim=1)\n",
    "counts = Counter(num_steps_all.tolist())\n",
    "print(counts)\n",
    "num_steps, freq = zip(*counts.items())"
   ]
  },
  {
   "cell_type": "code",
   "execution_count": null,
   "id": "ece69731",
   "metadata": {
    "hidden": true
   },
   "outputs": [],
   "source": [
    "plt.figure(figsize=(3,3))\n",
    "plt.bar(num_steps, freq)"
   ]
  },
  {
   "cell_type": "code",
   "execution_count": null,
   "id": "264d74a0",
   "metadata": {
    "hidden": true
   },
   "outputs": [],
   "source": [
    "correct_gt_true_steps4_idxs = torch.where(((outputs.argmax(dim=-1) == targets)) * (targets==0) * (num_steps_all == 4))[0]\n",
    "correct_gt_true_steps5_idxs = torch.where(((outputs.argmax(dim=-1) == targets)) * (targets==0) * (num_steps_all == 5))[0]\n",
    "correct_gt_false_steps4_idxs = torch.where(((outputs.argmax(dim=-1) == targets)) * (targets==1) * (num_steps_all == 4))[0]\n",
    "correct_gt_false_steps5_idxs = torch.where(((outputs.argmax(dim=-1) == targets)) * (targets==1) * (num_steps_all == 5))[0]"
   ]
  },
  {
   "cell_type": "code",
   "execution_count": null,
   "id": "14fec589",
   "metadata": {
    "hidden": true
   },
   "outputs": [],
   "source": [
    "fig, axs = plt.subplots(2, 2, figsize=(6,6))\n",
    "\n",
    "num_steps_run = (incorrect_gt_true_probs != 0).sum(dim=1).numpy()\n",
    "num_steps, freq = zip(*Counter(num_steps_run.tolist()).items())\n",
    "axs[0,0].bar(num_steps, freq)\n",
    "axs[0,0].set_xlabel('Number of steps')\n",
    "axs[0,0].set_ylabel('Frequency')\n",
    "axs[0,0].set_title('GT True, Incorrect')\n",
    "print(Counter(num_steps_run.tolist()))\n",
    "\n",
    "num_steps_run = (incorrect_gt_false_probs != 0).sum(dim=1).numpy()\n",
    "num_steps, freq = zip(*Counter(num_steps_run.tolist()).items())\n",
    "axs[0, 1].bar(num_steps, freq)\n",
    "axs[0, 1].set_xlabel('Number of steps')\n",
    "axs[0, 1].set_ylabel('Frequency')\n",
    "axs[0, 1].set_title('GT False, Incorrect')\n",
    "print(Counter(num_steps_run.tolist()))\n",
    "\n",
    "num_steps_run = (correct_gt_true_probs != 0).sum(dim=1).numpy()\n",
    "num_steps, freq = zip(*Counter(num_steps_run.tolist()).items())\n",
    "axs[1, 0].bar(num_steps, freq)\n",
    "axs[1, 0].set_xlabel('Number of steps')\n",
    "axs[1, 0].set_ylabel('Frequency')\n",
    "axs[1, 0].set_title('GT True, Correct')\n",
    "print(Counter(num_steps_run.tolist()))\n",
    "\n",
    "num_steps_run = (correct_gt_false_probs != 0).sum(dim=1).numpy()\n",
    "num_steps, freq = zip(*Counter(num_steps_run.tolist()).items())\n",
    "axs[1, 1].bar(num_steps, freq)\n",
    "axs[1, 1].set_xlabel('Number of steps')\n",
    "axs[1, 1].set_ylabel('Frequency')\n",
    "axs[1, 1].set_title('GT False, Correct')\n",
    "print(Counter(num_steps_run.tolist()))\n"
   ]
  },
  {
   "cell_type": "code",
   "execution_count": null,
   "id": "36f8c2b4",
   "metadata": {
    "hidden": true
   },
   "outputs": [],
   "source": [
    "all_images = []\n",
    "for x in tqdm(val_loader):\n",
    "    inputs, _ = x\n",
    "    all_images.append(inputs)\n",
    "all_images = torch.cat(all_images, dim=0)\n",
    "all_images = all_images[:, 0, :, :]"
   ]
  },
  {
   "cell_type": "code",
   "execution_count": null,
   "id": "3a9cc376",
   "metadata": {
    "hidden": true
   },
   "outputs": [],
   "source": [
    "sampled_gt_true_steps4_idxs = np.random.choice(correct_gt_true_steps4_idxs, size=10, replace=False)\n",
    "sampled_gt_true_steps5_idxs = np.random.choice(correct_gt_true_steps5_idxs, size=10, replace=False)\n",
    "sampled_gt_false_steps4_idxs = np.random.choice(correct_gt_false_steps4_idxs, size=10, replace=False)\n",
    "sampled_gt_false_steps5_idxs = np.random.choice(correct_gt_false_steps5_idxs, size=10, replace=False)"
   ]
  },
  {
   "cell_type": "code",
   "execution_count": null,
   "id": "64d34726",
   "metadata": {
    "hidden": true,
    "scrolled": true
   },
   "outputs": [],
   "source": [
    "fig = plt.figure(figsize=(20,20))\n",
    "for idx, x in enumerate(all_images[sampled_gt_true_steps4_idxs]):\n",
    "    fig.add_subplot(4,5,idx+1)\n",
    "    plt.imshow(x)\n",
    "for idx, x in enumerate(all_images[sampled_gt_true_steps5_idxs]):\n",
    "    fig.add_subplot(4,5,idx+11)\n",
    "    plt.imshow(x)"
   ]
  },
  {
   "cell_type": "markdown",
   "id": "d22dc46a",
   "metadata": {},
   "source": [
    "## Combined Contour lengths 9 + 14 + 18"
   ]
  },
  {
   "cell_type": "markdown",
   "id": "b1577bcf",
   "metadata": {
    "heading_collapsed": true,
    "jp-MarkdownHeadingCollapsed": true,
    "tags": []
   },
   "source": [
    "### First create a joint dataset"
   ]
  },
  {
   "cell_type": "code",
   "execution_count": 4,
   "id": "52fbe530",
   "metadata": {
    "hidden": true,
    "scrolled": true
   },
   "outputs": [
    {
     "name": "stdout",
     "output_type": "stream",
     "text": [
      "This is a combined dataset of the 9, 14 and 18 contour length datasets. Uniform random sampling done to balance the sizes.\n",
      "Simple concatenation in that same order, so train val and test should be \n",
      "in [(9's train/val/test) (14's train/val/test) (18's train/val/test)] order.\n",
      "\n",
      "9 and 14 are same size, so simply concatenated. 18 is larger, so both train and val exactly half are sampled. \n",
      "\n",
      "Sizes of the original datasets:\n",
      "\n",
      "9\n",
      "train: 349976\n",
      "val: 99992\n",
      "test: 50000\n",
      "num folders positive = 24 \n",
      "num folders negative = 24\n",
      "\n",
      "14\n",
      "train: 349976 \n",
      "val: 99992\n",
      "test: 50000\n",
      "num folders positive = 24\n",
      "num folders negative = 24\n",
      "\n",
      "18\n",
      "train: 700k\n",
      "val: 200k\n",
      "test: 100k\n",
      "num folders positive = 20\n",
      "num folders positive = 20\n",
      "\n",
      "new size (subsampled):\n",
      "train : 349976\n",
      "val: 99992\n",
      "test: 50000\n"
     ]
    }
   ],
   "source": [
    "cat /mnt/cube/projects/contour_integration/pathfinder_full/curv_contour_length_combined/README.txt"
   ]
  },
  {
   "cell_type": "code",
   "execution_count": 5,
   "id": "a118535e",
   "metadata": {
    "hidden": true
   },
   "outputs": [],
   "source": [
    "data9 = '/mnt/cube/projects/contour_integration/pathfinder_full/curv_contour_length_9'\n",
    "data14 = '/home/vveeraba/src/pathfinder_full/curv_contour_length_14'\n",
    "data18 = '/home/yutang/curv_contour_length_18_1M'\n",
    "data_combined = '/mnt/cube/projects/contour_integration/pathfinder_full/curv_contour_length_combined/'\n",
    "\n",
    "# 24 folders in 9, 24 folders in 14, 20 folders in 18\n",
    "# so combined will have 68 folders total\n"
   ]
  },
  {
   "cell_type": "code",
   "execution_count": null,
   "id": "010c1bb9",
   "metadata": {
    "hidden": true
   },
   "outputs": [],
   "source": [
    "ls /mnt/cube/projects/contour_integration/pathfinder_full/curv_contour_length_combined/curv_contour_length_combined"
   ]
  },
  {
   "cell_type": "code",
   "execution_count": null,
   "id": "129e1b9b",
   "metadata": {
    "hidden": true
   },
   "outputs": [],
   "source": [
    "import re\n",
    "regex = r\"(\\/imgs\\/)(.*)(\\/sample.*)\""
   ]
  },
  {
   "cell_type": "code",
   "execution_count": null,
   "id": "de90ab4e",
   "metadata": {
    "hidden": true
   },
   "outputs": [],
   "source": [
    "!head -10 val.txt"
   ]
  },
  {
   "cell_type": "code",
   "execution_count": null,
   "id": "df6a5505",
   "metadata": {
    "hidden": true
   },
   "outputs": [],
   "source": [
    "with open('train.txt', 'r') as filein, open('new_train.txt', 'w') as fileout:\n",
    "    for test_str in filein:\n",
    "        test_str = test_str.strip()\n",
    "        matches = list(re.finditer(regex, test_str, re.MULTILINE))\n",
    "        assert len(matches) == 1\n",
    "        folder_num = int(test_str[matches[0].start(2):matches[0].end(2)])\n",
    "        test_str = test_str.replace(str(folder_num), str(folder_num + 0))\n",
    "        test_str = test_str.replace('length_9', 'length_combined')\n",
    "        fileout.write(test_str + '\\n')"
   ]
  },
  {
   "cell_type": "code",
   "execution_count": null,
   "id": "538afeaf",
   "metadata": {
    "hidden": true
   },
   "outputs": [],
   "source": [
    "!tail -5 new_train.txt"
   ]
  },
  {
   "cell_type": "code",
   "execution_count": null,
   "id": "d8255126",
   "metadata": {
    "hidden": true
   },
   "outputs": [],
   "source": [
    "!wc -l new_val.txt"
   ]
  },
  {
   "cell_type": "code",
   "execution_count": null,
   "id": "496666f6",
   "metadata": {
    "hidden": true
   },
   "outputs": [],
   "source": [
    "!cp /mnt/cube/projects/contour_integration/pathfinder_full/curv_contour_length_9/train.txt ./train9.txt\n",
    "!cp /mnt/cube/projects/contour_integration/pathfinder_full/curv_contour_length_9/val.txt ./val9.txt\n",
    "!cp /mnt/cube/projects/contour_integration/pathfinder_full/curv_contour_length_9/test.txt ./test9.txt\n",
    "!cp /home/vveeraba/src/pathfinder_full/curv_contour_length_14/train.txt ./train14.txt\n",
    "!cp /home/vveeraba/src/pathfinder_full/curv_contour_length_14/val.txt ./val14.txt\n",
    "!cp /home/vveeraba/src/pathfinder_full/curv_contour_length_14/test.txt ./test14.txt\n",
    "!cp /home/yutang/curv_contour_length_18_1M/train.txt ./train18.txt\n",
    "!cp /home/yutang/curv_contour_length_18_1M/val.txt ./val18.txt\n",
    "!cp /home/yutang/curv_contour_length_18_1M/test.txt ./test18.txt"
   ]
  },
  {
   "cell_type": "code",
   "execution_count": null,
   "id": "6ab6025b",
   "metadata": {
    "hidden": true
   },
   "outputs": [],
   "source": [
    "for fold in ['train', 'val', 'test']:\n",
    "    with open('{}18.txt'.format(fold), 'r') as filein, open('new_{}.txt'.format(fold), 'a') as fileout:\n",
    "        for test_str in filein:\n",
    "            test_str = test_str.strip()\n",
    "            matches = list(re.finditer(regex, test_str, re.MULTILINE))\n",
    "            assert len(matches) == 1\n",
    "            folder_num = int(test_str[matches[0].start(2):matches[0].end(2)])\n",
    "            test_str = test_str.replace('imgs/' + str(folder_num), 'imgs/' + str(folder_num + 48))\n",
    "            test_str = test_str.replace('/home/AD/yutang/curv_contour_length_18_1M/curv_contour_length_18', '/mnt/cube/projects/contour_integration/pathfinder_full/curv_contour_length_combined/curv_contour_length_combined')\n",
    "#             test_str = test_str.replace('curv_contour_length_14', '/mnt/cube/projects/contour_integration/pathfinder_full/curv_contour_length_combined/curv_contour_length_combined')\n",
    "#             test_str = test_str.replace('curv_contour_length_9', 'curv_contour_length_combined')\n",
    "            fileout.write(test_str + '\\n')"
   ]
  },
  {
   "cell_type": "code",
   "execution_count": null,
   "id": "f8b55c03",
   "metadata": {
    "hidden": true
   },
   "outputs": [],
   "source": [
    "data = []\n",
    "with open('val.txt', 'r') as filein:\n",
    "    for line in filein:\n",
    "        data.append(line.strip())    "
   ]
  },
  {
   "cell_type": "code",
   "execution_count": null,
   "id": "e8eaf938",
   "metadata": {
    "hidden": true
   },
   "outputs": [],
   "source": [
    "to_keep = data[:99992 * 2]\n",
    "to_change = data[99992 * 2:]"
   ]
  },
  {
   "cell_type": "code",
   "execution_count": null,
   "id": "6b410557",
   "metadata": {
    "hidden": true
   },
   "outputs": [],
   "source": [
    "len(to_change)"
   ]
  },
  {
   "cell_type": "code",
   "execution_count": null,
   "id": "ece8eae0",
   "metadata": {
    "hidden": true
   },
   "outputs": [],
   "source": [
    "to_change_pos = [x for x in to_change if 'neg' not in x]\n",
    "to_change_neg = [x for x in to_change if 'neg' in x]"
   ]
  },
  {
   "cell_type": "code",
   "execution_count": null,
   "id": "58d0907d",
   "metadata": {
    "hidden": true
   },
   "outputs": [],
   "source": [
    "randomly_sampled_pos = np.random.choice(100000, size=99992//2, replace=False)\n",
    "randomly_sampled_neg = np.random.choice(100000, size=99992//2, replace=False)"
   ]
  },
  {
   "cell_type": "code",
   "execution_count": null,
   "id": "807d00fe",
   "metadata": {
    "hidden": true
   },
   "outputs": [],
   "source": [
    "subsampled_pos = [to_change_pos[x] for x in randomly_sampled_pos]\n",
    "subsampled_neg = [to_change_neg[x] for x in randomly_sampled_neg]"
   ]
  },
  {
   "cell_type": "code",
   "execution_count": null,
   "id": "3cbbe0c2",
   "metadata": {
    "hidden": true
   },
   "outputs": [],
   "source": [
    "to_keep.extend(subsampled_pos)\n",
    "to_keep.extend(subsampled_neg)"
   ]
  },
  {
   "cell_type": "code",
   "execution_count": null,
   "id": "9585c97b",
   "metadata": {
    "hidden": true
   },
   "outputs": [],
   "source": [
    "with open('balanced_val.txt', 'w') as fileout:\n",
    "    for x in to_keep:\n",
    "        fileout.write(x + '\\n')    "
   ]
  },
  {
   "cell_type": "code",
   "execution_count": 41,
   "id": "09e6046f",
   "metadata": {
    "hidden": true,
    "scrolled": true
   },
   "outputs": [
    {
     "name": "stdout",
     "output_type": "stream",
     "text": [
      "/mnt/sphere/projects/srini/pathfinder/data/contour_length_24/val/curv_contour_length_24_neg/imgs\n"
     ]
    }
   ],
   "source": [
    "cd curv_contour_length_24_neg/imgs/"
   ]
  },
  {
   "cell_type": "code",
   "execution_count": 43,
   "id": "ab614e97",
   "metadata": {
    "hidden": true
   },
   "outputs": [
    {
     "name": "stdout",
     "output_type": "stream",
     "text": [
      "/mnt/sphere/projects/srini/pathfinder/data/contour_length_24/val/curv_contour_length_24_neg/imgs/1\n"
     ]
    }
   ],
   "source": [
    "cd 1"
   ]
  },
  {
   "cell_type": "code",
   "execution_count": 46,
   "id": "6aaa7012",
   "metadata": {
    "hidden": true
   },
   "outputs": [],
   "source": [
    "all_filenames = os.listdir('./')    "
   ]
  },
  {
   "cell_type": "code",
   "execution_count": 45,
   "id": "b1ce2679",
   "metadata": {
    "hidden": true
   },
   "outputs": [],
   "source": [
    "for filename in all_filenames:\n",
    "    os.rename(filename, '1_{}'.format(filename))"
   ]
  },
  {
   "cell_type": "code",
   "execution_count": 30,
   "id": "b729b081",
   "metadata": {
    "hidden": true
   },
   "outputs": [],
   "source": [
    "import shutil"
   ]
  },
  {
   "cell_type": "code",
   "execution_count": 50,
   "id": "3b68f87d",
   "metadata": {
    "hidden": true
   },
   "outputs": [
    {
     "name": "stdout",
     "output_type": "stream",
     "text": [
      "/mnt/sphere/projects/srini/pathfinder/data/contour_length_24/val\n"
     ]
    }
   ],
   "source": [
    "cd ../"
   ]
  },
  {
   "cell_type": "code",
   "execution_count": 52,
   "id": "ee54292a",
   "metadata": {
    "hidden": true,
    "scrolled": true
   },
   "outputs": [],
   "source": [
    "path = 'curv_contour_length_24_neg/imgs/1/'\n",
    "for filename in os.listdir(path):\n",
    "    shutil.move(os.path.join(path, filename), 'curv_contour_length_24_neg/{}'.format(filename))"
   ]
  },
  {
   "cell_type": "markdown",
   "id": "efeb6c33",
   "metadata": {},
   "source": [
    "### Evaluate model"
   ]
  },
  {
   "cell_type": "code",
   "execution_count": 2,
   "id": "26e3f748",
   "metadata": {},
   "outputs": [],
   "source": [
    "# cmd = 'train.py -cfg hgru -nl 3 --doEntropyThresholding 0 --returnValidOutput 0 --tau 0.01 --epochs 5 -b 256 --lr 1e-4 --rank 0 --world-size 1 --gpu 3 -wd 0 --in-res 160 --expname temp1 --seed 14 --useACT 0'\n",
    "cmd = 'train.py -cfg dalernn-t-12-gate-ln-relu -nl 3 --doEntropyThresholding 0 --returnValidOutput 0 --tau 0.01 --epochs 5 -b 256 --lr 1e-4 --rank 0 --world-size 1 --gpu 3 -wd 0 --in-res 160 --expname temp1 --seed 13'\n",
    "# cmd = 'train.py -cfg gru-relu -nl 3 --doEntropyThresholding 0 --returnValidOutput 0 --tau 0.01 --epochs 20 -b 256 --lr 1e-4 --rank 0 --world-size 1 --gpu 3 -wd 0 --in-res 160 --expname convGRUwithACTLN --seed 14'\n",
    "# cmd = 'train.py -cfg dtnet -nl 3 --doEntropyThresholding 0 --returnValidOutput 0 --tau 0.01 --epochs 5 -b 256 --lr 1e-4 --rank 0 --world-size 1 --gpu 3 -wd 0 --in-res 160 --expname dtnet --seed 14'\n",
    "args = parser.parse_args(shlex.split(cmd))\n",
    "args.cfg = load_cfg(args)\n",
    "args.cfg['nlayers'] = args.nlayers\n",
    "args.cfg['in_res'] = args.in_res\n",
    "\n",
    "args.data = '/mnt/cube/projects/contour_integration/pathfinder_full/curv_contour_length_combined'\n",
    "# args.data = './data/contour_length_21/'\n",
    "# args.data = './data/contour_length_24/'\n",
    "\n",
    "# Data loading code\n",
    "traindir = os.path.join(args.data, 'train')\n",
    "valdir = os.path.join(args.data, 'val')"
   ]
  },
  {
   "cell_type": "code",
   "execution_count": 3,
   "id": "61520662",
   "metadata": {},
   "outputs": [],
   "source": [
    "# Load val data\n",
    "val_dataset = datasets.ImageFolder(valdir, transforms.Compose([\n",
    "            transforms.Resize(args.in_res),\n",
    "            transforms.ToTensor(),\n",
    "        ]))"
   ]
  },
  {
   "cell_type": "code",
   "execution_count": 4,
   "id": "a53954d9",
   "metadata": {},
   "outputs": [],
   "source": [
    "val_loader = torch.utils.data.DataLoader(\n",
    "        val_dataset,\n",
    "        batch_size=args.batch_size, shuffle=False,\n",
    "        num_workers=args.workers, pin_memory=True)"
   ]
  },
  {
   "cell_type": "code",
   "execution_count": 5,
   "id": "674b4903",
   "metadata": {},
   "outputs": [],
   "source": [
    "pos9 = torch.arange(0, 99992//2)\n",
    "pos14 = torch.arange(99992//2, 99992)\n",
    "pos18 = torch.arange(99992, 99992 + 99992 // 2)\n",
    "\n",
    "neg9 = pos9 + (99992 * 3) // 2\n",
    "neg14 = pos14 + (99992 * 3) // 2\n",
    "neg18 = pos18 + (99992 * 3) // 2\n",
    "\n",
    "contour_length9_idxs = torch.cat([pos9, neg9])\n",
    "contour_length14_idxs = torch.cat([pos14, neg14])\n",
    "contour_length18_idxs = torch.cat([pos18, neg18])"
   ]
  },
  {
   "cell_type": "code",
   "execution_count": 6,
   "id": "a1e42864",
   "metadata": {
    "scrolled": true
   },
   "outputs": [
    {
     "name": "stdout",
     "output_type": "stream",
     "text": [
      "=> loading checkpoint ''\n"
     ]
    }
   ],
   "source": [
    "# Load existing checkpoint\n",
    "print(\"=> loading checkpoint '{}'\".format(args.resume))\n",
    "# Map model to be loaded to specified single gpu.\n",
    "loc = 'cuda:3'\n",
    "torch.cuda.set_device(args.gpu)\n",
    "\n",
    "# checkpoint_file = 'ckpt_iclr/curv_contour_length_combined/gru_relu/seed42_wforya_seed_42/pathfinder_checkpoint_best_gru_relu.pth'\n",
    "checkpoint_file = 'ckpt_iclr/curv_contour_length_combined/dalernn_gate_ln_relu/seed66_jzyppp_seed_66/pathfinder_checkpoint_best_dalernn_gate_ln_relu.pth'\n",
    "# checkpoint_file = 'ckpt_iclr/curv_contour_length_combined/gru_relu/seed99ACTdelayed_fcwvas_seed_99/pathfinder_checkpoint_best_gru_relu.pth'\n",
    "\n",
    "\n",
    "# checkpoint_file = 'ckpt_iclr/curv_contour_length_combined/dalernn_gate_ln_relu/balanced_nwffum_seed_14/pathfinder_checkpoint_best_dalernn_gate_ln_relu.pth'\n",
    "# checkpoint_file = 'ckpt_iclr/curv_contour_length_combined/gru_relu/convGRUwithACTLN_saaxkb_seed_14/pathfinder_checkpoint_best_gru_relu.pth'\n",
    "# checkpoint_file = 'ckpt_iclr/curv_contour_length_combined/gru_relu/convGRUparamsFixed_qvudhb_seed_14/pathfinder_checkpoint_best_gru_relu.pth'\n",
    "\n",
    "# These are the non-ACT versions\n",
    "# checkpoint_file = 'ckpt_iclr/curv_contour_length_combined/hgru/hGRU_zdzwza_seed_14/pathfinder_checkpoint_best_hgru.pth'\n",
    "# checkpoint_file = 'ckpt_iclr/curv_contour_length_combined/dalernn_gate_ln_relu/noACT_nqqjgj_seed_14/pathfinder_checkpoint_best_dalernn_gate_ln_relu.pth'\n",
    "# checkpoint_file = 'ckpt_iclr/curv_contour_length_combined/gru_relu/convGRUnoACT_grjvyg_seed_14/pathfinder_checkpoint_gru_relu.pth'\n",
    "# checkpoint_file = 'ckpt_iclr/curv_contour_length_combined/dtnet/dtnet_tkabsb_seed_14/pathfinder_checkpoint_best_dtnet.pth'\n",
    "\n",
    "checkpoint = torch.load(checkpoint_file, map_location=loc)\n",
    "# best_acc1 = checkpoint['val_acc1']\n",
    "# create model\n",
    "num_classes = 2\n",
    "args.cfg = create_config(args.cfg)"
   ]
  },
  {
   "cell_type": "code",
   "execution_count": 7,
   "id": "8e7ab4d7",
   "metadata": {
    "scrolled": true
   },
   "outputs": [
    {
     "name": "stdout",
     "output_type": "stream",
     "text": [
      "12 steps of recurrence\n",
      "Using interneuron\n"
     ]
    }
   ],
   "source": [
    "model = BaseModel(args.cfg, args)\n",
    "model_name = args.cfg.name  # + str(args.cfg.nlayers)\n",
    "args.model_name = model_name\n",
    "model.cuda(args.gpu)\n",
    "model.load_state_dict(checkpoint['model'])\n",
    "model.rnn.total_step_count = 80000\n",
    "\n",
    "# model.rnn.timesteps = 20\n",
    "\n",
    "criterion = nn.CrossEntropyLoss().cuda(args.gpu)\n",
    "optimizer = torch.optim.Adam(model.parameters(), args.lr,\n",
    "                             # momentum=args.momentum,\n",
    "                             # weight_decay=args.weight_decay\n",
    "                             )\n",
    "optimizer.load_state_dict(checkpoint['optimizer'])"
   ]
  },
  {
   "cell_type": "code",
   "execution_count": 10,
   "id": "e4248293",
   "metadata": {},
   "outputs": [
    {
     "data": {
      "text/plain": [
       "160653"
      ]
     },
     "execution_count": 10,
     "metadata": {},
     "output_type": "execute_result"
    }
   ],
   "source": [
    "sum(p.numel() for p in model.parameters() if p.requires_grad)"
   ]
  },
  {
   "cell_type": "code",
   "execution_count": 8,
   "id": "3ef9f76d",
   "metadata": {
    "scrolled": true
   },
   "outputs": [
    {
     "name": "stdout",
     "output_type": "stream",
     "text": [
      "Test: [   0/1172]\tTime  2.045 ( 2.045)\tLoss 3.7727e-03 (3.7727e-03)\tAcc@1 100.00 (100.00)\n",
      "Test: [  10/1172]\tTime  0.201 ( 0.370)\tLoss 3.5953e-03 (3.7270e-03)\tAcc@1 100.00 (100.00)\n",
      "Test: [  20/1172]\tTime  0.203 ( 0.290)\tLoss 3.6271e-03 (3.6844e-03)\tAcc@1 100.00 (100.00)\n",
      "Test: [  30/1172]\tTime  0.202 ( 0.262)\tLoss 3.8754e-03 (3.6750e-03)\tAcc@1 100.00 (100.00)\n",
      "Test: [  40/1172]\tTime  0.203 ( 0.247)\tLoss 3.6710e-03 (3.6684e-03)\tAcc@1 100.00 (100.00)\n",
      "Test: [  50/1172]\tTime  0.203 ( 0.238)\tLoss 3.7399e-03 (3.6512e-03)\tAcc@1 100.00 (100.00)\n",
      "Test: [  60/1172]\tTime  0.201 ( 0.233)\tLoss 3.3122e-03 (3.6316e-03)\tAcc@1 100.00 (100.00)\n",
      "Test: [  70/1172]\tTime  0.202 ( 0.228)\tLoss 3.5676e-03 (3.6319e-03)\tAcc@1 100.00 (100.00)\n",
      "Test: [  80/1172]\tTime  0.202 ( 0.225)\tLoss 3.5491e-03 (3.6333e-03)\tAcc@1 100.00 (100.00)\n",
      "Test: [  90/1172]\tTime  0.202 ( 0.223)\tLoss 3.6955e-03 (3.6251e-03)\tAcc@1 100.00 (100.00)\n",
      "Test: [ 100/1172]\tTime  0.204 ( 0.221)\tLoss 3.5838e-03 (3.6215e-03)\tAcc@1 100.00 (100.00)\n",
      "Test: [ 110/1172]\tTime  0.202 ( 0.219)\tLoss 3.5412e-03 (3.6220e-03)\tAcc@1 100.00 (100.00)\n",
      "Test: [ 120/1172]\tTime  0.202 ( 0.218)\tLoss 3.4915e-03 (3.6242e-03)\tAcc@1 100.00 (100.00)\n",
      "Test: [ 130/1172]\tTime  0.204 ( 0.217)\tLoss 4.2815e-03 (3.6269e-03)\tAcc@1 100.00 (100.00)\n",
      "Test: [ 140/1172]\tTime  0.202 ( 0.216)\tLoss 4.3286e-03 (3.6871e-03)\tAcc@1 100.00 (100.00)\n",
      "Test: [ 150/1172]\tTime  0.203 ( 0.215)\tLoss 4.4705e-03 (3.7398e-03)\tAcc@1 100.00 (100.00)\n",
      "Test: [ 160/1172]\tTime  0.202 ( 0.214)\tLoss 4.2425e-03 (3.7792e-03)\tAcc@1 100.00 (100.00)\n",
      "Test: [ 170/1172]\tTime  0.204 ( 0.213)\tLoss 4.7543e-03 (3.8152e-03)\tAcc@1 100.00 (100.00)\n",
      "Test: [ 180/1172]\tTime  0.202 ( 0.213)\tLoss 4.0119e-03 (3.8446e-03)\tAcc@1 100.00 (100.00)\n",
      "Test: [ 190/1172]\tTime  0.206 ( 0.212)\tLoss 4.6678e-03 (3.8832e-03)\tAcc@1 100.00 (100.00)\n",
      "Test: [ 200/1172]\tTime  0.204 ( 0.212)\tLoss 4.0015e-03 (3.8933e-03)\tAcc@1 100.00 (100.00)\n",
      "Test: [ 210/1172]\tTime  0.205 ( 0.212)\tLoss 3.8629e-03 (3.8865e-03)\tAcc@1 100.00 (100.00)\n",
      "Test: [ 220/1172]\tTime  0.203 ( 0.211)\tLoss 3.6165e-03 (3.8805e-03)\tAcc@1 100.00 (100.00)\n",
      "Test: [ 230/1172]\tTime  0.204 ( 0.211)\tLoss 3.7457e-03 (3.8757e-03)\tAcc@1 100.00 (100.00)\n",
      "Test: [ 240/1172]\tTime  0.203 ( 0.211)\tLoss 3.7169e-03 (3.8705e-03)\tAcc@1 100.00 (100.00)\n",
      "Test: [ 250/1172]\tTime  0.204 ( 0.210)\tLoss 3.7614e-03 (3.8643e-03)\tAcc@1 100.00 (100.00)\n",
      "Test: [ 260/1172]\tTime  0.204 ( 0.210)\tLoss 3.6618e-03 (3.8589e-03)\tAcc@1 100.00 (100.00)\n",
      "Test: [ 270/1172]\tTime  0.205 ( 0.210)\tLoss 3.5180e-03 (3.8522e-03)\tAcc@1 100.00 (100.00)\n",
      "Test: [ 280/1172]\tTime  0.203 ( 0.210)\tLoss 3.6207e-03 (3.8503e-03)\tAcc@1 100.00 (100.00)\n",
      "Test: [ 290/1172]\tTime  0.204 ( 0.210)\tLoss 3.5638e-03 (3.8463e-03)\tAcc@1 100.00 (100.00)\n",
      "Test: [ 300/1172]\tTime  0.203 ( 0.209)\tLoss 3.7941e-03 (3.8405e-03)\tAcc@1 100.00 (100.00)\n",
      "Test: [ 310/1172]\tTime  0.204 ( 0.209)\tLoss 3.7158e-03 (3.8389e-03)\tAcc@1 100.00 (100.00)\n",
      "Test: [ 320/1172]\tTime  0.204 ( 0.209)\tLoss 3.6604e-03 (3.8379e-03)\tAcc@1 100.00 (100.00)\n",
      "Test: [ 330/1172]\tTime  0.204 ( 0.209)\tLoss 4.3985e-03 (3.8493e-03)\tAcc@1 100.00 (100.00)\n",
      "Test: [ 340/1172]\tTime  0.205 ( 0.209)\tLoss 4.8535e-03 (3.8759e-03)\tAcc@1 100.00 (100.00)\n",
      "Test: [ 350/1172]\tTime  0.204 ( 0.209)\tLoss 4.3662e-03 (3.8999e-03)\tAcc@1 100.00 (100.00)\n",
      "Test: [ 360/1172]\tTime  0.204 ( 0.209)\tLoss 4.6121e-03 (3.9283e-03)\tAcc@1 100.00 (100.00)\n",
      "Test: [ 370/1172]\tTime  0.203 ( 0.208)\tLoss 5.1709e-03 (3.9518e-03)\tAcc@1 100.00 (100.00)\n",
      "Test: [ 380/1172]\tTime  0.205 ( 0.208)\tLoss 4.3947e-03 (3.9696e-03)\tAcc@1 100.00 (100.00)\n",
      "Test: [ 390/1172]\tTime  0.206 ( 0.208)\tLoss 7.2267e-03 (3.9966e-03)\tAcc@1 100.00 (100.00)\n",
      "Test: [ 400/1172]\tTime  0.204 ( 0.208)\tLoss 7.7822e-03 (4.1117e-03)\tAcc@1 100.00 (100.00)\n",
      "Test: [ 410/1172]\tTime  0.204 ( 0.208)\tLoss 1.0981e-02 (4.2348e-03)\tAcc@1 100.00 (100.00)\n",
      "Test: [ 420/1172]\tTime  0.205 ( 0.208)\tLoss 9.2370e-03 (4.3492e-03)\tAcc@1 100.00 (100.00)\n",
      "Test: [ 430/1172]\tTime  0.205 ( 0.208)\tLoss 1.0208e-02 (4.4569e-03)\tAcc@1 100.00 (100.00)\n",
      "Test: [ 440/1172]\tTime  0.205 ( 0.208)\tLoss 8.9956e-03 (4.5555e-03)\tAcc@1 100.00 (100.00)\n",
      "Test: [ 450/1172]\tTime  0.204 ( 0.208)\tLoss 7.5740e-03 (4.6466e-03)\tAcc@1 100.00 (100.00)\n",
      "Test: [ 460/1172]\tTime  0.206 ( 0.208)\tLoss 8.3545e-03 (4.7363e-03)\tAcc@1 100.00 (100.00)\n",
      "Test: [ 470/1172]\tTime  0.205 ( 0.208)\tLoss 8.3654e-03 (4.8208e-03)\tAcc@1 100.00 (100.00)\n",
      "Test: [ 480/1172]\tTime  0.204 ( 0.208)\tLoss 7.7263e-03 (4.8949e-03)\tAcc@1 100.00 (100.00)\n",
      "Test: [ 490/1172]\tTime  0.204 ( 0.208)\tLoss 9.4835e-03 (4.9872e-03)\tAcc@1 100.00 (100.00)\n",
      "Test: [ 500/1172]\tTime  0.206 ( 0.208)\tLoss 7.7636e-03 (5.0532e-03)\tAcc@1 100.00 (100.00)\n",
      "Test: [ 510/1172]\tTime  0.206 ( 0.208)\tLoss 9.4162e-03 (5.1338e-03)\tAcc@1 100.00 (100.00)\n",
      "Test: [ 520/1172]\tTime  0.205 ( 0.207)\tLoss 9.2267e-03 (5.2322e-03)\tAcc@1 100.00 (100.00)\n",
      "Test: [ 530/1172]\tTime  0.206 ( 0.207)\tLoss 8.4709e-03 (5.3071e-03)\tAcc@1 100.00 (100.00)\n",
      "Test: [ 540/1172]\tTime  0.204 ( 0.207)\tLoss 9.0857e-03 (5.3731e-03)\tAcc@1 100.00 (100.00)\n",
      "Test: [ 550/1172]\tTime  0.205 ( 0.207)\tLoss 9.8273e-03 (5.4441e-03)\tAcc@1 100.00 (100.00)\n",
      "Test: [ 560/1172]\tTime  0.206 ( 0.207)\tLoss 9.1231e-03 (5.5122e-03)\tAcc@1 100.00 (100.00)\n",
      "Test: [ 570/1172]\tTime  0.204 ( 0.207)\tLoss 9.3023e-03 (5.5814e-03)\tAcc@1 100.00 (100.00)\n",
      "Test: [ 580/1172]\tTime  0.205 ( 0.207)\tLoss 9.1927e-03 (5.6504e-03)\tAcc@1 100.00 (100.00)\n",
      "Test: [ 590/1172]\tTime  0.206 ( 0.207)\tLoss 5.5613e+00 (5.3630e-02)\tAcc@1   0.00 ( 99.13)\n",
      "Test: [ 600/1172]\tTime  0.205 ( 0.207)\tLoss 5.5749e+00 (1.4559e-01)\tAcc@1   0.00 ( 97.49)\n",
      "Test: [ 610/1172]\tTime  0.204 ( 0.207)\tLoss 5.5696e+00 (2.3421e-01)\tAcc@1   0.00 ( 95.89)\n",
      "Test: [ 620/1172]\tTime  0.204 ( 0.207)\tLoss 5.5726e+00 (3.1992e-01)\tAcc@1   0.00 ( 94.35)\n",
      "Test: [ 630/1172]\tTime  0.206 ( 0.207)\tLoss 5.5631e+00 (4.0322e-01)\tAcc@1   0.00 ( 92.85)\n",
      "Test: [ 640/1172]\tTime  0.206 ( 0.207)\tLoss 5.5606e+00 (4.8365e-01)\tAcc@1   0.00 ( 91.40)\n",
      "Test: [ 650/1172]\tTime  0.205 ( 0.207)\tLoss 5.5558e+00 (5.6163e-01)\tAcc@1   0.00 ( 90.00)\n",
      "Test: [ 660/1172]\tTime  0.204 ( 0.207)\tLoss 5.5650e+00 (6.3740e-01)\tAcc@1   0.00 ( 88.64)\n",
      "Test: [ 670/1172]\tTime  0.205 ( 0.207)\tLoss 5.5869e+00 (7.1084e-01)\tAcc@1   0.00 ( 87.32)\n",
      "Test: [ 680/1172]\tTime  0.204 ( 0.207)\tLoss 5.5730e+00 (7.8218e-01)\tAcc@1   0.00 ( 86.03)\n",
      "Test: [ 690/1172]\tTime  0.206 ( 0.207)\tLoss 5.5849e+00 (8.5135e-01)\tAcc@1   0.00 ( 84.79)\n",
      "Test: [ 700/1172]\tTime  0.206 ( 0.207)\tLoss 5.5736e+00 (9.1860e-01)\tAcc@1   0.00 ( 83.58)\n",
      "Test: [ 710/1172]\tTime  0.205 ( 0.207)\tLoss 5.5511e+00 (9.8389e-01)\tAcc@1   0.00 ( 82.40)\n",
      "Test: [ 720/1172]\tTime  0.206 ( 0.207)\tLoss 5.3411e+00 (1.0462e+00)\tAcc@1   0.00 ( 81.26)\n",
      "Test: [ 730/1172]\tTime  0.205 ( 0.207)\tLoss 5.4723e+00 (1.1060e+00)\tAcc@1   0.00 ( 80.15)\n",
      "Test: [ 740/1172]\tTime  0.205 ( 0.207)\tLoss 5.4010e+00 (1.1643e+00)\tAcc@1   0.00 ( 79.07)\n",
      "Test: [ 750/1172]\tTime  0.206 ( 0.207)\tLoss 5.4129e+00 (1.2210e+00)\tAcc@1   0.00 ( 78.01)\n",
      "Test: [ 760/1172]\tTime  0.205 ( 0.207)\tLoss 5.4654e+00 (1.2762e+00)\tAcc@1   0.00 ( 76.99)\n",
      "Test: [ 770/1172]\tTime  0.205 ( 0.207)\tLoss 5.4385e+00 (1.3301e+00)\tAcc@1   0.00 ( 75.99)\n",
      "Test: [ 780/1172]\tTime  0.204 ( 0.207)\tLoss 5.4148e+00 (1.3827e+00)\tAcc@1   0.00 ( 75.02)\n",
      "Test: [ 790/1172]\tTime  0.205 ( 0.207)\tLoss 5.5610e+00 (1.4354e+00)\tAcc@1   0.00 ( 74.07)\n",
      "Test: [ 800/1172]\tTime  0.206 ( 0.207)\tLoss 5.5466e+00 (1.4869e+00)\tAcc@1   0.00 ( 73.14)\n",
      "Test: [ 810/1172]\tTime  0.206 ( 0.207)\tLoss 5.5874e+00 (1.5371e+00)\tAcc@1   0.00 ( 72.24)\n",
      "Test: [ 820/1172]\tTime  0.206 ( 0.207)\tLoss 5.5296e+00 (1.5860e+00)\tAcc@1   0.00 ( 71.36)\n",
      "Test: [ 830/1172]\tTime  0.205 ( 0.207)\tLoss 5.5701e+00 (1.6337e+00)\tAcc@1   0.00 ( 70.50)\n",
      "Test: [ 840/1172]\tTime  0.205 ( 0.207)\tLoss 5.5707e+00 (1.6803e+00)\tAcc@1   0.00 ( 69.67)\n",
      "Test: [ 850/1172]\tTime  0.206 ( 0.207)\tLoss 5.5743e+00 (1.7258e+00)\tAcc@1   0.00 ( 68.85)\n",
      "Test: [ 860/1172]\tTime  0.204 ( 0.207)\tLoss 5.5904e+00 (1.7704e+00)\tAcc@1   0.00 ( 68.05)\n",
      "Test: [ 870/1172]\tTime  0.204 ( 0.207)\tLoss 5.5398e+00 (1.8138e+00)\tAcc@1   0.00 ( 67.27)\n",
      "Test: [ 880/1172]\tTime  0.206 ( 0.207)\tLoss 5.5488e+00 (1.8562e+00)\tAcc@1   0.00 ( 66.50)\n",
      "Test: [ 890/1172]\tTime  0.207 ( 0.207)\tLoss 5.5353e+00 (1.8977e+00)\tAcc@1   0.00 ( 65.76)\n",
      "Test: [ 900/1172]\tTime  0.205 ( 0.207)\tLoss 5.5423e+00 (1.9382e+00)\tAcc@1   0.00 ( 65.03)\n",
      "Test: [ 910/1172]\tTime  0.205 ( 0.206)\tLoss 5.5275e+00 (1.9778e+00)\tAcc@1   0.00 ( 64.31)\n",
      "Test: [ 920/1172]\tTime  0.204 ( 0.206)\tLoss 5.4342e+00 (2.0150e+00)\tAcc@1   0.00 ( 63.61)\n",
      "Test: [ 930/1172]\tTime  0.204 ( 0.206)\tLoss 5.3881e+00 (2.0515e+00)\tAcc@1   0.00 ( 62.93)\n",
      "Test: [ 940/1172]\tTime  0.206 ( 0.206)\tLoss 5.3881e+00 (2.0870e+00)\tAcc@1   0.00 ( 62.26)\n",
      "Test: [ 950/1172]\tTime  0.205 ( 0.206)\tLoss 5.3796e+00 (2.1219e+00)\tAcc@1   0.00 ( 61.61)\n",
      "Test: [ 960/1172]\tTime  0.205 ( 0.206)\tLoss 5.3688e+00 (2.1559e+00)\tAcc@1   0.00 ( 60.97)\n",
      "Test: [ 970/1172]\tTime  0.204 ( 0.206)\tLoss 5.3960e+00 (2.1894e+00)\tAcc@1   0.00 ( 60.34)\n",
      "Test: [ 980/1172]\tTime  0.205 ( 0.206)\tLoss 5.0729e+00 (2.2205e+00)\tAcc@1   0.00 ( 59.72)\n",
      "Test: [ 990/1172]\tTime  0.207 ( 0.206)\tLoss 5.0770e+00 (2.2493e+00)\tAcc@1   0.00 ( 59.12)\n",
      "Test: [1000/1172]\tTime  0.205 ( 0.206)\tLoss 5.0931e+00 (2.2775e+00)\tAcc@1   0.00 ( 58.53)\n",
      "Test: [1010/1172]\tTime  0.205 ( 0.206)\tLoss 5.0757e+00 (2.3049e+00)\tAcc@1   0.00 ( 57.95)\n",
      "Test: [1020/1172]\tTime  0.205 ( 0.206)\tLoss 5.1592e+00 (2.3322e+00)\tAcc@1   0.00 ( 57.38)\n",
      "Test: [1030/1172]\tTime  0.205 ( 0.206)\tLoss 5.0995e+00 (2.3588e+00)\tAcc@1   0.00 ( 56.83)\n",
      "Test: [1040/1172]\tTime  0.204 ( 0.206)\tLoss 5.0295e+00 (2.3848e+00)\tAcc@1   0.00 ( 56.28)\n",
      "Test: [1050/1172]\tTime  0.206 ( 0.206)\tLoss 5.0085e+00 (2.4103e+00)\tAcc@1   0.00 ( 55.75)\n",
      "Test: [1060/1172]\tTime  0.206 ( 0.206)\tLoss 5.1302e+00 (2.4356e+00)\tAcc@1   0.00 ( 55.22)\n",
      "Test: [1070/1172]\tTime  0.204 ( 0.206)\tLoss 5.0162e+00 (2.4603e+00)\tAcc@1   0.00 ( 54.70)\n",
      "Test: [1080/1172]\tTime  0.204 ( 0.206)\tLoss 5.1427e+00 (2.4847e+00)\tAcc@1   0.00 ( 54.20)\n",
      "Test: [1090/1172]\tTime  0.204 ( 0.206)\tLoss 5.0578e+00 (2.5083e+00)\tAcc@1   0.00 ( 53.70)\n",
      "Test: [1100/1172]\tTime  0.205 ( 0.206)\tLoss 5.1065e+00 (2.5315e+00)\tAcc@1   0.00 ( 53.21)\n",
      "Test: [1110/1172]\tTime  0.204 ( 0.206)\tLoss 5.0713e+00 (2.5545e+00)\tAcc@1   0.00 ( 52.74)\n",
      "Test: [1120/1172]\tTime  0.204 ( 0.206)\tLoss 5.1349e+00 (2.5772e+00)\tAcc@1   0.00 ( 52.26)\n",
      "Test: [1130/1172]\tTime  0.204 ( 0.206)\tLoss 5.0784e+00 (2.5993e+00)\tAcc@1   0.00 ( 51.80)\n",
      "Test: [1140/1172]\tTime  0.204 ( 0.206)\tLoss 5.0393e+00 (2.6210e+00)\tAcc@1   0.00 ( 51.35)\n",
      "Test: [1150/1172]\tTime  0.206 ( 0.206)\tLoss 5.1391e+00 (2.6427e+00)\tAcc@1   0.00 ( 50.90)\n",
      "Test: [1160/1172]\tTime  0.204 ( 0.206)\tLoss 5.1108e+00 (2.6636e+00)\tAcc@1   0.00 ( 50.46)\n",
      "Test: [1170/1172]\tTime  0.204 ( 0.206)\tLoss 5.0896e+00 (2.6844e+00)\tAcc@1   0.00 ( 50.03)\n",
      " * Acc@1 50.000\n"
     ]
    }
   ],
   "source": [
    "# this is for hGRU only, args.useACT = 0\n",
    "val_acc1, (outputs, targets) = validate(val_loader, model, criterion, optimizer=None, epoch=None, args=args)"
   ]
  },
  {
   "cell_type": "code",
   "execution_count": 15,
   "id": "941f86d7",
   "metadata": {
    "scrolled": true
   },
   "outputs": [
    {
     "name": "stdout",
     "output_type": "stream",
     "text": [
      "Test: [  0/391]\tTime  1.481 ( 1.481)\tLoss 8.1316e-01 (8.1316e-01)\tAcc@1  59.77 ( 59.77)\n",
      "Test: [ 10/391]\tTime  0.256 ( 0.368)\tLoss 7.8998e-01 (8.2087e-01)\tAcc@1  60.55 ( 60.48)\n",
      "Test: [ 20/391]\tTime  0.254 ( 0.314)\tLoss 8.0286e-01 (8.2998e-01)\tAcc@1  59.77 ( 59.75)\n",
      "Test: [ 30/391]\tTime  0.255 ( 0.295)\tLoss 8.3410e-01 (8.3125e-01)\tAcc@1  60.55 ( 59.87)\n",
      "Test: [ 40/391]\tTime  0.253 ( 0.285)\tLoss 8.5688e-01 (8.3236e-01)\tAcc@1  60.16 ( 59.73)\n",
      "Test: [ 50/391]\tTime  0.256 ( 0.279)\tLoss 8.0558e-01 (8.3155e-01)\tAcc@1  58.98 ( 59.60)\n",
      "Test: [ 60/391]\tTime  0.255 ( 0.276)\tLoss 8.9328e-01 (8.3503e-01)\tAcc@1  55.47 ( 59.63)\n",
      "Test: [ 70/391]\tTime  0.254 ( 0.273)\tLoss 7.6881e-01 (8.3240e-01)\tAcc@1  60.94 ( 59.84)\n",
      "Test: [ 80/391]\tTime  0.254 ( 0.271)\tLoss 8.2710e-01 (8.3486e-01)\tAcc@1  64.06 ( 59.84)\n",
      "Test: [ 90/391]\tTime  0.257 ( 0.269)\tLoss 8.1984e-01 (8.3362e-01)\tAcc@1  60.55 ( 59.90)\n",
      "Test: [100/391]\tTime  0.257 ( 0.268)\tLoss 8.4164e-01 (8.3505e-01)\tAcc@1  61.72 ( 59.84)\n",
      "Test: [110/391]\tTime  0.256 ( 0.267)\tLoss 8.9494e-01 (8.3579e-01)\tAcc@1  55.08 ( 59.71)\n",
      "Test: [120/391]\tTime  0.258 ( 0.266)\tLoss 7.6241e-01 (8.3438e-01)\tAcc@1  62.11 ( 59.70)\n",
      "Test: [130/391]\tTime  0.257 ( 0.265)\tLoss 7.7410e-01 (8.3418e-01)\tAcc@1  64.84 ( 59.73)\n",
      "Test: [140/391]\tTime  0.256 ( 0.265)\tLoss 7.4901e-01 (8.3404e-01)\tAcc@1  64.06 ( 59.73)\n",
      "Test: [150/391]\tTime  0.257 ( 0.264)\tLoss 9.0827e-01 (8.3439e-01)\tAcc@1  59.38 ( 59.74)\n",
      "Test: [160/391]\tTime  0.257 ( 0.264)\tLoss 7.3572e-01 (8.3409e-01)\tAcc@1  65.62 ( 59.76)\n",
      "Test: [170/391]\tTime  0.258 ( 0.263)\tLoss 8.5605e-01 (8.3524e-01)\tAcc@1  58.59 ( 59.71)\n",
      "Test: [180/391]\tTime  0.257 ( 0.263)\tLoss 7.4418e-01 (8.3499e-01)\tAcc@1  60.55 ( 59.69)\n",
      "Test: [190/391]\tTime  0.257 ( 0.263)\tLoss 9.8463e-01 (8.3497e-01)\tAcc@1  51.95 ( 59.70)\n",
      "Test: [200/391]\tTime  0.258 ( 0.262)\tLoss 2.7636e-01 (8.1982e-01)\tAcc@1  89.84 ( 60.47)\n",
      "Test: [210/391]\tTime  0.261 ( 0.262)\tLoss 2.6975e-01 (7.9392e-01)\tAcc@1  90.62 ( 61.83)\n",
      "Test: [220/391]\tTime  0.260 ( 0.262)\tLoss 2.7070e-01 (7.7060e-01)\tAcc@1  89.45 ( 63.08)\n",
      "Test: [230/391]\tTime  0.257 ( 0.262)\tLoss 2.9107e-01 (7.4870e-01)\tAcc@1  89.06 ( 64.24)\n",
      "Test: [240/391]\tTime  0.258 ( 0.262)\tLoss 2.3047e-01 (7.2993e-01)\tAcc@1  91.41 ( 65.23)\n",
      "Test: [250/391]\tTime  0.260 ( 0.262)\tLoss 3.4704e-01 (7.1200e-01)\tAcc@1  87.11 ( 66.16)\n",
      "Test: [260/391]\tTime  0.258 ( 0.262)\tLoss 3.0007e-01 (6.9562e-01)\tAcc@1  90.23 ( 67.03)\n",
      "Test: [270/391]\tTime  0.260 ( 0.262)\tLoss 3.1290e-01 (6.8036e-01)\tAcc@1  87.89 ( 67.83)\n",
      "Test: [280/391]\tTime  0.259 ( 0.261)\tLoss 2.7659e-01 (6.6573e-01)\tAcc@1  89.45 ( 68.62)\n",
      "Test: [290/391]\tTime  0.259 ( 0.261)\tLoss 3.0637e-01 (6.5207e-01)\tAcc@1  87.50 ( 69.32)\n",
      "Test: [300/391]\tTime  0.259 ( 0.261)\tLoss 3.1128e-01 (6.4015e-01)\tAcc@1  86.72 ( 69.94)\n",
      "Test: [310/391]\tTime  0.259 ( 0.261)\tLoss 2.6317e-01 (6.2806e-01)\tAcc@1  89.45 ( 70.57)\n",
      "Test: [320/391]\tTime  0.259 ( 0.261)\tLoss 2.6352e-01 (6.1708e-01)\tAcc@1  89.84 ( 71.14)\n",
      "Test: [330/391]\tTime  0.260 ( 0.261)\tLoss 2.7837e-01 (6.0646e-01)\tAcc@1  91.41 ( 71.69)\n",
      "Test: [340/391]\tTime  0.260 ( 0.261)\tLoss 3.1963e-01 (5.9687e-01)\tAcc@1  88.28 ( 72.21)\n",
      "Test: [350/391]\tTime  0.260 ( 0.261)\tLoss 2.8924e-01 (5.8780e-01)\tAcc@1  85.94 ( 72.69)\n",
      "Test: [360/391]\tTime  0.259 ( 0.261)\tLoss 2.8298e-01 (5.7874e-01)\tAcc@1  87.89 ( 73.14)\n",
      "Test: [370/391]\tTime  0.260 ( 0.261)\tLoss 2.4639e-01 (5.7061e-01)\tAcc@1  90.23 ( 73.57)\n",
      "Test: [380/391]\tTime  0.261 ( 0.261)\tLoss 2.9446e-01 (5.6271e-01)\tAcc@1  88.28 ( 73.99)\n",
      "Test: [390/391]\tTime  0.167 ( 0.261)\tLoss 2.4544e-01 (5.5555e-01)\tAcc@1  90.62 ( 74.37)\n",
      " * Acc@1 74.369\n"
     ]
    }
   ],
   "source": [
    "val_acc1, (outputs, all_halt_probs, ponder_costs, targets) = validate(val_loader, model, criterion, optimizer=None, epoch=None, args=args)"
   ]
  },
  {
   "cell_type": "code",
   "execution_count": 10,
   "id": "8d569d27",
   "metadata": {},
   "outputs": [
    {
     "name": "stdout",
     "output_type": "stream",
     "text": [
      "4621 4007 45379 45993\n"
     ]
    }
   ],
   "source": [
    "incorrect_gt_true_idxs = torch.where(((outputs.argmax(dim=-1) != targets)) * (targets==0))[0]\n",
    "incorrect_gt_false_idxs = torch.where(((outputs.argmax(dim=-1) != targets)) * (targets==1))[0]\n",
    "correct_gt_true_idxs = torch.where(((outputs.argmax(dim=-1) == targets)) * (targets==0))[0]\n",
    "correct_gt_false_idxs = torch.where(((outputs.argmax(dim=-1) == targets)) * (targets==1))[0]\n",
    "print(incorrect_gt_true_idxs.shape[0], \n",
    "      incorrect_gt_false_idxs.shape[0], \n",
    "      correct_gt_true_idxs.shape[0],\n",
    "      correct_gt_false_idxs.shape[0])"
   ]
  },
  {
   "cell_type": "code",
   "execution_count": 16,
   "id": "53cdafe6",
   "metadata": {},
   "outputs": [
    {
     "name": "stdout",
     "output_type": "stream",
     "text": [
      "32718 10909 17282 39091\n"
     ]
    }
   ],
   "source": [
    "incorrect_gt_true_idxs = torch.where(((outputs.argmax(dim=-1) != targets)) * (targets==0))[0]\n",
    "incorrect_gt_false_idxs = torch.where(((outputs.argmax(dim=-1) != targets)) * (targets==1))[0]\n",
    "correct_gt_true_idxs = torch.where(((outputs.argmax(dim=-1) == targets)) * (targets==0))[0]\n",
    "correct_gt_false_idxs = torch.where(((outputs.argmax(dim=-1) == targets)) * (targets==1))[0]\n",
    "print(incorrect_gt_true_idxs.shape[0], \n",
    "      incorrect_gt_false_idxs.shape[0], \n",
    "      correct_gt_true_idxs.shape[0],\n",
    "      correct_gt_false_idxs.shape[0])"
   ]
  },
  {
   "cell_type": "code",
   "execution_count": null,
   "id": "4ada7d1c",
   "metadata": {},
   "outputs": [],
   "source": [
    "# This is for hGRU ONLY\n",
    "# Now run the model for 20 steps, and use each state from 6th to 20th to make preds, then get numbers for each set of preds\n",
    "model.eval()\n",
    "all_outputs, all_targets = [], []\n",
    "with torch.no_grad():\n",
    "    for i, (images, target) in tqdm(enumerate(val_loader)):\n",
    "        if args.gpu is not None:\n",
    "            images = images.cuda(args.gpu, non_blocking=True)\n",
    "        if torch.cuda.is_available():\n",
    "            target = target.cuda(args.gpu, non_blocking=True)\n",
    "        x = model.backbone(images)\n",
    "        x = torch.stack(x)   # x is num_timesteps x bs x hidden_dim x h x w\n",
    "        num_timesteps, bs, nc, d1, d2 = x.shape\n",
    "        x = x.reshape(num_timesteps * bs, nc, d1, d2)\n",
    "        # Send each state through readout\n",
    "        x = model.final_conv(x)\n",
    "        x = model.final_pool(x)\n",
    "        x = torch.flatten(x, 1)\n",
    "        x = model.readout(x)\n",
    "        x = x.reshape(num_timesteps, bs, -1)\n",
    "        all_outputs.append(x.detach().cpu())\n",
    "        all_targets.append(target.detach().cpu())\n",
    "    all_outputs = torch.cat(all_outputs, axis=1)\n",
    "    all_targets = torch.cat(all_targets)"
   ]
  },
  {
   "cell_type": "code",
   "execution_count": 21,
   "id": "de1c9a4f",
   "metadata": {
    "scrolled": true
   },
   "outputs": [
    {
     "name": "stderr",
     "output_type": "stream",
     "text": [
      "391it [01:59,  3.27it/s]\n"
     ]
    }
   ],
   "source": [
    "# Now run the model for 20 steps, and use each state from 6th to 20th to make preds, then get numbers for each set of preds\n",
    "model.eval()\n",
    "all_diffs, all_diffs2, all_targets = [], [], []\n",
    "with torch.no_grad():\n",
    "    for i, (images, target) in tqdm(enumerate(val_loader)):\n",
    "        if args.gpu is not None:\n",
    "            images = images.cuda(args.gpu, non_blocking=True)\n",
    "        if torch.cuda.is_available():\n",
    "            target = target.cuda(args.gpu, non_blocking=True)\n",
    "        (x, x2), halt_probs, ponder_cost = model.backbone(images)\n",
    "        x = torch.stack(x)   # x is num_timesteps x bs x hidden_dim x h x w\n",
    "        num_timesteps, bs, nc, d1, d2 = x.shape\n",
    "#         x = x.reshape(num_timesteps * bs, nc, d1, d2)\n",
    "        # Send each state through readout\n",
    "#         x = model.final_conv(x)\n",
    "#         x = model.final_pool(x)\n",
    "#         x = torch.flatten(x, 1)\n",
    "#         x = model.readout(x)\n",
    "#         x = x.reshape(num_timesteps, bs, -1)\n",
    "        diffs = torch.sqrt(torch.square(torch.diff(x, dim=0)).sum(dim=-1).sum(dim=-1).sum(dim=-1))\n",
    "        all_diffs.append(diffs.detach().cpu())\n",
    "        \n",
    "        x2 = torch.stack(x2)   # x is num_timesteps x bs x hidden_dim x h x w\n",
    "        num_timesteps, bs, nc, d1, d2 = x2.shape\n",
    "#         x = x.reshape(num_timesteps * bs, nc, d1, d2)\n",
    "        # Send each state through readout\n",
    "#         x = model.final_conv(x)\n",
    "#         x = model.final_pool(x)\n",
    "#         x = torch.flatten(x, 1)\n",
    "#         x = model.readout(x)\n",
    "#         x = x.reshape(num_timesteps, bs, -1)\n",
    "        diffs = torch.sqrt(torch.square(torch.diff(x2, dim=0)).sum(dim=-1).sum(dim=-1).sum(dim=-1))\n",
    "        all_diffs2.append(diffs.detach().cpu())\n",
    "        \n",
    "        all_targets.append(target.detach().cpu())"
   ]
  },
  {
   "cell_type": "code",
   "execution_count": 13,
   "id": "b8e3b1e5",
   "metadata": {},
   "outputs": [],
   "source": [
    "timestep_accs = []\n",
    "for timestep in range(all_outputs.shape[0]):\n",
    "    acc = (all_outputs[timestep].argmax(dim=-1) == all_targets).sum()/len(all_targets)\n",
    "    timestep_accs.append(acc.item())"
   ]
  },
  {
   "cell_type": "code",
   "execution_count": 14,
   "id": "d3c48299",
   "metadata": {
    "scrolled": true
   },
   "outputs": [],
   "source": [
    "with open('paper_results/extrapolation24_hgru_results.json', 'w') as fileout:\n",
    "    json.dump({'hGRU' : timestep_accs}, fileout)"
   ]
  },
  {
   "cell_type": "code",
   "execution_count": 31,
   "id": "c70fd02f",
   "metadata": {},
   "outputs": [
    {
     "data": {
      "text/plain": [
       "Text(0.5, 1.0, '\\\\textbf{Performance on PF-9, PF-14 and PF-18 (combined)}')"
      ]
     },
     "execution_count": 31,
     "metadata": {},
     "output_type": "execute_result"
    },
    {
     "data": {
      "image/png": "[encoded data removed]",
      "text/plain": [
       "<Figure size 550x339.919 with 1 Axes>"
      ]
     },
     "metadata": {},
     "output_type": "display_data"
    }
   ],
   "source": [
    "with open('paper_results/interpolation_locrnn_results.json', 'r') as filein:\n",
    "    locrnn = json.load(filein)\n",
    "with open('paper_results/interpolation_results.json', 'r') as filein:\n",
    "    convgru = json.load(filein)\n",
    "with open('paper_results/interpolation_resnet_results.json', 'r') as filein:\n",
    "    resnet = json.load(filein)\n",
    "results = {}\n",
    "results.update(locrnn)\n",
    "results.update(convgru)\n",
    "results.update(resnet)\n",
    "\n",
    "fig, ax = plt.subplots(1, 1)\n",
    "ax.set_xticks(ticks=range(20), labels=range(1,21))\n",
    "ax.plot(range(20), results['ConvGRU'], label='ConvGRU', linestyle='-', linewidth=2)\n",
    "ax.plot(range(20), results['LocRNN'], label='LocRNN', linestyle='-', linewidth=2)\n",
    "ax.plot(range(20), results['R-Resnet-30'], label='R-Resnet-30', linestyle='-', linewidth=2)\n",
    "ax.plot(range(20), results['R-Resnet-30'], label='Resnet-30', linestyle='-', linewidth=2)\n",
    "plt.axhline(y=0.9122, color='C0', label='ConvGRU (ACT)', linestyle='--', linewidth=2)\n",
    "ax.axhline(y=0.9713, color='C1', label='LocRNN (ACT)', linestyle='--', linewidth=2)\n",
    "\n",
    "# plt.vline(12)\n",
    "ax.grid('on', axis='y', alpha=0.3)\n",
    "ax.legend(fontsize=12, loc='center left')\n",
    "ax.tick_params(axis='both', labelsize=12, )\n",
    "ax.set_ylim([0.5, 1.0])\n",
    "ax.set_xlabel(r\"\\textbf{Inference RNN iterations}\", fontsize=12)\n",
    "ax.set_ylabel(r\"\\textbf{Validation performance}\", fontsize=12)\n",
    "ax.set_title(r\"\\textbf{Performance on PF-9, PF-14 and PF-18 (combined)}\", fontsize=12)"
   ]
  },
  {
   "cell_type": "code",
   "execution_count": 71,
   "id": "c860356b",
   "metadata": {},
   "outputs": [
    {
     "data": {
      "text/plain": [
       "Text(0.5, 1.0, '\\\\textbf{Performance on held out PathFinder-21}')"
      ]
     },
     "execution_count": 71,
     "metadata": {},
     "output_type": "execute_result"
    },
    {
     "data": {
      "image/png": "[encoded data removed]",
      "text/plain": [
       "<Figure size 550x339.919 with 1 Axes>"
      ]
     },
     "metadata": {},
     "output_type": "display_data"
    }
   ],
   "source": [
    "with open('paper_results/extrapolation21_locrnn_results.json', 'r') as filein:\n",
    "    locrnn = json.load(filein)\n",
    "with open('paper_results/extrapolation21_results.json', 'r') as filein:\n",
    "    convgru = json.load(filein)\n",
    "with open('paper_results/extrapolation21_resnet_results.json', 'r') as filein:\n",
    "    resnet = json.load(filein)\n",
    "results = {}\n",
    "results.update(locrnn)\n",
    "results.update(convgru)\n",
    "results.update(resnet)\n",
    "\n",
    "fig, ax = plt.subplots(1, 1)\n",
    "ax.set_xticks(ticks=range(20), labels=range(1,21))\n",
    "ax.plot(range(20), results['ConvGRU'], label='ConvGRU', linestyle='-', linewidth=2)\n",
    "ax.plot(range(20), results['LocRNN'], label='LocRNN', linestyle='-', linewidth=2)\n",
    "ax.plot(range(20), results['R-Resnet-30'], label='R-Resnet-30', linestyle='-', linewidth=2)\n",
    "ax.plot(range(20), results['R-Resnet-30'], label='Resnet-30', linestyle='-', linewidth=2)\n",
    "plt.axhline(y=0.8914, color='C0', label='ConvGRU (ACT)', linestyle='--', linewidth=2)\n",
    "ax.axhline(y=0.93794, color='C1', label='LocRNN (ACT)', linestyle='--', linewidth=2)\n",
    "\n",
    "# plt.vline(12)\n",
    "ax.grid('on', axis='y', alpha=0.3)\n",
    "# ax.axvspan(12, 21, alpha=0.2, color='gray')\n",
    "ax.legend(fontsize=12)\n",
    "ax.tick_params(axis='both', labelsize=12)\n",
    "ax.set_ylim([0.5, 1.0])\n",
    "ax.set_xlabel(r\"\\textbf{Inference RNN iterations}\", fontsize=12)\n",
    "ax.set_ylabel(r\"\\textbf{Validation performance}\", fontsize=12)\n",
    "ax.set_title(r\"\\textbf{Performance on held out PathFinder-21}\", fontsize=12)"
   ]
  },
  {
   "cell_type": "code",
   "execution_count": 119,
   "id": "8980af48",
   "metadata": {},
   "outputs": [
    {
     "data": {
      "text/plain": [
       "{'hGRU': [0.4998599886894226,\n",
       "  0.498089998960495,\n",
       "  0.4999000132083893,\n",
       "  0.49998998641967773,\n",
       "  0.5,\n",
       "  0.5000200271606445,\n",
       "  0.500029981136322,\n",
       "  0.5000100135803223,\n",
       "  0.5043699741363525,\n",
       "  0.5087800025939941,\n",
       "  0.5196499824523926,\n",
       "  0.5835000276565552,\n",
       "  0.5339499711990356,\n",
       "  0.5017600059509277,\n",
       "  0.49987998604774475,\n",
       "  0.5,\n",
       "  0.4999299943447113,\n",
       "  0.5,\n",
       "  0.49998000264167786,\n",
       "  0.5]}"
      ]
     },
     "execution_count": 119,
     "metadata": {},
     "output_type": "execute_result"
    }
   ],
   "source": [
    "hgru"
   ]
  },
  {
   "cell_type": "code",
   "execution_count": 118,
   "id": "ac2683ad",
   "metadata": {},
   "outputs": [
    {
     "data": {
      "text/plain": [
       "Text(0.5, 1.0, '\\\\textbf{Performance on held out PathFinder-24}')"
      ]
     },
     "execution_count": 118,
     "metadata": {},
     "output_type": "execute_result"
    },
    {
     "data": {
      "image/png": "[encoded data removed]",
      "text/plain": [
       "<Figure size 640x480 with 1 Axes>"
      ]
     },
     "metadata": {},
     "output_type": "display_data"
    }
   ],
   "source": [
    "with open('paper_results/extrapolation24_locrnn_results.json', 'r') as filein:\n",
    "    locrnn = json.load(filein)\n",
    "with open('paper_results/extrapolation24_results.json', 'r') as filein:\n",
    "    convgru = json.load(filein)\n",
    "with open('paper_results/extrapolation24_resnet_results.json', 'r') as filein:\n",
    "    resnet = json.load(filein)\n",
    "with open('paper_results/extrapolation24_hgru_results.json', 'r') as filein:\n",
    "    hgru = json.load(filein)\n",
    "    \n",
    "results = {}\n",
    "results.update(locrnn)\n",
    "results.update(convgru)\n",
    "results.update(resnet)\n",
    "results.update(hgru)\n",
    "\n",
    "\n",
    "fig, ax = plt.subplots(1, 1)\n",
    "ax.set_xticks(ticks=range(20), labels=range(1,21))\n",
    "ax.plot(range(20), results['ConvGRU'], label='ConvGRU', linestyle='-', linewidth=2)\n",
    "ax.plot(range(20), results['LocRNN'], label='LocRNN', linestyle='-', linewidth=2)\n",
    "ax.plot(range(20), results['hGRU'], label='hGRU', linestyle='-', linewidth=2)\n",
    "ax.plot(range(20), results['R-Resnet-30'], label='R-Resnet-30', linestyle='-', linewidth=2)\n",
    "ax.plot(range(20), results['R-Resnet-30'], label='Resnet-30', linestyle='-', linewidth=2)\n",
    "plt.axhline(y=0.85317, color='C0', label='ConvGRU (ACT)', linestyle='--', linewidth=2)\n",
    "ax.axhline(y=0.91372, color='C1', label='LocRNN (ACT)', linestyle='--', linewidth=2)\n",
    "\n",
    "# plt.vline(12)\n",
    "ax.grid('on', axis='y', alpha=0.3)\n",
    "# ax.axvspan(12, 21, alpha=0.2, color='gray')\n",
    "ax.legend(fontsize=12)\n",
    "ax.tick_params(axis='both', labelsize=12)\n",
    "ax.set_ylim([0.5, 1.0])\n",
    "ax.set_xlabel(r\"\\textbf{Inference RNN iterations}\", fontsize=12)\n",
    "ax.set_ylabel(r\"\\textbf{Validation performance}\", fontsize=12)\n",
    "ax.set_title(r\"\\textbf{Performance on held out PathFinder-24}\", fontsize=12)"
   ]
  },
  {
   "cell_type": "code",
   "execution_count": 20,
   "id": "1e9d5f8b",
   "metadata": {},
   "outputs": [
    {
     "data": {
      "text/plain": [
       "Text(0.5, 1.0, '(Approx) Contribution of output by each timestep')"
      ]
     },
     "execution_count": 20,
     "metadata": {},
     "output_type": "execute_result"
    },
    {
     "data": {
      "image/png": "[encoded data removed]",
      "text/plain": [
       "<Figure size 1000x200 with 1 Axes>"
      ]
     },
     "metadata": {},
     "output_type": "display_data"
    }
   ],
   "source": [
    "plt.figure(figsize=(10,2))\n",
    "means = all_halt_probs.mean(axis=0)\n",
    "stddevs = all_halt_probs.std(axis=0)\n",
    "plt.plot(range(1,13), means)\n",
    "plt.fill_between(range(1,13), means-stddevs, means+stddevs,\n",
    "    alpha=0.5, edgecolor='#CC4F1B', facecolor='#FF9848')\n",
    "plt.xticks(range(1, 13))\n",
    "plt.title('(Approx) Contribution of output by each timestep')"
   ]
  },
  {
   "cell_type": "code",
   "execution_count": 20,
   "id": "2aae4572",
   "metadata": {},
   "outputs": [
    {
     "name": "stdout",
     "output_type": "stream",
     "text": [
      "Counter({6: 77827, 7: 20620, 5: 1450, 8: 103})\n"
     ]
    },
    {
     "data": {
      "text/plain": [
       "<matplotlib.legend.Legend at 0x7f2f0e91bbe0>"
      ]
     },
     "execution_count": 20,
     "metadata": {},
     "output_type": "execute_result"
    },
    {
     "data": {
      "image/png": "[encoded data removed]",
      "text/plain": [
       "<Figure size 550x339.919 with 1 Axes>"
      ]
     },
     "metadata": {},
     "output_type": "display_data"
    }
   ],
   "source": [
    "alpha_val = 1\n",
    "fig, axs = plt.subplots(1, 1)\n",
    "width = 0.25\n",
    "\n",
    "halt_probs_of_interest = all_halt_probs\n",
    "num_steps_run = (halt_probs_of_interest != 0).sum(dim=1).numpy()\n",
    "num_steps, freq = zip(*Counter(num_steps_run.tolist()).items())\n",
    "axs.bar((np.array(num_steps) - width), freq, width=width, alpha=alpha_val)\n",
    "print(Counter(num_steps_run.tolist()))\n",
    "\n",
    "axs.set_xlabel('Number of steps')\n",
    "axs.set_ylabel('Frequency')\n",
    "axs.set_title('Frequencies for number of steps taken, \\n for different contour lengths')\n",
    "axs.set_xticks([5,6,7,8,9])\n",
    "axs.legend(['21'],loc='upper left')"
   ]
  },
  {
   "cell_type": "code",
   "execution_count": null,
   "id": "15a542de",
   "metadata": {},
   "outputs": [],
   "source": [
    "incorrect_gt_true_idxs = torch.where(((outputs.argmax(dim=-1) != targets)) * (targets==0))[0]\n",
    "incorrect_gt_false_idxs = torch.where(((outputs.argmax(dim=-1) != targets)) * (targets==1))[0]\n",
    "correct_gt_true_idxs = torch.where(((outputs.argmax(dim=-1) == targets)) * (targets==0))[0]\n",
    "correct_gt_false_idxs = torch.where(((outputs.argmax(dim=-1) == targets)) * (targets==1))[0]\n",
    "\n",
    "incorrect_gt_false_probs = all_halt_probs[incorrect_gt_false_idxs]\n",
    "incorrect_gt_true_probs = all_halt_probs[incorrect_gt_true_idxs]\n",
    "correct_gt_false_probs = all_halt_probs[correct_gt_false_idxs]\n",
    "correct_gt_true_probs = all_halt_probs[correct_gt_true_idxs]"
   ]
  },
  {
   "cell_type": "code",
   "execution_count": null,
   "id": "63b91441",
   "metadata": {},
   "outputs": [],
   "source": [
    "fig, axs = plt.subplots(2, 2, figsize=(6,6))\n",
    "\n",
    "num_steps_run = (incorrect_gt_true_probs != 0).sum(dim=1).numpy()\n",
    "num_steps, freq = zip(*Counter(num_steps_run.tolist()).items())\n",
    "axs[0,0].bar(num_steps, freq)\n",
    "axs[0,0].set_xlabel('Number of steps')\n",
    "axs[0,0].set_ylabel('Frequency')\n",
    "axs[0,0].set_title('GT True, Incorrect')\n",
    "print(Counter(num_steps_run.tolist()))\n",
    "\n",
    "num_steps_run = (incorrect_gt_false_probs != 0).sum(dim=1).numpy()\n",
    "num_steps, freq = zip(*Counter(num_steps_run.tolist()).items())\n",
    "axs[0, 1].bar(num_steps, freq)\n",
    "axs[0, 1].set_xlabel('Number of steps')\n",
    "axs[0, 1].set_ylabel('Frequency')\n",
    "axs[0, 1].set_title('GT False, Incorrect')\n",
    "print(Counter(num_steps_run.tolist()))\n",
    "\n",
    "num_steps_run = (correct_gt_true_probs != 0).sum(dim=1).numpy()\n",
    "num_steps, freq = zip(*Counter(num_steps_run.tolist()).items())\n",
    "axs[1, 0].bar(num_steps, freq)\n",
    "axs[1, 0].set_xlabel('Number of steps')\n",
    "axs[1, 0].set_ylabel('Frequency')\n",
    "axs[1, 0].set_title('GT True, Correct')\n",
    "print(Counter(num_steps_run.tolist()))\n",
    "\n",
    "num_steps_run = (correct_gt_false_probs != 0).sum(dim=1).numpy()\n",
    "num_steps, freq = zip(*Counter(num_steps_run.tolist()).items())\n",
    "axs[1, 1].bar(num_steps, freq)\n",
    "axs[1, 1].set_xlabel('Number of steps')\n",
    "axs[1, 1].set_ylabel('Frequency')\n",
    "axs[1, 1].set_title('GT False, Correct')\n",
    "print(Counter(num_steps_run.tolist()))\n"
   ]
  },
  {
   "cell_type": "code",
   "execution_count": 20,
   "id": "ebf6bb68",
   "metadata": {},
   "outputs": [],
   "source": [
    "pos9 = torch.arange(0, 99992//2)\n",
    "pos14 = torch.arange(99992//2, 99992)\n",
    "pos18 = torch.arange(99992, 99992 + 99992 // 2)\n",
    "\n",
    "neg9 = pos9 + (99992 * 3) // 2\n",
    "neg14 = pos14 + (99992 * 3) // 2\n",
    "neg18 = pos18 + (99992 * 3) // 2\n",
    "\n",
    "contour_length9_idxs = torch.cat([pos9, neg9])\n",
    "contour_length14_idxs = torch.cat([pos14, neg14])\n",
    "contour_length18_idxs = torch.cat([pos18, neg18])"
   ]
  },
  {
   "cell_type": "code",
   "execution_count": 27,
   "id": "b681a1a3",
   "metadata": {},
   "outputs": [
    {
     "name": "stdout",
     "output_type": "stream",
     "text": [
      "Counter({7: 59709, 6: 39948, 8: 335})\n",
      "Counter({7: 63235, 8: 36732, 6: 14, 9: 11})\n",
      "Counter({8: 92071, 9: 7904, 7: 17})\n"
     ]
    },
    {
     "data": {
      "text/plain": [
       "<matplotlib.legend.Legend at 0x7f2f0e927d90>"
      ]
     },
     "execution_count": 27,
     "metadata": {},
     "output_type": "execute_result"
    },
    {
     "data": {
      "image/png": "[encoded data removed]",
      "text/plain": [
       "<Figure size 500x400 with 1 Axes>"
      ]
     },
     "metadata": {},
     "output_type": "display_data"
    }
   ],
   "source": [
    "alpha_val = 1\n",
    "fig, axs = plt.subplots(1, 1)\n",
    "width = 0.25\n",
    "\n",
    "halt_probs_of_interest = all_halt_probs[contour_length9_idxs]\n",
    "num_steps_run = (halt_probs_of_interest != 0).sum(dim=1).numpy()\n",
    "num_steps, freq = zip(*Counter(num_steps_run.tolist()).items())\n",
    "axs.bar((np.array(num_steps) - width), freq, width=width, alpha=alpha_val)\n",
    "print(Counter(num_steps_run.tolist()))\n",
    "\n",
    "halt_probs_of_interest = all_halt_probs[contour_length14_idxs]\n",
    "num_steps_run = (halt_probs_of_interest != 0).sum(dim=1).numpy()\n",
    "num_steps, freq = zip(*Counter(num_steps_run.tolist()).items())\n",
    "axs.bar((np.array(num_steps)).tolist(), freq, width=width, alpha=alpha_val)\n",
    "print(Counter(num_steps_run.tolist()))\n",
    "\n",
    "halt_probs_of_interest = all_halt_probs[contour_length18_idxs]\n",
    "num_steps_run = (halt_probs_of_interest != 0).sum(dim=1).numpy()\n",
    "num_steps, freq = zip(*Counter(num_steps_run.tolist()).items())\n",
    "axs.bar((np.array(num_steps) + width).tolist(), freq, width=width, alpha=alpha_val)\n",
    "print(Counter(num_steps_run.tolist()))\n",
    "\n",
    "axs.set_xlabel('Number of steps')\n",
    "axs.set_ylabel('Frequency')\n",
    "# axs.set_title('Frequencies for number of steps taken, \\n for different contour lengths')\n",
    "axs.set_xticks([5,6,7,8,9])\n",
    "axs.legend(['9', '14', '18'],loc='best', ncols=3)"
   ]
  },
  {
   "cell_type": "code",
   "execution_count": 67,
   "id": "81a58c92",
   "metadata": {},
   "outputs": [
    {
     "data": {
      "text/plain": [
       "[<matplotlib.axis.XTick at 0x7f2e392ca130>,\n",
       " <matplotlib.axis.XTick at 0x7f2e392ca070>,\n",
       " <matplotlib.axis.XTick at 0x7f2e3940d040>,\n",
       " <matplotlib.axis.XTick at 0x7f2e392adeb0>,\n",
       " <matplotlib.axis.XTick at 0x7f2e392ba9a0>,\n",
       " <matplotlib.axis.XTick at 0x7f2e39240490>]"
      ]
     },
     "execution_count": 67,
     "metadata": {},
     "output_type": "execute_result"
    },
    {
     "data": {
      "image/png": "[encoded data removed]",
      "text/plain": [
       "<Figure size 550x339.919 with 1 Axes>"
      ]
     },
     "metadata": {},
     "output_type": "display_data"
    }
   ],
   "source": [
    "# LocRNN\n",
    "## PFMixed9 \n",
    "pf9 = Counter({6.8: 59709, 6: 39948, 7.7: 335})\n",
    "pf14 = Counter({7: 63235, 7.8: 36732, 8.7: 11})\n",
    "pf18 = Counter({8: 92071, 8.8: 7904, 7: 17})\n",
    "## PF21\n",
    "pf21 = Counter({9: 99011, 8.2: 987, 10: 2})\n",
    "## PF24\n",
    "pf24 = Counter({9.2: 99846, 10: 95, 8: 59})\n",
    "\n",
    "alpha_val = 1\n",
    "width = 0.2\n",
    "\n",
    "fig, ax = plt.subplots(1, 1)\n",
    "\n",
    "num_steps, freq = zip(*pf9.items())\n",
    "ax.bar((np.array(num_steps)).tolist(), freq, width=width, alpha=alpha_val, color='olive', label='PF9')\n",
    "\n",
    "num_steps, freq = zip(*pf14.items())\n",
    "ax.bar((np.array(num_steps)).tolist(), freq, width=width, alpha=alpha_val, color='springgreen', label='PF14')\n",
    "\n",
    "num_steps, freq = zip(*pf18.items())\n",
    "ax.bar((np.array(num_steps)).tolist(), freq, width=width, alpha=alpha_val, color='turquoise', label='PF18')\n",
    "\n",
    "num_steps, freq = zip(*pf21.items())\n",
    "ax.bar((np.array(num_steps)).tolist(), freq, width=width, alpha=alpha_val, color='brown', label='PF21')\n",
    "\n",
    "num_steps, freq = zip(*pf24.items())\n",
    "ax.bar((np.array(num_steps)).tolist(), freq, width=width, alpha=alpha_val, color='red', label='PF24')\n",
    "\n",
    "# plt.vline(12)\n",
    "ax.grid('on', axis='y', alpha=0.3)\n",
    "# ax.axvspan(12, 21, alpha=0.2, color='gray')\n",
    "ax.legend(fontsize=12)\n",
    "# ax.legend(['9', '14', '18'],loc='best', ncols=3)\n",
    "ax.tick_params(axis='both', labelsize=14)\n",
    "# ax.set_ylim([0.5, 1.0])\n",
    "ax.set_xlabel(r\"\\textbf{Halting step}\", fontsize=14)\n",
    "ax.set_ylabel(r\"\\textbf{Frequency}\", fontsize=14)\n",
    "# ax.set_title(r\"\\textbf{Performance on held out PathFinder-24}\", fontsize=12)\n",
    "\n",
    "# axs.set_title('Frequencies for number of steps taken, \\n for different contour lengths')\n",
    "ax.set_xticks([5,6,7,8,9,10])"
   ]
  },
  {
   "cell_type": "code",
   "execution_count": 68,
   "id": "c9b9e7cf",
   "metadata": {},
   "outputs": [
    {
     "data": {
      "text/plain": [
       "[<matplotlib.axis.XTick at 0x7f2e3925be80>,\n",
       " <matplotlib.axis.XTick at 0x7f2e3925beb0>,\n",
       " <matplotlib.axis.XTick at 0x7f2e39264220>,\n",
       " <matplotlib.axis.XTick at 0x7f2e3a07eb80>,\n",
       " <matplotlib.axis.XTick at 0x7f2e700ea4c0>,\n",
       " <matplotlib.axis.XTick at 0x7f2e3a027370>]"
      ]
     },
     "execution_count": 68,
     "metadata": {},
     "output_type": "execute_result"
    },
    {
     "data": {
      "image/png": "[encoded data removed]",
      "text/plain": [
       "<Figure size 550x339.919 with 1 Axes>"
      ]
     },
     "metadata": {},
     "output_type": "display_data"
    }
   ],
   "source": [
    "# ConvGRU\n",
    "## PFMixed\n",
    "pf9 = Counter({3.9: 81619, 4.7: 17915, 3: 349, 5.6: 109})\n",
    "pf14 = Counter({4.8: 81808, 4.1: 12437, 5.7: 5744})\n",
    "pf18 = Counter({5.8: 72883, 5: 25575, 6.8: 1499})\n",
    "# PF21\n",
    "pf21 = Counter({6: 77827, 7: 20620, 5.2: 1450})\n",
    "# PF24\n",
    "pf24 = Counter({6.2: 62460, 7.2: 36813, 8: 415})\n",
    "\n",
    "alpha_val = 1\n",
    "width = 0.2\n",
    "\n",
    "fig, ax = plt.subplots(1, 1)\n",
    "\n",
    "num_steps, freq = zip(*pf9.items())\n",
    "ax.bar((np.array(num_steps)).tolist(), freq, width=width, alpha=alpha_val, color='olive', label='PF9')\n",
    "\n",
    "num_steps, freq = zip(*pf14.items())\n",
    "ax.bar((np.array(num_steps)).tolist(), freq, width=width, alpha=alpha_val, color='springgreen', label='PF14')\n",
    "\n",
    "num_steps, freq = zip(*pf18.items())\n",
    "ax.bar((np.array(num_steps)).tolist(), freq, width=width, alpha=alpha_val, color='turquoise', label='PF18')\n",
    "\n",
    "num_steps, freq = zip(*pf21.items())\n",
    "ax.bar((np.array(num_steps)).tolist(), freq, width=width, alpha=alpha_val, color='brown', label='PF21')\n",
    "\n",
    "num_steps, freq = zip(*pf24.items())\n",
    "ax.bar((np.array(num_steps)).tolist(), freq, width=width, alpha=alpha_val, color='red', label='PF24')\n",
    "\n",
    "# plt.vline(12)\n",
    "ax.grid('on', axis='y', alpha=0.3)\n",
    "# ax.axvspan(12, 21, alpha=0.2, color='gray')\n",
    "ax.legend(fontsize=12)\n",
    "# ax.legend(['9', '14', '18'],loc='best', ncols=3)\n",
    "ax.tick_params(axis='both', labelsize=14)\n",
    "# ax.set_ylim([0.5, 1.0])\n",
    "ax.set_xlabel(r\"\\textbf{Halting step}\", fontsize=14)\n",
    "ax.set_ylabel(r\"\\textbf{Frequency}\", fontsize=14)\n",
    "# ax.set_title(r\"\\textbf{Performance on held out PathFinder-24}\", fontsize=12)\n",
    "\n",
    "# axs.set_title('Frequencies for number of steps taken, \\n for different contour lengths')\n",
    "ax.set_xticks([3,4,5,6,7,8])"
   ]
  },
  {
   "cell_type": "code",
   "execution_count": null,
   "id": "56609731",
   "metadata": {},
   "outputs": [],
   "source": [
    "plt.figure(figsize=(10,2))\n",
    "means = all_halt_probs[contour_length9_idxs].mean(axis=0)\n",
    "stddevs = all_halt_probs[contour_length9_idxs].std(axis=0)\n",
    "plt.plot(range(1,13), means)\n",
    "# plt.errorbar(range(1,13), means, yerr=stddevs)\n",
    "plt.fill_between(range(1,13), means-stddevs, means+stddevs,\n",
    "    alpha=0.5, edgecolor='#CC4F1B', facecolor='#FF9848')\n",
    "plt.xticks(range(1, 13))\n",
    "plt.title('(Approx) Contribution of output by each timestep, Contour Length 9')\n",
    "\n",
    "plt.figure(figsize=(10,2))\n",
    "means = all_halt_probs[contour_length14_idxs].mean(axis=0)\n",
    "stddevs = all_halt_probs[contour_length14_idxs].std(axis=0)\n",
    "plt.plot(range(1,13), means)\n",
    "# plt.errorbar(range(1,13), means, yerr=stddevs)\n",
    "plt.fill_between(range(1,13), means-stddevs, means+stddevs,\n",
    "    alpha=0.5, edgecolor='#CC4F1B', facecolor='#FF9848')\n",
    "plt.xticks(range(1, 13))\n",
    "plt.title('(Approx) Contribution of output by each timestep, Contour Length 14')\n",
    "\n",
    "plt.figure(figsize=(10,2))\n",
    "means = all_halt_probs[contour_length18_idxs].mean(axis=0)\n",
    "stddevs = all_halt_probs[contour_length18_idxs].std(axis=0)\n",
    "plt.plot(range(1,13), means)\n",
    "# plt.errorbar(range(1,13), means, yerr=stddevs)\n",
    "plt.fill_between(range(1,13), means-stddevs, means+stddevs,\n",
    "    alpha=0.5, edgecolor='#CC4F1B', facecolor='#FF9848')\n",
    "plt.xticks(range(1, 13))\n",
    "plt.title('(Approx) Contribution of output by each timestep, Contour Length 18')"
   ]
  },
  {
   "cell_type": "code",
   "execution_count": null,
   "id": "386f6660",
   "metadata": {},
   "outputs": [],
   "source": [
    "plt.figure(figsize=(10,2))\n",
    "means = all_halt_probs[contour_length9_idxs].mean(axis=0)\n",
    "stddevs = all_halt_probs[contour_length9_idxs].std(axis=0)\n",
    "plt.plot(range(1,13), means)\n",
    "plt.fill_between(range(1,13), means-stddevs, means+stddevs,\n",
    "    alpha=0.5, edgecolor='#CC4F1B', facecolor='#FF9848')\n",
    "plt.xticks(range(1, 13))\n",
    "plt.title('(Approx) Contribution of output by each timestep, Contour Length 9')\n",
    "\n",
    "plt.figure(figsize=(10,2))\n",
    "means = all_halt_probs[contour_length14_idxs].mean(axis=0)\n",
    "stddevs = all_halt_probs[contour_length14_idxs].std(axis=0)\n",
    "plt.plot(range(1,13), means)\n",
    "plt.fill_between(range(1,13), means-stddevs, means+stddevs,\n",
    "    alpha=0.5, edgecolor='#CC4F1B', facecolor='#FF9848')\n",
    "plt.xticks(range(1, 13))\n",
    "plt.title('(Approx) Contribution of output by each timestep, Contour Length 14')\n",
    "\n",
    "plt.figure(figsize=(10,2))\n",
    "means = all_halt_probs[contour_length18_idxs].mean(axis=0)\n",
    "stddevs = all_halt_probs[contour_length18_idxs].std(axis=0)\n",
    "plt.plot(range(1,13), means)\n",
    "plt.fill_between(range(1,13), means-stddevs, means+stddevs,\n",
    "    alpha=0.5, edgecolor='#CC4F1B', facecolor='#FF9848')\n",
    "plt.xticks(range(1, 13))\n",
    "plt.title('(Approx) Contribution of output by each timestep, Contour Length 18')"
   ]
  },
  {
   "cell_type": "code",
   "execution_count": null,
   "id": "fb128cd0",
   "metadata": {},
   "outputs": [],
   "source": [
    "plt.figure(figsize=(10,2))\n",
    "means = state_magnitudes[contour_length9_idxs].mean(axis=0)\n",
    "stddevs = state_magnitudes[contour_length9_idxs].std(axis=0)\n",
    "plt.plot(range(1,13), means)\n",
    "# plt.errorbar(range(1,13), means, yerr=stddevs)\n",
    "plt.fill_between(range(1,13), means-stddevs, means+stddevs,\n",
    "    alpha=0.5, edgecolor='#CC4F1B', facecolor='#FF9848')\n",
    "plt.xticks(range(1, 13))\n",
    "plt.title('(Approx) Contribution of output by each timestep, Contour Length 9')\n",
    "\n",
    "plt.figure(figsize=(10,2))\n",
    "means = state_magnitudes[contour_length14_idxs].mean(axis=0)\n",
    "stddevs = state_magnitudes[contour_length14_idxs].std(axis=0)\n",
    "plt.plot(range(1,13), means)\n",
    "# plt.errorbar(range(1,13), means, yerr=stddevs)\n",
    "plt.fill_between(range(1,13), means-stddevs, means+stddevs,\n",
    "    alpha=0.5, edgecolor='#CC4F1B', facecolor='#FF9848')\n",
    "plt.xticks(range(1, 13))\n",
    "plt.title('(Approx) Contribution of output by each timestep, Contour Length 14')\n",
    "\n",
    "plt.figure(figsize=(10,2))\n",
    "means = state_magnitudes[contour_length18_idxs].mean(axis=0)\n",
    "stddevs = state_magnitudes[contour_length18_idxs].std(axis=0)\n",
    "plt.plot(range(1,13), means)\n",
    "# plt.errorbar(range(1,13), means, yerr=stddevs)\n",
    "plt.fill_between(range(1,13), means-stddevs, means+stddevs,\n",
    "    alpha=0.5, edgecolor='#CC4F1B', facecolor='#FF9848')\n",
    "plt.xticks(range(1, 13))\n",
    "plt.title('(Approx) Contribution of output by each timestep, Contour Length 18')"
   ]
  },
  {
   "cell_type": "code",
   "execution_count": null,
   "id": "864b7e97",
   "metadata": {},
   "outputs": [],
   "source": [
    "plt.figure(figsize=(10,2))\n",
    "\n",
    "# Halt probs weighted by mean abs value of state\n",
    "normalized_contributions = all_halt_probs * state_magnitudes\n",
    "\n",
    "means = normalized_contributions[contour_length9_idxs].mean(axis=0)\n",
    "stddevs = normalized_contributions[contour_length9_idxs].std(axis=0)\n",
    "plt.plot(range(1,13), means)\n",
    "# plt.errorbar(range(1,13), means, yerr=stddevs)\n",
    "plt.fill_between(range(1,13), means-stddevs, means+stddevs,\n",
    "    alpha=0.5, edgecolor='#CC4F1B', facecolor='#FF9848')\n",
    "plt.xticks(range(1, 13))\n",
    "plt.title('(Approx) Contribution of output by each timestep, Contour Length 9')\n",
    "\n",
    "plt.figure(figsize=(10,2))\n",
    "means = normalized_contributions[contour_length14_idxs].mean(axis=0)\n",
    "stddevs = normalized_contributions[contour_length14_idxs].std(axis=0)\n",
    "plt.plot(range(1,13), means)\n",
    "# plt.errorbar(range(1,13), means, yerr=stddevs)\n",
    "plt.fill_between(range(1,13), means-stddevs, means+stddevs,\n",
    "    alpha=0.5, edgecolor='#CC4F1B', facecolor='#FF9848')\n",
    "plt.xticks(range(1, 13))\n",
    "plt.title('(Approx) Contribution of output by each timestep, Contour Length 14')\n",
    "\n",
    "plt.figure(figsize=(10,2))\n",
    "means = normalized_contributions[contour_length18_idxs].mean(axis=0)\n",
    "stddevs = normalized_contributions[contour_length18_idxs].std(axis=0)\n",
    "plt.plot(range(1,13), means)\n",
    "# plt.errorbar(range(1,13), means, yerr=stddevs)\n",
    "plt.fill_between(range(1,13), means-stddevs, means+stddevs,\n",
    "    alpha=0.5, edgecolor='#CC4F1B', facecolor='#FF9848')\n",
    "plt.xticks(range(1, 13))\n",
    "plt.title('(Approx) Contribution of output by each timestep, Contour Length 18')"
   ]
  },
  {
   "cell_type": "code",
   "execution_count": 7,
   "id": "b7a0a3ec",
   "metadata": {},
   "outputs": [
    {
     "name": "stderr",
     "output_type": "stream",
     "text": [
      "100%|███████████████████████████████████████████████████████████████████████████████| 1172/1172 [02:35<00:00,  7.53it/s]\n"
     ]
    }
   ],
   "source": [
    "all_images = []\n",
    "for x in tqdm(val_loader):\n",
    "    inputs, _ = x\n",
    "    all_images.append(inputs)\n",
    "all_images = torch.cat(all_images, dim=0)\n",
    "all_images = all_images[:, 0, :, :]"
   ]
  },
  {
   "cell_type": "markdown",
   "id": "ca03eae3",
   "metadata": {
    "heading_collapsed": true,
    "jp-MarkdownHeadingCollapsed": true,
    "tags": []
   },
   "source": [
    "### Check if difficulty corresponds to number of steps"
   ]
  },
  {
   "cell_type": "code",
   "execution_count": null,
   "id": "89084094",
   "metadata": {
    "hidden": true
   },
   "outputs": [],
   "source": [
    "# Within all 14 length contours, get 10 examples each of steps 6, 7 and 8\n",
    "num_steps_run = (all_halt_probs != 0).sum(dim=1).numpy()\n",
    "temp2 = set(contour_length14_idxs.tolist())\n",
    "\n",
    "temp = np.where(num_steps_run==6)[0]\n",
    "length14_step6_idxs = np.array([x for x in temp if x in temp2])\n",
    "temp = np.where(num_steps_run==7)[0]\n",
    "length14_step7_idxs = np.array([x for x in temp if x in temp2])\n",
    "temp = np.where(num_steps_run==8)[0]\n",
    "length14_step8_idxs = np.array([x for x in temp if x in temp2])"
   ]
  },
  {
   "cell_type": "code",
   "execution_count": null,
   "id": "9a44b49e",
   "metadata": {
    "hidden": true
   },
   "outputs": [],
   "source": [
    "sampled_step6_idxs = np.random.choice(length14_step6_idxs, size=5, replace=False)\n",
    "sampled_step7_idxs = np.random.choice(length14_step7_idxs, size=5, replace=False)\n",
    "sampled_step8_idxs = np.random.choice(length14_step8_idxs, size=5, replace=False)"
   ]
  },
  {
   "cell_type": "code",
   "execution_count": null,
   "id": "936e16b5",
   "metadata": {
    "hidden": true
   },
   "outputs": [],
   "source": [
    "fig = plt.figure(figsize=(30,15))\n",
    "for idx, x in enumerate(all_images[sampled_step6_idxs]):\n",
    "    fig.add_subplot(3,5,idx+1)\n",
    "    plt.imshow(x)\n",
    "for idx, x in enumerate(all_images[sampled_step7_idxs]):\n",
    "    fig.add_subplot(3,5,idx+6)\n",
    "    plt.imshow(x)\n",
    "for idx, x in enumerate(all_images[sampled_step8_idxs]):\n",
    "    fig.add_subplot(3,5,idx+11)\n",
    "    plt.imshow(x)"
   ]
  },
  {
   "cell_type": "markdown",
   "id": "cf7a31da",
   "metadata": {},
   "source": [
    "### Inspect state activations"
   ]
  },
  {
   "cell_type": "code",
   "execution_count": 8,
   "id": "76963d6e",
   "metadata": {},
   "outputs": [
    {
     "data": {
      "text/plain": [
       "(Linear(in_features=2, out_features=2, bias=True),\n",
       " Conv2d(32, 2, kernel_size=(1, 1), stride=(1, 1)))"
      ]
     },
     "execution_count": 8,
     "metadata": {},
     "output_type": "execute_result"
    }
   ],
   "source": [
    "model.readout, model.final_conv"
   ]
  },
  {
   "cell_type": "code",
   "execution_count": 9,
   "id": "a0c2f8ce",
   "metadata": {},
   "outputs": [],
   "source": [
    "pos_idx = torch.tensor(np.random.choice(pos14, 2))\n",
    "neg_idx = torch.tensor(np.random.choice(neg14, 2))\n",
    "chosen_idxs = torch.cat([pos_idx, neg_idx])\n",
    "print(chosen_idxs)"
   ]
  },
  {
   "cell_type": "code",
   "execution_count": 10,
   "id": "b781c148",
   "metadata": {},
   "outputs": [],
   "source": [
    "subset_val_loader = torch.utils.data.DataLoader(\n",
    "        torch.utils.data.Subset(val_dataset, chosen_idxs),\n",
    "        batch_size=args.batch_size, shuffle=False,\n",
    "        num_workers=args.workers, pin_memory=True)"
   ]
  },
  {
   "cell_type": "code",
   "execution_count": 11,
   "id": "0184276a",
   "metadata": {},
   "outputs": [
    {
     "name": "stderr",
     "output_type": "stream",
     "text": [
      "100%|████████████████████████████████████████████████████████████████████████████████████████| 1/1 [00:01<00:00,  1.15s/it]\n"
     ]
    }
   ],
   "source": [
    "for x in tqdm(subset_val_loader):\n",
    "    inputs, _ = x\n",
    "    all_images = inputs\n",
    "all_images = all_images[:, 0, :, :]"
   ]
  },
  {
   "cell_type": "code",
   "execution_count": 12,
   "id": "7a2a18c0",
   "metadata": {},
   "outputs": [
    {
     "name": "stderr",
     "output_type": "stream",
     "text": [
      "0it [00:00, ?it/s]/home/AD/srravishankar/anaconda3/envs/pytorch_111/lib/python3.9/site-packages/torch/nn/functional.py:1967: UserWarning: nn.functional.sigmoid is deprecated. Use torch.sigmoid instead.\n",
      "  warnings.warn(\"nn.functional.sigmoid is deprecated. Use torch.sigmoid instead.\")\n",
      "1it [00:11, 11.27s/it]\n"
     ]
    }
   ],
   "source": [
    "# We apply the final layer (32 x 1) to each point in the 32 x 40 x 40 state vector at each timepoint. Gives us a 40 x 40 image\n",
    "model.eval()\n",
    "for i, (images, target) in tqdm(enumerate(subset_val_loader)):\n",
    "        images = images.cuda(args.gpu, non_blocking=True)\n",
    "        x, gates, halt_probs, ponder_cost = model.backbone(images)\n",
    "        s_exc, s_inh = torch.stack(x[0]), torch.stack(x[1])\n",
    "        g_exc, g_inh = torch.stack(gates[0]), torch.stack(gates[1])\n",
    "        \n",
    "        exc_state_activations = s_exc\n",
    "        inh_state_activations = s_inh\n",
    "        exc_gate_activations = g_exc\n",
    "        inh_gate_activations = g_inh\n",
    "        all_halt_probs = halt_probs"
   ]
  },
  {
   "cell_type": "markdown",
   "id": "e27c3b5a-5534-4887-bb13-3d77e522034e",
   "metadata": {},
   "source": [
    "#### Inspect what the channels are doing separately"
   ]
  },
  {
   "cell_type": "code",
   "execution_count": null,
   "id": "67eec8e5-a2f6-42de-9aae-f87e8c5f1231",
   "metadata": {},
   "outputs": [],
   "source": [
    "num_timesteps, bs, nc, d1, d2 = exc_state_activations.shape\n",
    "\n",
    "example_idx = 0\n",
    "channel_idx = 23\n",
    "x1 = exc_state_activations[:, example_idx, channel_idx, :, :].detach().cpu().numpy()\n",
    "x2 = inh_state_activations[:, example_idx, channel_idx, :, :].detach().cpu().numpy()\n",
    "\n",
    "fig = plt.figure(figsize=(20, 4))\n",
    "num_timesteps_shown = 9\n",
    "nrows = 2\n",
    "ncols = num_timesteps_shown + 1\n",
    "\n",
    "# Row 1, exc state\n",
    "idx = 0\n",
    "\n",
    "fig.add_subplot(nrows, ncols, 1 + (ncols * idx))\n",
    "plt.imshow(all_images[example_idx])    \n",
    "plt.xticks([])\n",
    "plt.yticks([])\n",
    "\n",
    "for timestep in range(num_timesteps_shown):\n",
    "    fig.add_subplot(nrows, ncols, timestep + 2 + (ncols * idx))\n",
    "    plt.imshow(x1[timestep, :, :], cmap='viridis')\n",
    "    plt.xticks([])\n",
    "    plt.yticks([])\n",
    "    # plt.title('{:.2f}'.format(all_halt_probs[example_idx, timestep].item()))\n",
    "\n",
    "# Row 2, inh state\n",
    "idx = 1\n",
    "\n",
    "fig.add_subplot(nrows, ncols, 1 + (ncols * idx))\n",
    "plt.imshow(all_images[example_idx])    \n",
    "plt.xticks([])\n",
    "plt.yticks([])\n",
    "    \n",
    "for timestep in range(num_timesteps_shown):\n",
    "    fig.add_subplot(nrows, ncols, timestep + 2 + (ncols * idx))\n",
    "    plt.imshow(x2[timestep, :, :], cmap='viridis')\n",
    "    plt.xticks([])\n",
    "    plt.yticks([])\n",
    "    # plt.title('{:.2f}'.format(all_halt_probs[example_idx, timestep].item()))\n"
   ]
  },
  {
   "cell_type": "markdown",
   "id": "67307cf9-04aa-455a-a811-1fae9cd2a545",
   "metadata": {},
   "source": [
    "#### Inspect what the average of the channels are encoding"
   ]
  },
  {
   "cell_type": "code",
   "execution_count": 35,
   "id": "0da669a6",
   "metadata": {},
   "outputs": [],
   "source": [
    "# average (over channels) excitatory state activations \n",
    "x = exc_state_activations\n",
    "num_timesteps, bs, nc, d1, d2 = x.shape\n",
    "x1 = x.mean(axis=2)\n",
    "x1 = x1.transpose(0,1).detach().cpu().numpy()\n",
    "\n",
    "# average (over channels) inhibitory state activations\n",
    "x = inh_state_activations\n",
    "num_timesteps, bs, nc, d1, d2 = x.shape\n",
    "x2 = x.mean(axis=2)\n",
    "x2 = x2.transpose(0,1).detach().cpu().numpy()\n",
    "\n",
    "# average (over channels) excitatory gate activations\n",
    "x = exc_gate_activations\n",
    "num_timesteps, bs, nc, d1, d2 = x.shape\n",
    "x3 = x.mean(axis=2)\n",
    "x3 = x3.transpose(0,1).detach().cpu().numpy()\n",
    "\n",
    "# average (over channels) inhibitory gate activations\n",
    "x = inh_gate_activations\n",
    "num_timesteps, bs, nc, d1, d2 = x.shape\n",
    "x4 = x.mean(axis=2)\n",
    "x4 = x4.transpose(0,1).detach().cpu().numpy()"
   ]
  },
  {
   "cell_type": "code",
   "execution_count": 36,
   "id": "7e413064",
   "metadata": {},
   "outputs": [
    {
     "data": {
      "text/plain": [
       "((4, 12, 40, 40), (4, 12, 40, 40), (4, 12, 40, 40), torch.Size([4, 12]))"
      ]
     },
     "execution_count": 36,
     "metadata": {},
     "output_type": "execute_result"
    }
   ],
   "source": [
    "x1.shape, x2.shape, x3.shape, all_halt_probs.shape"
   ]
  },
  {
   "cell_type": "code",
   "execution_count": 39,
   "id": "6314a52a",
   "metadata": {},
   "outputs": [
    {
     "name": "stdout",
     "output_type": "stream",
     "text": [
      "tensor(55449)\n"
     ]
    }
   ],
   "source": [
    "example_idx = np.random.choice(len(chosen_idxs))\n",
    "print(chosen_idxs[example_idx])"
   ]
  },
  {
   "cell_type": "code",
   "execution_count": 72,
   "id": "3b2a5310",
   "metadata": {},
   "outputs": [
    {
     "data": {
      "image/png": "[encoded data removed]",
      "text/plain": [
       "<Figure size 2000x1000 with 40 Axes>"
      ]
     },
     "metadata": {},
     "output_type": "display_data"
    }
   ],
   "source": [
    "fig = plt.figure(figsize=(20, 10))\n",
    "num_timesteps_shown = 9\n",
    "nrows = 4\n",
    "ncols = num_timesteps_shown + 1\n",
    "\n",
    "# Row 1, exc state\n",
    "idx = 0\n",
    "\n",
    "fig.add_subplot(nrows, ncols, 1 + (ncols * idx))\n",
    "plt.imshow(all_images[example_idx])    \n",
    "plt.xticks([])\n",
    "plt.yticks([])\n",
    "\n",
    "for timestep in range(num_timesteps_shown):\n",
    "    fig.add_subplot(nrows, ncols, timestep + 2 + (ncols * idx))\n",
    "    plt.imshow(x1[example_idx, timestep, :, :], cmap='viridis')\n",
    "    plt.xticks([])\n",
    "    plt.yticks([])\n",
    "    plt.title('{:.2f}'.format(all_halt_probs[example_idx, timestep].item()))\n",
    "\n",
    "# Row 2, inh state\n",
    "idx = 1\n",
    "\n",
    "fig.add_subplot(nrows, ncols, 1 + (ncols * idx))\n",
    "plt.imshow(all_images[example_idx])    \n",
    "plt.xticks([])\n",
    "plt.yticks([])\n",
    "    \n",
    "for timestep in range(num_timesteps_shown):\n",
    "    fig.add_subplot(nrows, ncols, timestep + 2 + (ncols * idx))\n",
    "    plt.imshow(x2[example_idx, timestep, :, :], cmap='viridis')\n",
    "    plt.xticks([])\n",
    "    plt.yticks([])\n",
    "    plt.title('{:.2f}'.format(all_halt_probs[example_idx, timestep].item()))\n",
    "\n",
    "# Row 3, exc gate\n",
    "idx = 2\n",
    "\n",
    "fig.add_subplot(nrows, ncols, 1 + (ncols * idx))\n",
    "plt.imshow(all_images[example_idx])    \n",
    "plt.xticks([])\n",
    "plt.yticks([])\n",
    "    \n",
    "for timestep in range(num_timesteps_shown):\n",
    "    fig.add_subplot(nrows, ncols, timestep + 2 + (ncols * idx))\n",
    "    plt.imshow(x3[example_idx, timestep, :, :], cmap='viridis')\n",
    "    plt.xticks([])\n",
    "    plt.yticks([])\n",
    "    plt.title('{:.2f}'.format(all_halt_probs[example_idx, timestep].item()))\n",
    "\n",
    "# Row 4, inh gate\n",
    "idx = 3\n",
    "\n",
    "fig.add_subplot(nrows, ncols, 1 + (ncols * idx))\n",
    "plt.imshow(all_images[example_idx])    \n",
    "plt.xticks([])\n",
    "plt.yticks([])\n",
    "    \n",
    "for timestep in range(num_timesteps_shown):\n",
    "    fig.add_subplot(nrows, ncols, timestep + 2 + (ncols * idx))\n",
    "    plt.imshow(x4[example_idx, timestep, :, :], cmap='viridis')\n",
    "    plt.xticks([])\n",
    "    plt.yticks([])\n",
    "    plt.title('{:.2f}'.format(all_halt_probs[example_idx, timestep].item()))"
   ]
  },
  {
   "cell_type": "code",
   "execution_count": 68,
   "id": "5867dc3f",
   "metadata": {},
   "outputs": [
    {
     "name": "stdout",
     "output_type": "stream",
     "text": [
      "tensor(202276)\n"
     ]
    }
   ],
   "source": [
    "example_idx = np.random.choice(len(chosen_idxs))\n",
    "print(chosen_idxs[example_idx])"
   ]
  },
  {
   "cell_type": "code",
   "execution_count": 69,
   "id": "861d73e0",
   "metadata": {
    "scrolled": true
   },
   "outputs": [
    {
     "data": {
      "text/plain": [
       "(-0.5, 159.5, 159.5, -0.5)"
      ]
     },
     "execution_count": 69,
     "metadata": {},
     "output_type": "execute_result"
    },
    {
     "data": {
      "image/png": "[encoded data removed]",
      "text/plain": [
       "<Figure size 300x300 with 1 Axes>"
      ]
     },
     "metadata": {},
     "output_type": "display_data"
    }
   ],
   "source": [
    "from PIL import Image\n",
    "from matplotlib import cm\n",
    "\n",
    "# Only states, not gates\n",
    "\n",
    "num_timesteps_shown = 9\n",
    "nrows = 2\n",
    "ncols = num_timesteps_shown + 1\n",
    "\n",
    "plt.figure(figsize=(3, 3))\n",
    "plt.imshow(all_images[example_idx])\n",
    "plt.axis('off')"
   ]
  },
  {
   "cell_type": "code",
   "execution_count": 70,
   "id": "3b3abdb7",
   "metadata": {},
   "outputs": [
    {
     "data": {
      "image/png": "[encoded data removed]",
      "text/plain": [
       "<Figure size 300x300 with 1 Axes>"
      ]
     },
     "metadata": {},
     "output_type": "display_data"
    },
    {
     "data": {
      "image/png": "[encoded data removed]",
      "text/plain": [
       "<Figure size 300x300 with 1 Axes>"
      ]
     },
     "metadata": {},
     "output_type": "display_data"
    },
    {
     "data": {
      "image/png": "[encoded data removed]",
      "text/plain": [
       "<Figure size 300x300 with 1 Axes>"
      ]
     },
     "metadata": {},
     "output_type": "display_data"
    },
    {
     "data": {
      "image/png": "[encoded data removed]",
      "text/plain": [
       "<Figure size 300x300 with 1 Axes>"
      ]
     },
     "metadata": {},
     "output_type": "display_data"
    },
    {
     "data": {
      "image/png": "[encoded data removed]",
      "text/plain": [
       "<Figure size 300x300 with 1 Axes>"
      ]
     },
     "metadata": {},
     "output_type": "display_data"
    },
    {
     "data": {
      "image/png": "[encoded data removed]",
      "text/plain": [
       "<Figure size 300x300 with 1 Axes>"
      ]
     },
     "metadata": {},
     "output_type": "display_data"
    },
    {
     "data": {
      "image/png": "[encoded data removed]",
      "text/plain": [
       "<Figure size 300x300 with 1 Axes>"
      ]
     },
     "metadata": {},
     "output_type": "display_data"
    },
    {
     "data": {
      "image/png": "[encoded data removed]",
      "text/plain": [
       "<Figure size 300x300 with 1 Axes>"
      ]
     },
     "metadata": {},
     "output_type": "display_data"
    },
    {
     "data": {
      "image/png": "[encoded data removed]",
      "text/plain": [
       "<Figure size 300x300 with 1 Axes>"
      ]
     },
     "metadata": {},
     "output_type": "display_data"
    }
   ],
   "source": [
    "for timestep in range(num_timesteps_shown):\n",
    "    plt.figure(figsize=(3, 3))\n",
    "    plt.imshow(x1[example_idx, timestep, :, :], cmap='viridis')\n",
    "    plt.axis('off')"
   ]
  },
  {
   "cell_type": "code",
   "execution_count": 73,
   "id": "b7890bea",
   "metadata": {},
   "outputs": [
    {
     "data": {
      "image/png": "[encoded data removed]",
      "text/plain": [
       "<Figure size 300x300 with 1 Axes>"
      ]
     },
     "metadata": {},
     "output_type": "display_data"
    },
    {
     "data": {
      "image/png": "[encoded data removed]",
      "text/plain": [
       "<Figure size 300x300 with 1 Axes>"
      ]
     },
     "metadata": {},
     "output_type": "display_data"
    },
    {
     "data": {
      "image/png": "[encoded data removed]",
      "text/plain": [
       "<Figure size 300x300 with 1 Axes>"
      ]
     },
     "metadata": {},
     "output_type": "display_data"
    },
    {
     "data": {
      "image/png": "[encoded data removed]",
      "text/plain": [
       "<Figure size 300x300 with 1 Axes>"
      ]
     },
     "metadata": {},
     "output_type": "display_data"
    },
    {
     "data": {
      "image/png": "[encoded data removed]",
      "text/plain": [
       "<Figure size 300x300 with 1 Axes>"
      ]
     },
     "metadata": {},
     "output_type": "display_data"
    },
    {
     "data": {
      "image/png": "[encoded data removed]",
      "text/plain": [
       "<Figure size 300x300 with 1 Axes>"
      ]
     },
     "metadata": {},
     "output_type": "display_data"
    },
    {
     "data": {
      "image/png": "[encoded data removed]",
      "text/plain": [
       "<Figure size 300x300 with 1 Axes>"
      ]
     },
     "metadata": {},
     "output_type": "display_data"
    },
    {
     "data": {
      "image/png": "[encoded data removed]",
      "text/plain": [
       "<Figure size 300x300 with 1 Axes>"
      ]
     },
     "metadata": {},
     "output_type": "display_data"
    },
    {
     "data": {
      "image/png": "[encoded data removed]",
      "text/plain": [
       "<Figure size 300x300 with 1 Axes>"
      ]
     },
     "metadata": {},
     "output_type": "display_data"
    }
   ],
   "source": [
    "for timestep in range(num_timesteps_shown):\n",
    "    plt.figure(figsize=(3, 3))\n",
    "    plt.imshow(x2[example_idx, timestep, :, :], cmap='viridis')\n",
    "    plt.axis('off')"
   ]
  },
  {
   "cell_type": "markdown",
   "id": "89eeea35",
   "metadata": {
    "heading_collapsed": true,
    "jp-MarkdownHeadingCollapsed": true,
    "tags": []
   },
   "source": [
    "# Creating plots for NeurIPS 23"
   ]
  },
  {
   "cell_type": "code",
   "execution_count": 4,
   "id": "0c33c479",
   "metadata": {
    "hidden": true
   },
   "outputs": [],
   "source": [
    "from tueplots import bundles\n",
    "bundles.neurips2022()\n",
    "# bundles.icml2022(family=\"sans-serif\", usetex=False, column=\"full\", nrows=2)\n",
    "bundles.neurips2022(family=\"sans-serif\", usetex=False)\n",
    "\n",
    "plt.rcParams.update(bundles.neurips2022())\n",
    "plt.rcParams.fontsize = 12"
   ]
  },
  {
   "cell_type": "code",
   "execution_count": 14,
   "id": "84297be2",
   "metadata": {
    "hidden": true
   },
   "outputs": [
    {
     "data": {
      "image/png": "[encoded data removed]",
      "text/plain": [
       "<Figure size 550x339.919 with 1 Axes>"
      ]
     },
     "metadata": {},
     "output_type": "display_data"
    }
   ],
   "source": [
    "x_axis = ['LocRNN', 'ConvGRU', 'R-Resnet']\n",
    "y_axis = [97.3, 94.6, 50.0]\n",
    "\n",
    "plt.bar(x_axis, y_axis, width=0.2)\n",
    "plt.title('title name')\n",
    "plt.xlabel('x_axis name')\n",
    "plt.ylabel('y_axis name')\n",
    "plt.show()"
   ]
  },
  {
   "cell_type": "markdown",
   "id": "c6e91c80",
   "metadata": {
    "hidden": true
   },
   "source": [
    "## Force number of inference iterations for non-ACT models"
   ]
  },
  {
   "cell_type": "code",
   "execution_count": null,
   "id": "a4daefa5",
   "metadata": {
    "hidden": true
   },
   "outputs": [],
   "source": []
  }
 ],
 "metadata": {
  "kernelspec": {
   "display_name": "Python [conda env:pytorch_111]",
   "language": "python",
   "name": "conda-env-pytorch_111-py"
  },
  "language_info": {
   "codemirror_mode": {
    "name": "ipython",
    "version": 3
   },
   "file_extension": ".py",
   "mimetype": "text/x-python",
   "name": "python",
   "nbconvert_exporter": "python",
   "pygments_lexer": "ipython3",
   "version": "3.9.5"
  },
  "toc": {
   "base_numbering": 1,
   "nav_menu": {},
   "number_sections": true,
   "sideBar": true,
   "skip_h1_title": false,
   "title_cell": "Table of Contents",
   "title_sidebar": "Contents",
   "toc_cell": false,
   "toc_position": {},
   "toc_section_display": true,
   "toc_window_display": false
  }
 },
 "nbformat": 4,
 "nbformat_minor": 5
}
