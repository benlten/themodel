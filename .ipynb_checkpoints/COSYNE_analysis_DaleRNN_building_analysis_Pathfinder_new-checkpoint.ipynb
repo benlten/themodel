{
 "cells": [
  {
   "cell_type": "code",
   "execution_count": null,
   "metadata": {
    "id": "KnfpCjTZIiaJ"
   },
   "outputs": [],
   "source": [
    "import numpy as np\n",
    "import torch\n",
    "import matplotlib.pyplot as plt\n",
    "import glob\n",
    "import seaborn as sns\n",
    "import os\n",
    "\n",
    "from tueplots import bundles\n",
    "plt.rcParams.update(bundles.neurips2022())\n",
    "# plt.rcParams[\"font.weight\"] = \"bold\"\n",
    "# plt.rcParams[\"axes.labelweight\"] = \"bold\"\n",
    "# Plug any of those into either the rcParams or into an rc_context:\n",
    "# plt.rcParams.update(bundles.beamer_moml())"
   ]
  },
  {
   "cell_type": "code",
   "execution_count": null,
   "metadata": {
    "colab": {
     "base_uri": "https://localhost:8080/"
    },
    "id": "ShyjfkggTsBC",
    "outputId": "75364f0c-084c-4db1-cee9-0530f84814dd"
   },
   "outputs": [
    {
     "name": "stdout",
     "output_type": "stream",
     "text": [
      "/mnt/sphere/home/vveeraba/src/pathfinder\n"
     ]
    }
   ],
   "source": [
    "cd /home/AD/vveeraba/src/pathfinder/"
   ]
  },
  {
   "cell_type": "code",
   "execution_count": null,
   "metadata": {
    "id": "_-PQq8XQIt-Y"
   },
   "outputs": [],
   "source": [
    "def get_results(model_paths, return_base_results = False):\n",
    "  base_results = []\n",
    "  train_results = {}\n",
    "  for model_path in model_paths:\n",
    "    results_paths = glob.glob(\"%s/stats.txt\" % model_path)\n",
    "    for r_p in sorted(results_paths):\n",
    "      with open(r_p, 'r') as f:\n",
    "        curr_results = f.readlines()\n",
    "      curr_results = [eval(i.strip())['val_acc1'] for i in curr_results if 'val_acc1' in i]\n",
    "      # print(len(curr_results))\n",
    "      if len(curr_results) < 5:\n",
    "        curr_results = curr_results + [curr_results[-1]] * (5 - len(curr_results))\n",
    "      base_results.append(curr_results)\n",
    "  base_res_mean = np.mean(base_results, 0)\n",
    "  base_res_sem = np.std(base_results, 0) / np.sqrt(len(base_results))\n",
    "  if return_base_results:\n",
    "    return base_res_mean, base_res_sem, base_results\n",
    "  return base_res_mean, base_res_sem"
   ]
  },
  {
   "cell_type": "code",
   "execution_count": null,
   "metadata": {
    "id": "Ex1TMTlQNcz0"
   },
   "outputs": [],
   "source": [
    "model_paths = {\n",
    "            9:\n",
    "            {\n",
    "                \"LocRNN\": ['dalernn/pf9_dalernn_ts12_fsize9_k32_yziayo_seed_10',\n",
    "                            'dalernn/pf9_dalernn_ts12_fsize9_k32_vnfjcd_seed_1234',\n",
    "                            'dalernn/pf9_dalernn_ts12_fsize9_k32_phjfkg_seed_56'\n",
    "                            ],\n",
    "                \"hConvGRU\": ['hgru/paper_pf9_hgru_ts12_fsize9_k38_cmewvx_seed_10',\n",
    "                         'hgru/paper_pf9_hgru_ts12_fsize9_k38_mtvwgj_seed_56',\n",
    "                         ],\n",
    "                \"ConvGRU\": ['gru/pf9_gru_ts12_fsize9_k32_pbgifi_seed_56',\n",
    "                        'gru/pf9_gru_ts12_fsize9_k32_uycwee_seed_1234',\n",
    "                        'gru/pf9_gru_ts12_fsize9_k32_wqxaks_seed_10'],\n",
    "                \"ResNet-10\": ['resnet_thin/paper_pf9_resnet10_thin_ts12_fsize9_dujfah_seed_1234',\n",
    "                              'resnet_thin/paper_pf9_resnet10_thin_ts12_fsize9_enwuju_seed_10',\n",
    "                              'resnet_thin/paper_pf9_resnet10_thin_ts12_fsize9_zfufnk_seed_56'],\n",
    "                \"ResNet-18\": ['resnet_thin/paper_pf9_resnet18_thin_ts12_fsize9_pzacht_seed_56',\n",
    "                              'resnet_thin/paper_pf9_resnet18_thin_ts12_fsize9_gbpryl_seed_1234',\n",
    "                              'resnet_thin/paper_pf9_resnet18_thin_ts12_fsize9_ajszpe_seed_10'],\n",
    "                \"CORNet-S\": ['cornets_relu/pf9_cornets_ts12_fsize7_k32_zpyjhd_seed_56',\n",
    "                             'cornets_relu/pf9_cornets_ts12_fsize7_k32_gfrgki_seed_10',\n",
    "                             'cornets_relu/pf9_cornets_ts12_fsize7_k32_bnejja_seed_1234'],\n",
    "                \"ConvRNN\": ['convrnn_relu/pf9_convrnn_ts12_fsize7_k32_azdgzd_seed_10',\n",
    "                            'convrnn_relu/pf9_convrnn_ts12_fsize7_k32_cyduzf_seed_56',\n",
    "                            'convrnn_relu/pf9_convrnn_ts12_fsize7_k32_hvlexy_seed_1234'],\n",
    "             \n",
    "\n",
    "                # \"ResNet-18-full\": ['resnet/pf9_resnet_full_swcslq_seed_56',\n",
    "                #                    'resnet/pf9_resnet_full_syxtim_seed_1234',\n",
    "                #                    'resnet/pf9_resnet_full_cdpvlp_seed_10'],\n",
    "                # \"ViT_B6_32 (transformer)\": [],\n",
    "             \"R-ResNet-18\": [],\n",
    "            },\n",
    "            14: \n",
    "               {\"LocRNN\": [\n",
    "                   'dalernn/pf14_dalernn_ts12_fsize9_k32_jovlwv_seed_1234',\n",
    "                    'dalernn/pf14_dalernn_ts12_fsize9_k32_nyejdf_seed_56',\n",
    "                    'dalernn/pf14_dalernn_ts12_fsize9_k32_kwnlmk_seed_10'],\n",
    "                \"hConvGRU\": ['hgru/hgru3_pf9_hgru_ts12_fsize9_k38_fseygt_seed_10',\n",
    "                          'hgru/hgru3_pf9_hgru_ts12_fsize9_k38_ixlwax_seed_56',\n",
    "                          'hgru/hgru3_pf9_hgru_ts12_fsize9_k38_lxanxk_seed_1234'],\n",
    "                \"ConvGRU\": ['gru/gru3_pf14_gru_ts12_fsize9_k32_fjohqs_seed_1234', \n",
    "                        'gru/gru3_pf14_gru_ts12_fsize9_k32_mnhkqk_seed_10', \n",
    "                        'gru/gru3_pf14_gru_ts12_fsize9_k32_wktcnw_seed_56'],\n",
    "                \"CORNet-S\": ['cornets_relu/pf9_cornets_ts12_fsize7_k32_keovxj_seed_10',\n",
    "                             'cornets_relu/pf9_cornets_ts12_fsize7_k32_lfeqvt_seed_1234',\n",
    "                             'cornets_relu/pf14_channels20_fsize7_qxxgjc_seed_56'],\n",
    "                \"ConvRNN\": ['convrnn_relu/pf14_channels20_fsize7_gmfvnt_seed_56',\n",
    "                            # 'convrnn_relu/pf14_channels20_fsize7_rlalle_seed_10',\n",
    "                            'convrnn_relu/pf14_channels20_fsize7_zghakt_seed_10'],\n",
    "                \"ResNet-10\": ['resnet_thin/resnet_thin10_pf14_resnet_thin_ts12_fsize9_k64_qahrxi_seed_10',\n",
    "                              'resnet_thin/resnet_thin10_pf14_resnet_thin_ts12_fsize9_k64_gtjhuy_seed_56',\n",
    "                              'resnet_thin/resnet_thin10_pf14_resnet_thin_ts12_fsize9_k64_ulplud_seed_1234'],\n",
    "                \"ResNet-18\": ['resnet_thin/resnet_thin18_pf14_resnet_thin_ts12_fsize9_k32_gsipru_seed_1234',\n",
    "                              'resnet_thin/resnet_thin18_pf14_resnet_thin_ts12_fsize9_k32_nnrwvr_seed_10',\n",
    "                              'resnet_thin/resnet_thin18_pf14_resnet_thin_ts12_fsize9_k32_xotxpj_seed_56'],\n",
    "                # \"ResNet-18-full\": ['resnet/resnet18_pf14_resnet_full_wgkqhi_seed_10'],\n",
    "                \"R-ResNet-18\": ['resnet_thin_pathfinder/noshapechange_paper_pf14_resnet18_thin_pathfinder_xklozr_seed_1234',\n",
    "                                    'resnet_thin_pathfinder/noshapechange_paper_pf14_resnet18_thin_pathfinder_zauhvl_seed_56',\n",
    "                                    'resnet_thin_pathfinder/noshapechange_paper_pf14_resnet18_thin_pathfinder_lhokau_seed_10'],\n",
    "                # \"ViT_B6_32 (transformer)\": ['transformer/transformer6_pf14_transformer_oc32_nl6_cuklvq_seed_10',\n",
    "                #                             'transformer/transformer6_pf14_transformer_oc32_nl6_leegmn_seed_56',\n",
    "                #                             'transformer6_pf14_transformer_oc32_nl6_fwqokq_seed_1234']\n",
    "                },\n",
    "               18:\n",
    "               {\n",
    "                   \"LocRNN\": ['dalernn/dalernn3_pf18_dalernn_ts12_fsize9_oc32_b256_asovgy_seed_10',\n",
    "                               'dalernn/dalernn3_pf18_dalernn_ts12_fsize9_oc32_b256_gwuwup_seed_1234',\n",
    "                              #  'dalernn/dalernn3_pf18_dalernn_ts12_fsize9_oc32_b256_new_uhmzyi_seed_56'\n",
    "                               ],\n",
    "                    \"hConvGRU\": ['hgru/hgru3_pf18_hgru_ts12_fsize9_gnvssv_seed_10',\n",
    "                             'hgru/hgru3_pf18_hgru_ts12_fsize9_ibvoij_seed_56',\n",
    "                             'hgru/hgru3_pf18_hgru_ts12_fsize9_zjddki_seed_1234'],\n",
    "                    \"ConvGRU\": ['gru/gru3_pf18_gru_ts12_fsize9_diwfls_seed_1234',\n",
    "                            'gru/gru3_pf18_gru_ts12_fsize9_leybmt_seed_10',\n",
    "                            'gru/gru3_pf18_gru_ts12_fsize9_minlct_seed_56'],\n",
    "                    \"CORNet-S\": ['cornets_relu/pf18_cornets_ts12_fsize7_k32_bliero_seed_56',\n",
    "                                 'cornets_relu/pf18_cornets_ts12_fsize7_k32_uupoqr_seed_1234',\n",
    "                                 'cornets_relu/pf18_cornets_ts12_fsize7_k32_yhoebn_seed_10',\n",
    "                                 ],\n",
    "                    \"ConvRNN\": [],\n",
    "                    \"ResNet-10\": ['resnet_thin/resnet_thin10_pf18_resnetwide10_oc64_yhxeks_seed_10',\n",
    "                                  'resnet_thin/resnet_thin10_pf18_resnetwide10_oc64_mupjuz_seed_56',\n",
    "                                  'resnet_thin/resnet_thin10_pf18_resnetwide10_oc64_gtkssu_seed_1234',\n",
    "                                  ],\n",
    "                    \"ResNet-18\": ['resnet_thin/resnet_thin18_pf18_resnetwide18_oc54_mjfrnx_seed_10',\n",
    "                                  'resnet_thin/resnet_thin18_pf18_resnetwide18_oc54_kmimxw_seed_56',\n",
    "                                  'resnet_thin/resnet_thin18_pf18_resnetwide18_oc54_ilmiyh_seed_1234',\n",
    "                                  ],\n",
    "                \n",
    "                    # \"ResNet-18-full\": ['resnet/resnet18_pf18_resnet18_oc64_bqzxsy_seed_10',\n",
    "                    #                    'resnet/resnet18_pf18_resnet18_oc64_daelqv_seed_1234',\n",
    "                    #                    'resnet/resnet18_pf18_resnet18_oc64_kndjbh_seed_56',\n",
    "                    #                    ],\n",
    "                    # \"ViT_B6_32 (transformer)\": [],\n",
    "                \"R-ResNet-18\": [],\n",
    "                    \n",
    "               }\n",
    "               }\n"
   ]
  },
  {
   "cell_type": "code",
   "execution_count": null,
   "metadata": {
    "colab": {
     "base_uri": "https://localhost:8080/"
    },
    "id": "etecrUmPUFU1",
    "outputId": "cc4509b1-a280-41dc-f2e9-22d97051e040"
   },
   "outputs": [
    {
     "name": "stdout",
     "output_type": "stream",
     "text": [
      "['/home/AD/vveeraba/src/pathfinder/ckpt_iclr/curv_contour_length_9/dalernn/pf9_dalernn_ts12_fsize9_k32_yziayo_seed_10', '/home/AD/vveeraba/src/pathfinder/ckpt_iclr/curv_contour_length_9/dalernn/pf9_dalernn_ts12_fsize9_k32_vnfjcd_seed_1234', '/home/AD/vveeraba/src/pathfinder/ckpt_iclr/curv_contour_length_9/dalernn/pf9_dalernn_ts12_fsize9_k32_phjfkg_seed_56']\n",
      "['/home/AD/vveeraba/src/pathfinder/ckpt_iclr/curv_contour_length_9/hgru/paper_pf9_hgru_ts12_fsize9_k38_cmewvx_seed_10', '/home/AD/vveeraba/src/pathfinder/ckpt_iclr/curv_contour_length_9/hgru/paper_pf9_hgru_ts12_fsize9_k38_mtvwgj_seed_56']\n",
      "['/home/AD/vveeraba/src/pathfinder/ckpt_iclr/curv_contour_length_9/gru/pf9_gru_ts12_fsize9_k32_pbgifi_seed_56', '/home/AD/vveeraba/src/pathfinder/ckpt_iclr/curv_contour_length_9/gru/pf9_gru_ts12_fsize9_k32_uycwee_seed_1234', '/home/AD/vveeraba/src/pathfinder/ckpt_iclr/curv_contour_length_9/gru/pf9_gru_ts12_fsize9_k32_wqxaks_seed_10']\n",
      "['/home/AD/vveeraba/src/pathfinder/ckpt_iclr/curv_contour_length_9/resnet_thin/paper_pf9_resnet10_thin_ts12_fsize9_dujfah_seed_1234', '/home/AD/vveeraba/src/pathfinder/ckpt_iclr/curv_contour_length_9/resnet_thin/paper_pf9_resnet10_thin_ts12_fsize9_enwuju_seed_10', '/home/AD/vveeraba/src/pathfinder/ckpt_iclr/curv_contour_length_9/resnet_thin/paper_pf9_resnet10_thin_ts12_fsize9_zfufnk_seed_56']\n",
      "['/home/AD/vveeraba/src/pathfinder/ckpt_iclr/curv_contour_length_9/resnet_thin/paper_pf9_resnet18_thin_ts12_fsize9_pzacht_seed_56', '/home/AD/vveeraba/src/pathfinder/ckpt_iclr/curv_contour_length_9/resnet_thin/paper_pf9_resnet18_thin_ts12_fsize9_gbpryl_seed_1234', '/home/AD/vveeraba/src/pathfinder/ckpt_iclr/curv_contour_length_9/resnet_thin/paper_pf9_resnet18_thin_ts12_fsize9_ajszpe_seed_10']\n",
      "['/home/AD/vveeraba/src/pathfinder/ckpt_iclr/curv_contour_length_9/cornets_relu/pf9_cornets_ts12_fsize7_k32_zpyjhd_seed_56', '/home/AD/vveeraba/src/pathfinder/ckpt_iclr/curv_contour_length_9/cornets_relu/pf9_cornets_ts12_fsize7_k32_gfrgki_seed_10', '/home/AD/vveeraba/src/pathfinder/ckpt_iclr/curv_contour_length_9/cornets_relu/pf9_cornets_ts12_fsize7_k32_bnejja_seed_1234']\n",
      "['/home/AD/vveeraba/src/pathfinder/ckpt_iclr/curv_contour_length_9/convrnn_relu/pf9_convrnn_ts12_fsize7_k32_azdgzd_seed_10', '/home/AD/vveeraba/src/pathfinder/ckpt_iclr/curv_contour_length_9/convrnn_relu/pf9_convrnn_ts12_fsize7_k32_cyduzf_seed_56', '/home/AD/vveeraba/src/pathfinder/ckpt_iclr/curv_contour_length_9/convrnn_relu/pf9_convrnn_ts12_fsize7_k32_hvlexy_seed_1234']\n",
      "[]\n",
      "['/home/AD/vveeraba/src/pathfinder/ckpt_iclr/curv_contour_length_14/dalernn/pf14_dalernn_ts12_fsize9_k32_jovlwv_seed_1234', '/home/AD/vveeraba/src/pathfinder/ckpt_iclr/curv_contour_length_14/dalernn/pf14_dalernn_ts12_fsize9_k32_nyejdf_seed_56', '/home/AD/vveeraba/src/pathfinder/ckpt_iclr/curv_contour_length_14/dalernn/pf14_dalernn_ts12_fsize9_k32_kwnlmk_seed_10']\n",
      "['/home/AD/vveeraba/src/pathfinder/ckpt_iclr/curv_contour_length_14/hgru/hgru3_pf9_hgru_ts12_fsize9_k38_fseygt_seed_10', '/home/AD/vveeraba/src/pathfinder/ckpt_iclr/curv_contour_length_14/hgru/hgru3_pf9_hgru_ts12_fsize9_k38_ixlwax_seed_56', '/home/AD/vveeraba/src/pathfinder/ckpt_iclr/curv_contour_length_14/hgru/hgru3_pf9_hgru_ts12_fsize9_k38_lxanxk_seed_1234']\n",
      "['/home/AD/vveeraba/src/pathfinder/ckpt_iclr/curv_contour_length_14/gru/gru3_pf14_gru_ts12_fsize9_k32_fjohqs_seed_1234', '/home/AD/vveeraba/src/pathfinder/ckpt_iclr/curv_contour_length_14/gru/gru3_pf14_gru_ts12_fsize9_k32_mnhkqk_seed_10', '/home/AD/vveeraba/src/pathfinder/ckpt_iclr/curv_contour_length_14/gru/gru3_pf14_gru_ts12_fsize9_k32_wktcnw_seed_56']\n",
      "['/home/AD/vveeraba/src/pathfinder/ckpt_iclr/curv_contour_length_14/cornets_relu/pf9_cornets_ts12_fsize7_k32_keovxj_seed_10', '/home/AD/vveeraba/src/pathfinder/ckpt_iclr/curv_contour_length_14/cornets_relu/pf9_cornets_ts12_fsize7_k32_lfeqvt_seed_1234', '/home/AD/vveeraba/src/pathfinder/ckpt_iclr/curv_contour_length_14/cornets_relu/pf14_channels20_fsize7_qxxgjc_seed_56']\n",
      "['/home/AD/vveeraba/src/pathfinder/ckpt_iclr/curv_contour_length_14/convrnn_relu/pf14_channels20_fsize7_gmfvnt_seed_56', '/home/AD/vveeraba/src/pathfinder/ckpt_iclr/curv_contour_length_14/convrnn_relu/pf14_channels20_fsize7_zghakt_seed_10']\n",
      "['/home/AD/vveeraba/src/pathfinder/ckpt_iclr/curv_contour_length_14/resnet_thin/resnet_thin10_pf14_resnet_thin_ts12_fsize9_k64_qahrxi_seed_10', '/home/AD/vveeraba/src/pathfinder/ckpt_iclr/curv_contour_length_14/resnet_thin/resnet_thin10_pf14_resnet_thin_ts12_fsize9_k64_gtjhuy_seed_56', '/home/AD/vveeraba/src/pathfinder/ckpt_iclr/curv_contour_length_14/resnet_thin/resnet_thin10_pf14_resnet_thin_ts12_fsize9_k64_ulplud_seed_1234']\n",
      "['/home/AD/vveeraba/src/pathfinder/ckpt_iclr/curv_contour_length_14/resnet_thin/resnet_thin18_pf14_resnet_thin_ts12_fsize9_k32_gsipru_seed_1234', '/home/AD/vveeraba/src/pathfinder/ckpt_iclr/curv_contour_length_14/resnet_thin/resnet_thin18_pf14_resnet_thin_ts12_fsize9_k32_nnrwvr_seed_10', '/home/AD/vveeraba/src/pathfinder/ckpt_iclr/curv_contour_length_14/resnet_thin/resnet_thin18_pf14_resnet_thin_ts12_fsize9_k32_xotxpj_seed_56']\n",
      "['/home/AD/vveeraba/src/pathfinder/ckpt_iclr/curv_contour_length_14/resnet_thin_pathfinder/noshapechange_paper_pf14_resnet18_thin_pathfinder_xklozr_seed_1234', '/home/AD/vveeraba/src/pathfinder/ckpt_iclr/curv_contour_length_14/resnet_thin_pathfinder/noshapechange_paper_pf14_resnet18_thin_pathfinder_zauhvl_seed_56', '/home/AD/vveeraba/src/pathfinder/ckpt_iclr/curv_contour_length_14/resnet_thin_pathfinder/noshapechange_paper_pf14_resnet18_thin_pathfinder_lhokau_seed_10']\n",
      "['/home/AD/vveeraba/src/pathfinder/ckpt_iclr/curv_contour_length_18/dalernn/dalernn3_pf18_dalernn_ts12_fsize9_oc32_b256_asovgy_seed_10', '/home/AD/vveeraba/src/pathfinder/ckpt_iclr/curv_contour_length_18/dalernn/dalernn3_pf18_dalernn_ts12_fsize9_oc32_b256_gwuwup_seed_1234']\n",
      "['/home/AD/vveeraba/src/pathfinder/ckpt_iclr/curv_contour_length_18/hgru/hgru3_pf18_hgru_ts12_fsize9_gnvssv_seed_10', '/home/AD/vveeraba/src/pathfinder/ckpt_iclr/curv_contour_length_18/hgru/hgru3_pf18_hgru_ts12_fsize9_ibvoij_seed_56', '/home/AD/vveeraba/src/pathfinder/ckpt_iclr/curv_contour_length_18/hgru/hgru3_pf18_hgru_ts12_fsize9_zjddki_seed_1234']\n",
      "['/home/AD/vveeraba/src/pathfinder/ckpt_iclr/curv_contour_length_18/gru/gru3_pf18_gru_ts12_fsize9_diwfls_seed_1234', '/home/AD/vveeraba/src/pathfinder/ckpt_iclr/curv_contour_length_18/gru/gru3_pf18_gru_ts12_fsize9_leybmt_seed_10', '/home/AD/vveeraba/src/pathfinder/ckpt_iclr/curv_contour_length_18/gru/gru3_pf18_gru_ts12_fsize9_minlct_seed_56']\n",
      "['/home/AD/vveeraba/src/pathfinder/ckpt_iclr/curv_contour_length_18/cornets_relu/pf18_cornets_ts12_fsize7_k32_bliero_seed_56', '/home/AD/vveeraba/src/pathfinder/ckpt_iclr/curv_contour_length_18/cornets_relu/pf18_cornets_ts12_fsize7_k32_uupoqr_seed_1234', '/home/AD/vveeraba/src/pathfinder/ckpt_iclr/curv_contour_length_18/cornets_relu/pf18_cornets_ts12_fsize7_k32_yhoebn_seed_10']\n",
      "[]\n",
      "['/home/AD/vveeraba/src/pathfinder/ckpt_iclr/curv_contour_length_18/resnet_thin/resnet_thin10_pf18_resnetwide10_oc64_yhxeks_seed_10', '/home/AD/vveeraba/src/pathfinder/ckpt_iclr/curv_contour_length_18/resnet_thin/resnet_thin10_pf18_resnetwide10_oc64_mupjuz_seed_56', '/home/AD/vveeraba/src/pathfinder/ckpt_iclr/curv_contour_length_18/resnet_thin/resnet_thin10_pf18_resnetwide10_oc64_gtkssu_seed_1234']\n",
      "['/home/AD/vveeraba/src/pathfinder/ckpt_iclr/curv_contour_length_18/resnet_thin/resnet_thin18_pf18_resnetwide18_oc54_mjfrnx_seed_10', '/home/AD/vveeraba/src/pathfinder/ckpt_iclr/curv_contour_length_18/resnet_thin/resnet_thin18_pf18_resnetwide18_oc54_kmimxw_seed_56', '/home/AD/vveeraba/src/pathfinder/ckpt_iclr/curv_contour_length_18/resnet_thin/resnet_thin18_pf18_resnetwide18_oc54_ilmiyh_seed_1234']\n",
      "[]\n"
     ]
    }
   ],
   "source": [
    "root_dir = \"/home/AD/vveeraba/src/pathfinder/ckpt_iclr\"\n",
    "model_results = {9: {model_name: [] for model_name in model_paths[9].keys()},\n",
    "                 14: {model_name: [] for model_name in model_paths[14].keys()},\n",
    "                 18: {model_name: [] for model_name in model_paths[18].keys()},\n",
    "                 }\n",
    "\n",
    "model_sem = {9: {model_name: [] for model_name in model_paths[9].keys()},\n",
    "                 14: {model_name: [] for model_name in model_paths[14].keys()},\n",
    "                 18: {model_name: [] for model_name in model_paths[18].keys()},\n",
    "                 }\n",
    "\n",
    "for path_diff, model_result_paths in model_paths.items():\n",
    "  for model_name, result_paths in model_result_paths.items():\n",
    "    result_paths = [os.path.join(root_dir, 'curv_contour_length_%s' % path_diff, path) for path in result_paths]\n",
    "    print(result_paths)\n",
    "    if result_paths:\n",
    "      model_results[path_diff][model_name], model_sem[path_diff][model_name] = get_results(result_paths)\n",
    "    else:\n",
    "      model_results[path_diff][model_name], model_sem[path_diff][model_name] = [50, 50, 50, 50, 50], [0, 0, 0, 0, 0]"
   ]
  },
  {
   "cell_type": "code",
   "execution_count": null,
   "metadata": {
    "colab": {
     "base_uri": "https://localhost:8080/"
    },
    "id": "TgJtrPpsnhnC",
    "outputId": "e0e2bc23-7c0e-4a13-a1cf-a1edaa9905d4"
   },
   "outputs": [
    {
     "data": {
      "text/plain": [
       "{9: {'LocRNN': array([93.84217326, 96.67240143, 97.4371287 , 97.81715902, 97.99050395]),\n",
       "  'hConvGRU': array([49.98549843, 50.97057724, 62.45149612, 70.4316349 , 88.66459274]),\n",
       "  'ConvGRU': array([50.06333796, 49.99266688, 50.04033661, 50.15067927, 50.15968068]),\n",
       "  'ResNet-10': array([50.70772298, 67.91476695, 87.14730581, 88.20172373, 92.24404653]),\n",
       "  'ResNet-18': array([77.89323171, 93.27646383, 93.27646383, 93.27646383, 93.27646383]),\n",
       "  'CORNet-S': array([75.3100268, 92.7630895, 92.7630895, 92.7630895, 92.7630895]),\n",
       "  'ConvRNN': array([50.03133774, 50.0036672 , 52.9262352 , 63.83010737, 63.75776927]),\n",
       "  'R-ResNet-18': [50, 50, 50, 50, 50]},\n",
       " 14: {'LocRNN': array([50.52804184, 61.97795868, 93.61415609, 95.55564372, 96.16869354]),\n",
       "  'hConvGRU': array([50.1266772 , 50.25368754, 50.50004069, 50.95307541, 51.59079488]),\n",
       "  'ConvGRU': array([50.01700211, 50.01833471, 49.98433304, 50.1016744 , 50.01466878]),\n",
       "  'CORNet-S': array([50.14367803, 61.44958242, 64.10646057, 63.98211797, 64.18880081]),\n",
       "  'ConvRNN': array([49.82148552, 50.0395031 , 50.03050232, 50.09000587, 50.02950287]),\n",
       "  'ResNet-10': array([49.81065241, 50.0440038 , 50.1740125 , 50.37302907, 50.9114062 ]),\n",
       "  'ResNet-18': array([50.17968114, 59.46809006, 81.89121755, 90.87193807, 92.47339884]),\n",
       "  'R-ResNet-18': array([50., 50., 50., 50., 50.])},\n",
       " 18: {'LocRNN': array([50.17924881, 52.18649864, 69.27499771, 81.54524612, 87.79224777]),\n",
       "  'hConvGRU': array([49.99299876, 50.00716527, 50.0423317 , 50.06916555, 50.02383169]),\n",
       "  'ConvGRU': array([50.03899892, 50.00149918, 50.01816559, 50.03633245, 49.98899968]),\n",
       "  'CORNet-S': array([50.12299856, 51.14399974, 59.04633077, 61.01416524, 61.54966482]),\n",
       "  'ConvRNN': [50, 50, 50, 50, 50],\n",
       "  'ResNet-10': array([50.17033259, 50.0606664 , 49.96766535, 50.04433187, 50.17216492]),\n",
       "  'ResNet-18': array([50.37483088, 56.19483185, 67.695666  , 78.29199982, 82.51716359]),\n",
       "  'R-ResNet-18': [50, 50, 50, 50, 50]}}"
      ]
     },
     "execution_count": 28,
     "metadata": {},
     "output_type": "execute_result"
    }
   ],
   "source": [
    "model_results\n"
   ]
  },
  {
   "cell_type": "code",
   "execution_count": null,
   "metadata": {
    "colab": {
     "base_uri": "https://localhost:8080/"
    },
    "id": "IbajZkJ_XAoD",
    "outputId": "0ccc602f-0d10-4485-ff74-68c38f4b06e4"
   },
   "outputs": [
    {
     "data": {
      "text/plain": [
       "{9: {'LocRNN': array([0.74336922, 0.39023847, 0.32435571, 0.2003597 , 0.23231436]),\n",
       "  'hConvGRU': array([ 0.10572048,  0.10147882,  7.59528829, 12.22402513,  4.05169456]),\n",
       "  'ConvGRU': array([0.04001486, 0.01702691, 0.05224558, 0.1714298 , 0.18479682]),\n",
       "  'ResNet-10': array([0.05332211, 5.39593562, 1.33227185, 2.75574015, 0.82424592]),\n",
       "  'ResNet-18': array([1.46490475, 0.18489416, 0.18489416, 0.18489416, 0.18489416]),\n",
       "  'CORNet-S': array([10.28512989,  0.75113014,  0.75113014,  0.75113014,  0.75113014]),\n",
       "  'ConvRNN': array([ 0.07127723,  0.08237513,  2.50939268, 11.21059276, 11.2401124 ]),\n",
       "  'R-ResNet-18': [0, 0, 0, 0, 0]},\n",
       " 14: {'LocRNN': array([0.39975033, 5.87617539, 0.33302919, 0.12545949, 0.02499842]),\n",
       "  'hConvGRU': array([0.13986413, 0.21941594, 0.4003082 , 0.74960637, 1.34012688]),\n",
       "  'ConvGRU': array([0.01429213, 0.01538005, 0.02283577, 0.06433953, 0.01077464]),\n",
       "  'CORNet-S': array([ 0.19135932,  9.26975484, 11.52160426, 11.5725485 , 11.48816631]),\n",
       "  'ConvRNN': array([0.11349978, 0.06541326, 0.01166895, 0.04030857, 0.02015496]),\n",
       "  'ResNet-10': array([0.00222826, 0.0802601 , 0.06668358, 0.03350912, 0.47534666]),\n",
       "  'ResNet-18': array([0.12252309, 2.88782014, 4.55384524, 1.06049961, 0.24089789]),\n",
       "  'R-ResNet-18': array([0., 0., 0., 0., 0.])},\n",
       " 18: {'LocRNN': array([0.16493242, 1.22046619, 6.62700322, 3.30519497, 1.32918348]),\n",
       "  'hConvGRU': array([0.0218949 , 0.00584154, 0.03376977, 0.04580719, 0.05932863]),\n",
       "  'ConvGRU': array([0.02540635, 0.00102684, 0.01567814, 0.01970583, 0.00898172]),\n",
       "  'CORNet-S': array([0.10571303, 0.91666178, 7.40446653, 8.999822  , 9.33800142]),\n",
       "  'ConvRNN': [0, 0, 0, 0, 0],\n",
       "  'ResNet-10': array([0.028352  , 0.04877604, 0.0548227 , 0.03211954, 0.05754682]),\n",
       "  'ResNet-18': array([0.10633418, 2.5629801 , 6.16694038, 2.60972892, 1.52855959]),\n",
       "  'R-ResNet-18': [0, 0, 0, 0, 0]}}"
      ]
     },
     "execution_count": 29,
     "metadata": {},
     "output_type": "execute_result"
    }
   ],
   "source": [
    "model_sem"
   ]
  },
  {
   "cell_type": "code",
   "execution_count": null,
   "metadata": {
    "id": "bhY9ZC3kUV5H"
   },
   "outputs": [],
   "source": [
    "def get_cmap(n, name='tab20'):\n",
    "    '''Returns a function that maps each index in 0, 1, ..., n-1 to a distinct \n",
    "    RGB color; the keyword argument name must be a standard mpl colormap name.'''\n",
    "    cmap = sns.color_palette(name, n)\n",
    "    return cmap\n",
    "\n",
    "  \n",
    "def plot_results_bar(model_results, model_sem, task_name, model_names, filename=None, save=True):\n",
    "  fontsize = 14\n",
    "  d_colors = {}\n",
    "  colors = ['black', 'maroon', 'magenta', 'indigo', 'blue', 'green', 'darkorange', 'red']\n",
    "  colors = colors[::-1]\n",
    "  cmap = get_cmap(len(model_names))\n",
    "  for ii, model in enumerate(model_names):\n",
    "    d_colors[model] = cmap[ii]\n",
    "\n",
    "  fig, ax = plt.subplots(1, 1, figsize=(15, 4), dpi=300)\n",
    "  diffs = model_results.keys()\n",
    "  model_accs, model_ses = {}, {}\n",
    "  l_xticks = []\n",
    "  for diff in diffs:\n",
    "    model_accs[diff] = []\n",
    "    model_ses[diff] = []\n",
    "    for ii, model_name in enumerate(model_names):\n",
    "      model_accs[diff].append(model_results[diff][model_name][-1])\n",
    "      model_ses[diff].append(model_sem[diff][model_name][-1])\n",
    "  end = 0\n",
    "  for ii, diff in enumerate(diffs):\n",
    "    start = end + 2\n",
    "    end = start + 2 * len(model_accs[diff])\n",
    "    print(start, end)\n",
    "    curr_xticks = list(range(start, end))[::2]\n",
    "    l_xticks.extend(curr_xticks)\n",
    "    bar_objects = ax.bar(curr_xticks, model_accs[diff], width=1.5, yerr=model_ses[diff], \n",
    "                      color=[d_colors[model_name] for model_name in model_names], \n",
    "                      capsize=5,\n",
    "                      )\n",
    "    # ax[ii].plot([-1, 0, 1, 2, 3, 4], [50] * 6, linestyle='--', c='gray')\n",
    "  n = len(model_names)\n",
    "  ax.set_xticks([n+1, 3*n+3, 5*n+5])\n",
    "  # ax.set_xticklabels(list(model_names) * 3, fontsize=fontsize)\n",
    "  ax.set_xticklabels(['PathFinder-%s' % diff for diff in diffs])\n",
    "  ax.set_yticks([50, 60, 70, 80, 90, 100])\n",
    "  ax.set_yticklabels([50, 60, 70, 80, 90, 100])\n",
    "  ax.tick_params(axis='y', labelsize=fontsize)\n",
    "  ax.tick_params(axis='x', labelsize=fontsize)\n",
    "  ax.grid('on', alpha=0.6, axis='y')\n",
    "  ax.set_ylabel(\"Validation accuracy (\\%)\", fontsize=fontsize)\n",
    "  ax.set_ylim(48, 100)\n",
    "  ax.legend(bar_objects, tuple(model_names), bbox_to_anchor=(1., 1.05), fontsize=fontsize)\n",
    "  # ax.set_xlim(-0.1, 2.1)\n",
    "  # ax.set_title(\"%s\" % (model_name), fontsize=fontsize)\n",
    "  plt.suptitle(\"Evaluation on %s (%s)\" % (task_name, str(list(diffs))[1:-1]), fontsize=fontsize)\n",
    "  plt.savefig(\"/home/vveeraba/src/results_cosyne/PathFinder_perf_bar.pdf\")"
   ]
  },
  {
   "cell_type": "code",
   "execution_count": null,
   "metadata": {
    "id": "4V6ObYl9LaD3"
   },
   "outputs": [],
   "source": [
    "def plot_results_bar_stack(model_results, task_name, model_names, filename=None, save=True, fig_params=None):\n",
    "  fontsize = fig_params['fontsize']\n",
    "  fig, ax = plt.subplots(3, 1, figsize=fig_params['figsize'])\n",
    "  diffs = model_results.keys()\n",
    "  model_accs, model_ses = {}, {}\n",
    "  l_xticks = []\n",
    "\n",
    "  diffs = model_results.keys()\n",
    "  model_accs, model_ses = {}, {}\n",
    "  l_xticks = []\n",
    "  for diff in diffs:\n",
    "    model_accs[diff] = []\n",
    "    model_ses[diff] = []\n",
    "    for ii, model_name in enumerate(model_names):\n",
    "      model_accs[diff].append(model_results[diff][model_name][-1])\n",
    "      model_ses[diff].append(model_sem[diff][model_name][-1])\n",
    "\n",
    "  n = len(model_names)\n",
    "  for ii, diff in enumerate(diffs):\n",
    "    bar_objects = ax[ii].bar(range(n), model_accs[diff], yerr=model_ses[diff], \n",
    "                      color=[d_colors[model_name] for model_name in model_names],\n",
    "                      capsize=5, \n",
    "                      )      \n",
    "    ax[2].set_xticks(range(n))\n",
    "    ax[2].set_xticklabels(model_names)\n",
    "    ax[ii].tick_params(axis='y', labelsize=fontsize)\n",
    "    ax[ii].tick_params(axis='x', bottom=False, labelbottom=False)\n",
    "    ax[2].tick_params(axis='x', labelsize=fontsize, rotation=60, bottom=True, labelbottom=True)\n",
    "    ax[ii].grid('on', alpha=0.6, axis='y')\n",
    "    ax[ii].set_ylabel(\"Accuracy (\\%)\" + \"\\n %s-%s \" % (task_name, diff), fontsize=fontsize)\n",
    "    ax[ii].set_ylim(0, 105)\n",
    "    # ax[ii].set_title(\"Evaluation on %s (%s)\" % (task_name, diff))\n",
    "  # ax[0].legend(bar_objects, tuple(model_names), fontsize=fontsize, bbox_to_anchor=(1, 1.05))\n",
    "  # plt.suptitle(\"Evaluation on %s (%s)\" % (task_name, str(list(diffs))[1:-1]), fontsize=fontsize)\n",
    "  plt.savefig(\"/home/vveeraba/src/results_cosyne/pathfinder_perf_bar_stacked.pdf\", dpi=fig_params['dpi'])\n",
    "\n",
    "def plot_results_bar_group(model_results, task_name, model_names, filename=None, save=True, fig_params=None):\n",
    "  fontsize = fig_params['fontsize']\n",
    "  fig, ax = plt.subplots(1, 1, figsize=fig_params['figsize'])\n",
    "  diffs = model_results.keys()\n",
    "  model_accs, model_ses = {}, {}\n",
    "  l_xticks = []\n",
    "  cmap = sns.color_palette('rocket_r', 3)\n",
    "  d_colors = {}\n",
    "  d_colors = {\"LocRNN\": \"red\", \"R-ResNet\": \"magenta\", \"hConvGRU\": \"darkorange\", \n",
    "            \"ConvGRU\": \"green\", \"CORNet-S\": \"blue\", \"ConvRNN\": \"indigo\",\n",
    "            \"ResNet-10\": \"brown\", \"ResNet-18\": \"black\", \"R-ResNet-18\": \"black\"}\n",
    "  \n",
    "  diffs = model_results.keys()\n",
    "  model_accs, model_ses = {}, {}\n",
    "  l_xticks = []\n",
    "  for diff in diffs:\n",
    "    model_accs[diff] = []\n",
    "    model_ses[diff] = []\n",
    "    for ii, model_name in enumerate(model_names):\n",
    "      model_accs[diff].append(model_results[diff][model_name][-1])\n",
    "      model_ses[diff].append(model_sem[diff][model_name][-1])\n",
    "\n",
    "  n = len(model_names)\n",
    "  start = 0\n",
    "  for ii, diff in enumerate(diffs):\n",
    "    ticks = list(range(2*n))[::2]\n",
    "    ticks = [tick + (ii-1)/3 for tick in ticks]\n",
    "    bar_objects = ax.bar(ticks, model_accs[diff], yerr=model_ses[diff], width=1/3,\n",
    "                      color=cmap[ii], \n",
    "                      capsize=3, label=\"PathFinder-%s\" % diff,\n",
    "                      )      \n",
    "  ax.set_xticks(list(range(2*n))[::2])\n",
    "  ax.set_xticklabels(model_names)\n",
    "  ax.tick_params(axis='y', labelsize=fontsize)\n",
    "  ax.tick_params(axis='x', bottom=False, labelbottom=False)\n",
    "  ax.tick_params(axis='x', labelsize=fontsize, rotation=45, bottom=True, labelbottom=True)\n",
    "  for model_name, xtick in zip(model_names, ax.get_xticklabels()):\n",
    "    xtick.set_color(d_colors[model_name])\n",
    "  ax.grid('on', alpha=0.6, axis='y')\n",
    "  ax.set_ylabel(\"Validation accuracy (\\%)\", fontsize=fontsize)\n",
    "  ax.set_ylim(0, 105)\n",
    "  ax.legend(fontsize=fontsize, bbox_to_anchor=(0.15, 0.92),\n",
    "            ncol=3, fancybox=True, framealpha=1)\n",
    "    # start = start + n + 1\n",
    "    # ax[ii].set_title(\"Evaluation on %s (%s)\" % (task_name, diff))\n",
    "  # ax[0].legend(bar_objects, tuple(model_names), fontsize=fontsize, bbox_to_anchor=(1, 1.05))\n",
    "  # plt.suptitle(\"Evaluation on %s (%s)\" % (task_name, str(list(diffs))[1:-1]), fontsize=fontsize)\n",
    "  plt.savefig(\"/home/vveeraba/src/results_cosyne/pathfinder_perf_bar_grouped.pdf\", dpi=fig_params['dpi'])"
   ]
  },
  {
   "cell_type": "code",
   "execution_count": null,
   "metadata": {
    "colab": {
     "base_uri": "https://localhost:8080/",
     "height": 277
    },
    "id": "U7Pdd7P7UXEQ",
    "outputId": "a8ef8d7e-715b-4646-b1e1-631b7fb514ad"
   },
   "outputs": [
    {
     "data": {
      "image/png": "[encoded data removed]",
      "text/plain": [
       "<Figure size 648x252 with 1 Axes>"
      ]
     },
     "metadata": {},
     "output_type": "display_data"
    }
   ],
   "source": [
    "# l_models = model_results[9].keys()\n",
    "# l_models = ['LocRNN', 'hGRU', 'GRU', 'CORNet-S', 'ConvRNN', 'ResNet-10', 'ResNet-18', 'R-ResNet-18']\n",
    "l_models = ['LocRNN', 'hConvGRU', 'ConvGRU', 'CORNet-S', 'ConvRNN', 'ResNet-10', 'ResNet-18', 'R-ResNet-18']\n",
    "# plot_results_bar(model_results, model_sem, \"Pathfinder\", l_models, save=False)\n",
    "# plot_model_best_results_4_nosubplots(model_results, model_sem, \"Pathfinder\", l_models, save=False)\n",
    "\n",
    "\n",
    "cmap = sns.color_palette('colorblind')\n",
    "d_colors = {'LocRNN': 'red', 'hConvGRU': cmap[3], 'ConvGRU': cmap[3], 'CORNet-S': cmap[3], 'ConvRNN': cmap[3],\n",
    "            'ResNet-10': cmap[4], 'ResNet-18': cmap[4], 'R-ResNet-18': cmap[0], \n",
    "            }\n",
    "# plot_results_bar_stack(model_results, \"PathFinder\", l_models, save=False, fig_params={'fontsize': 14, 'figsize': (5, 6), 'dpi': 500})\n",
    "plot_results_bar_group(model_results, \"PathFinder\", l_models, save=False, fig_params={'fontsize': 14, 'figsize': (9, 3.5), 'dpi': 800})\n",
    "# plot_results_bar(model_results, \"Mazes\", model_names, save=False)\n",
    "# plot_results_bar_overlap(model_results, \"Mazes\", model_names, save=False, fig_params={'fontsize': 14, 'figsize': (8, 5), 'dpi': 500})"
   ]
  },
  {
   "cell_type": "code",
   "execution_count": null,
   "metadata": {
    "id": "PH91oCyt5TTy"
   },
   "outputs": [],
   "source": [
    "ood_test_perf = {6: {'dalernn-t-12': 71.84619903564453, 'resnet_thin': 36.74635314941406, 'resnet': 41.676265716552734}, 9: {'dalernn-t-12': 92.97859954833984, 'resnet_thin': 45.919185638427734, 'resnet': 47.279457092285156}, 14: {'dalernn-t-12': 0, 'resnet_thin': 0, 'resnet': 0}, 16: {'dalernn-t-12': 70.95999908447266, 'resnet_thin': 67.11000061035156, 'resnet': 74.20999908447266}, 18: {'dalernn-t-12': 62.80999755859375, 'resnet_thin': 61.959999084472656, 'resnet': 68.27999877929688}}"
   ]
  },
  {
   "cell_type": "code",
   "execution_count": null,
   "metadata": {
    "colab": {
     "base_uri": "https://localhost:8080/"
    },
    "id": "AqqIJDGM5TQn",
    "outputId": "4e8a74f3-d2d2-43be-86c5-a47844f89ca3"
   },
   "outputs": [
    {
     "name": "stdout",
     "output_type": "stream",
     "text": [
      "dalernn-t-12 - Accuracy on 6: 71.85\n",
      "dalernn-t-12 - Accuracy on 9: 92.98\n",
      "dalernn-t-12 - Accuracy on 16: 70.96\n",
      "dalernn-t-12 - Accuracy on 18: 62.81\n",
      "resnet_thin - Accuracy on 6: 36.75\n",
      "resnet_thin - Accuracy on 9: 45.92\n",
      "resnet_thin - Accuracy on 16: 67.11\n",
      "resnet_thin - Accuracy on 18: 61.96\n",
      "resnet - Accuracy on 6: 41.68\n",
      "resnet - Accuracy on 9: 47.28\n",
      "resnet - Accuracy on 16: 74.21\n",
      "resnet - Accuracy on 18: 68.28\n"
     ]
    }
   ],
   "source": [
    "models = ood_test_perf[6].keys()\n",
    "for model in models:\n",
    "  for length in [6, 9, 16, 18]:\n",
    "    print(\"%s - Accuracy on %s: %s\" % (model, \n",
    "                                       length,\n",
    "                                       round(ood_test_perf[length][model], 2)))"
   ]
  },
  {
   "cell_type": "code",
   "execution_count": null,
   "metadata": {
    "id": "peQyR2kFUpKq"
   },
   "outputs": [],
   "source": [
    "def get_model_generalization_results_pf(model_name, model_generalization, ff_perf):\n",
    "  fig, ax = plt.subplots(1, len(model_generalization), figsize=(8, 4))\n",
    "  plt.rcParams[\"font.weight\"] = \"bold\"\n",
    "  plt.rcParams[\"axes.labelweight\"] = \"bold\"\n",
    "  fontsize = 14\n",
    "  model_title = {\"dalernnmedium\": \"DaleRNN\", }\n",
    "  # model_generalization.pop(6); model_generalization_curr.pop(16); \n",
    "  model_generalization_curr = {k: v[model_name] for k, v in model_generalization.items()}\n",
    "  for ii, (pf_diff, time_results) in enumerate(model_generalization_curr.items()):\n",
    "    print(ii, pf_diff)\n",
    "    if ii == 0:\n",
    "      xticks = [k for k in time_results.keys() if k <= 12]\n",
    "      y_ii = [time_results[tick] for tick in xticks]\n",
    "    elif ii == 1:\n",
    "      xticks = [k for k in time_results.keys() if k >= 12]\n",
    "      y_ii = [time_results[tick] for tick in xticks]\n",
    "    # y_ii = [i[-1] for i in time_results]\n",
    "    x_ii = range(len(y_ii))\n",
    "    ax[ii].plot(x_ii, y_ii, marker='o', markersize=5, c='red', label=\"LocRNN\")\n",
    "    ax[ii].plot(x_ii, [ff_perf[ii]] * len(x_ii), linestyle='--', c='blue', label='Feedforward ResNet')\n",
    "    # ax[ii].set_title(\"Testing on PathFinder-%s\" % pf_diff, fontsize=fontsize)\n",
    "    ax[ii].set_xticks(x_ii)\n",
    "    ax[ii].set_xticklabels(xticks)\n",
    "    ax[ii].set_xlabel(\"Number of iterations\", fontsize=fontsize)\n",
    "    ax[ii].set_ylabel(\"Generalization performance\", fontsize=fontsize)\n",
    "    ax[ii].tick_params(axis='y', labelsize=fontsize)\n",
    "    ax[ii].tick_params(axis='x', labelsize=fontsize)\n",
    "    ax[ii].set_ylim(40, 100)\n",
    "    ax[ii].legend(fontsize=fontsize)\n",
    "  # plt.suptitle(\"Generalization performance of %s trained on PathFinder-14\" % model_name, fontsize=fontsize)\n",
    "  plt.savefig(\"/home/vveeraba/src/figs_iclr/pathfinder_transfer_nomedium.pdf\")"
   ]
  },
  {
   "cell_type": "code",
   "execution_count": null,
   "metadata": {
    "id": "_Aa2vtn95d_5"
   },
   "outputs": [],
   "source": [
    "easytohard_acc = {\n",
    "                  9: \n",
    "                  {'dalernn-t-12': {7: 50.520103454589844, 8: 92.97859954833984, 9: 93.8387680053711, 10: 52.6605339050293, 11: 48.87977600097656, 12: 49.89998245239258}}, \n",
    "                  # 14: \n",
    "                  # {'dalernn-t-12': {9: 45.70665740966797, 10: 46.42971420288086, 11: 63.21805953979492, 12: 98.89791107177734, 13: 63.189056396484375, 14: 47.3737907409668}}, \n",
    "                  18: \n",
    "                  {'dalernn-t-12': {10: 50.93000030517578, 11: 50.73999786376953, 12: 50.25, 13: 54.03999710083008, 14: 62.80999755859375, 15: 57.349998474121094}}}"
   ]
  },
  {
   "cell_type": "code",
   "execution_count": null,
   "metadata": {
    "colab": {
     "base_uri": "https://localhost:8080/",
     "height": 349
    },
    "id": "fesyaMfmUjjm",
    "outputId": "d41711dd-e7b9-4527-cc7e-786c845ab1c4"
   },
   "outputs": [
    {
     "name": "stdout",
     "output_type": "stream",
     "text": [
      "0 9\n",
      "1 18\n"
     ]
    },
    {
     "data": {
      "image/png": "[encoded data removed]",
      "text/plain": [
       "<Figure size 576x288 with 2 Axes>"
      ]
     },
     "metadata": {
      "needs_background": "light"
     },
     "output_type": "display_data"
    }
   ],
   "source": [
    "get_model_generalization_results_pf('dalernn-t-12', easytohard_acc, [45.92, 61.96])"
   ]
  },
  {
   "cell_type": "code",
   "execution_count": null,
   "metadata": {
    "colab": {
     "base_uri": "https://localhost:8080/",
     "height": 169
    },
    "id": "D6OyqbS3UmPG",
    "outputId": "d6aecd6b-36f3-4a68-8179-7613aaf90bbd"
   },
   "outputs": [
    {
     "ename": "KeyError",
     "evalue": "ignored",
     "output_type": "error",
     "traceback": [
      "\u001b[0;31m---------------------------------------------------------------------------\u001b[0m",
      "\u001b[0;31mKeyError\u001b[0m                                  Traceback (most recent call last)",
      "\u001b[0;32m/tmp/ipykernel_1627846/1599637927.py\u001b[0m in \u001b[0;36m<module>\u001b[0;34m\u001b[0m\n\u001b[0;32m----> 1\u001b[0;31m \u001b[0measytohard_acc\u001b[0m\u001b[0;34m[\u001b[0m\u001b[0;36m16\u001b[0m\u001b[0;34m]\u001b[0m\u001b[0;34m\u001b[0m\u001b[0;34m\u001b[0m\u001b[0m\n\u001b[0m",
      "\u001b[0;31mKeyError\u001b[0m: 16"
     ]
    }
   ],
   "source": [
    "easytohard_acc[16]"
   ]
  },
  {
   "cell_type": "code",
   "execution_count": null,
   "metadata": {
    "id": "0wfA71DvZsLo"
   },
   "outputs": [],
   "source": []
  },
  {
   "cell_type": "markdown",
   "metadata": {
    "id": "7ghZNpKS9uVS"
   },
   "source": [
    "# Evaluating performance / confidence through time"
   ]
  },
  {
   "cell_type": "code",
   "execution_count": null,
   "metadata": {
    "id": "xTmf5SeT9x6n"
   },
   "outputs": [],
   "source": [
    "import numpy as np\n",
    "import torch"
   ]
  },
  {
   "cell_type": "code",
   "execution_count": null,
   "metadata": {
    "id": "3RTxZnik6gVx"
   },
   "outputs": [],
   "source": [
    "prob_timesteps = {9: {'dalernn-t-12': {9: 0, 10: 0, 11: 0, 12: 0, 13: 0, 14: 0, 15: 0}}, 14: {'dalernn-t-12': {9: (45.70665740966797, 0.4558545393505693), 10: (46.42971420288086, 0.46297959750330914), 11: (63.21805953979492, 0.6353858459190516), 12: (98.89791107177734, 0.9867473140063238), 13: (63.189056396484375, 0.6346737902203962), 14: (47.3737907409668, 0.47024014162395633), 15: (48.25286102294922, 0.47695846893094745)}}, 18: {'dalernn-t-12': {9: 0, 10: 0, 11: 0, 12: 0, 13: 0, 14: 0, 15: 0}}}"
   ]
  },
  {
   "cell_type": "code",
   "execution_count": null,
   "metadata": {
    "colab": {
     "base_uri": "https://localhost:8080/"
    },
    "id": "2wI3xNFm7Idr",
    "outputId": "330ba64c-5d0a-4d65-d8c6-b1a723cd06f8"
   },
   "outputs": [
    {
     "data": {
      "text/plain": [
       "{'dalernn-t-12': {9: (45.70665740966797, 0.4558545393505693),\n",
       "  10: (46.42971420288086, 0.46297959750330914),\n",
       "  11: (63.21805953979492, 0.6353858459190516),\n",
       "  12: (98.89791107177734, 0.9867473140063238),\n",
       "  13: (63.189056396484375, 0.6346737902203962),\n",
       "  14: (47.3737907409668, 0.47024014162395633),\n",
       "  15: (48.25286102294922, 0.47695846893094745)}}"
      ]
     },
     "execution_count": 36,
     "metadata": {},
     "output_type": "execute_result"
    }
   ],
   "source": [
    "prob_timesteps[14]"
   ]
  },
  {
   "cell_type": "code",
   "execution_count": null,
   "metadata": {
    "id": "HcqiKnWZ7KAh"
   },
   "outputs": [],
   "source": [
    "def get_model_pertimestep_conf_pf(dataset, pertimestep_prob):\n",
    "  fig, ax = plt.subplots(1, 1, figsize=(8, 4))\n",
    "  fontsize = 14\n",
    "  model_title = {\"dalernnmedium\": \"DaleRNN\", }\n",
    "  model_name = 'dalernn-t-12'\n",
    "  curr_results = pertimestep_prob[dataset][model_name]\n",
    "  model_acc = [v[0] for k, v in curr_results.items()]\n",
    "  model_conf = [v[1] * 100 for k, v in curr_results.items()]\n",
    "  \n",
    "  x_ii = np.arange(0, len(model_acc)*3, 3)\n",
    "  x_i0 = [i for i in x_ii]\n",
    "  x_i1 = [i+1 for i in x_ii]\n",
    "\n",
    "  ax.bar(x_i0, model_acc, label='Accuracy')\n",
    "  ax.bar(x_i1, model_conf, label='Confidence')\n",
    "  \n",
    "  ax.set_xticks([i+0.5 for i in x_i0])\n",
    "  ax.set_xticklabels([i//3 for i in x_i0])\n",
    "  \n",
    "  ax.set_xlabel(\"Number of iterations\", fontsize=fontsize)\n",
    "  ax.set_ylabel(\"Model accuracy / confidence\", fontsize=fontsize)\n",
    "  \n",
    "  ax.tick_params(axis='y', labelsize=fontsize)\n",
    "  ax.tick_params(axis='x', labelsize=fontsize)\n",
    "  ax.set_ylim(30, 100)\n",
    "  # ax.legend(fontsize=fontsize)\n",
    "  ax.grid('on', axis='y', alpha=0.3)\n",
    "  plt.title(\"Evaluating accuracy and confidence as f(\\# timesteps)\", fontsize=fontsize)\n",
    "  plt.savefig(\"/home/vveeraba/src/figs_iclr/pathfinder_transfer_nomedium.pdf\")"
   ]
  },
  {
   "cell_type": "code",
   "execution_count": null,
   "metadata": {
    "colab": {
     "base_uri": "https://localhost:8080/",
     "height": 313
    },
    "id": "qGjC4UOM8ZhN",
    "outputId": "f6635138-91f5-4639-9875-14f554e4152d"
   },
   "outputs": [
    {
     "data": {
      "image/png": "[encoded data removed]",
      "text/plain": [
       "<Figure size 576x288 with 1 Axes>"
      ]
     },
     "metadata": {
      "needs_background": "light"
     },
     "output_type": "display_data"
    }
   ],
   "source": [
    "get_model_pertimestep_conf_pf(14, prob_timesteps)"
   ]
  },
  {
   "cell_type": "code",
   "execution_count": null,
   "metadata": {
    "id": "ODsTyWQj8g8u"
   },
   "outputs": [],
   "source": []
  },
  {
   "cell_type": "markdown",
   "metadata": {
    "id": "g99LcB8HG4Sq"
   },
   "source": [
    "# Rebuttal plots -- ablation"
   ]
  },
  {
   "cell_type": "code",
   "execution_count": null,
   "metadata": {
    "id": "kvDtP_YcG8Zr"
   },
   "outputs": [],
   "source": [
    "import numpy as np\n",
    "import matplotlib.pyplot as plt\n",
    "\n",
    "# copying over results from Sheets https://docs.google.com/spreadsheets/d/1BnHX1ovati3ncxu8n326bOV2OJjSPsHe1UO_93K8WhQ/edit#gid=0\n",
    "\n",
    "# Dataset\tLesion\tPerformance\tSample efficiency\n",
    "# Pathfinder-14\t- I neurons\t50, 93, 50\t50, 60.5, 50\n",
    "# \t- Gating\t91, 50\t65.25, 50\n",
    "# \t- LayerNorm\t84, 82\t59, 70\n",
    "# \t- ReLU <-> tanh\t50, 50, 50\t50, 50, 50\n",
    "\n",
    "pf14_ablation_results = {\"- S neurons\": ([50, 93, 50], [50, 60.5, 50]),\n",
    "                         \"- S neurons\\n+2x L neurons\": ([50, 90.32, 95.72], [50, 72.05, 59.81]),\n",
    "                         \"- Gating\": ([91, 50], [65.25, 50]),\n",
    "                         \"- LayerNorm\": ([84, 82], [59, 70]),\n",
    "                         \"- ReLU \\n+tanh\": ([50, 50, 50], [50, 50, 50]),\n",
    "                        #  \"GRU + tanh\": ([50, 50, 50], [50, 50, 50]),\n",
    "                        #  \"GRU + ReLU\": ([60.4], [np.mean([50, 50, 54, 56, 60])])\n",
    "                         }\n",
    "\n",
    "full_model = {'LocRNN': ([50.52804184, 61.97795868, 93.61415609, 95.55564372, 96.16869354],\n",
    "                         [49.8, 60.8, 94.4, 95.6, 96.11])}\n",
    "\n",
    "full_model_acc = {k: (np.max(v[0]), np.max(v[1])) for k, v in full_model.items()}\n",
    "full_model_sampl = {k: (np.mean(v[0]), np.mean(v[1])) for k, v in full_model.items()}\n",
    "\n",
    "# print(pf14_ablation_results['GRU + ReLU'])"
   ]
  },
  {
   "cell_type": "code",
   "execution_count": null,
   "metadata": {
    "id": "n3vtLxwFHxzS"
   },
   "outputs": [],
   "source": [
    "fontsize = 20\n",
    "def plot_ablation_results(pf14_ablation_results, full_model_results, save=False):\n",
    "  fig, ax = plt.subplots(1, 2, figsize=(13, 6))\n",
    "\n",
    "  ax[0].bar([0], np.mean(full_model_acc['LocRNN']),\n",
    "            yerr=np.std(full_model_acc['LocRNN'])/np.sqrt(5),\n",
    "            label='Full model',\n",
    "            capsize=3)\n",
    "  ticks = ['Full model']\n",
    "  for idx, (abl, res) in enumerate(pf14_ablation_results.items()):\n",
    "    ax[0].bar(idx+1, np.mean(res[0]), yerr=np.std(res[0])/np.sqrt(len(res[0])), error_kw=dict(lw=2, capsize=5))\n",
    "    ticks.append(abl)\n",
    "  \n",
    "  ax[0].set_title(\"Validation accuracy (\\% correct)\", fontsize=fontsize)\n",
    "  ax[0].set_xticks(range(len(ticks)))\n",
    "  ax[0].set_xticklabels(ticks, fontsize=fontsize)\n",
    "  ax[0].tick_params(axis='x', rotation=45, labelsize=fontsize)\n",
    "  ax[0].tick_params(axis='y', labelsize=fontsize)\n",
    "  ax[0].set_ylabel(\"Validation performance \\%\", fontsize=fontsize)\n",
    "  ax[1].set_ylabel(\"Area under validation curve\", fontsize=fontsize)\n",
    "  ax[1].bar([0], np.mean(full_model_sampl['LocRNN']), \n",
    "            yerr=np.std(full_model_sampl['LocRNN'])/np.sqrt(5),\n",
    "            label='Full model',\n",
    "            capsize=3)\n",
    "  ticks = ['Full model']\n",
    "  for idx, (abl, res) in enumerate(pf14_ablation_results.items()):\n",
    "    ax[1].bar(idx+1, np.mean(res[1]), yerr=np.std(res[1])/np.sqrt(len(res[1])), label=abl, error_kw=dict(lw=2, capsize=5))\n",
    "    ticks.append(abl)\n",
    "  \n",
    "  ax[1].set_title(\"Sample efficiency\", fontsize=fontsize)\n",
    "  ax[1].set_xticks(range(len(ticks)))\n",
    "  ax[1].set_xticklabels(ticks, fontsize=fontsize)\n",
    "  ax[1].tick_params(axis='x', rotation=45, labelsize=fontsize)\n",
    "  ax[1].tick_params(axis='y', labelsize=fontsize)\n",
    "  ax[0].set_ylim([40, 100])\n",
    "  ax[1].set_ylim([40, 100])\n",
    "  ax[0].grid('on', axis='y', alpha=0.3)\n",
    "  ax[1].grid('on', axis='y', alpha=0.3)\n",
    "  ax[0].set_facecolor('#FFFFFF')\n",
    "  ax[1].set_facecolor('#FFFFFF')\n",
    "  ax[1].legend(fontsize=fontsize-4, bbox_to_anchor=(0.2, 0.92),\n",
    "                ncol=3, fancybox=True, framealpha=1)\n",
    "  plt.title(\"Sample efficiency (Area under validation curve)\", fontsize=fontsize)\n",
    "  # plt.suptitle(\"Ablation study\", fontsize=fontsize+8)\n",
    "  if save:\n",
    "    plt.savefig(\"/home/vveeraba/src/results_cosyne/Ablation_results_response.pdf\", dpi=500)"
   ]
  },
  {
   "cell_type": "code",
   "execution_count": null,
   "metadata": {
    "colab": {
     "base_uri": "https://localhost:8080/",
     "height": 457
    },
    "id": "gwoklZ6OIot7",
    "outputId": "4a04c5fd-69b4-48b8-844e-77e24bfa9583"
   },
   "outputs": [
    {
     "data": {
      "image/png": "[encoded data removed]",
      "text/plain": [
       "<Figure size 936x432 with 2 Axes>"
      ]
     },
     "metadata": {
      "needs_background": "light"
     },
     "output_type": "display_data"
    }
   ],
   "source": [
    "plot_ablation_results(pf14_ablation_results, full_model, save=True)"
   ]
  },
  {
   "cell_type": "code",
   "execution_count": null,
   "metadata": {
    "id": "Z4w7ihElIrEY"
   },
   "outputs": [],
   "source": [
    "extrnn_64channel_results = glob.glob('/home/vveeraba/src/pathfinder/ckpt_iclr/curv_contour_length_14/extrnn/64channel*')"
   ]
  },
  {
   "cell_type": "code",
   "execution_count": null,
   "metadata": {
    "id": "IJvH1k9w-sSz"
   },
   "outputs": [],
   "source": [
    "extrnn_64channel_results = [i.replace('/home/vveeraba/src/pathfinder/ckpt_iclr/curv_contour_length_14/', '') for i in extrnn_64channel_results]"
   ]
  },
  {
   "cell_type": "code",
   "execution_count": null,
   "metadata": {
    "id": "moBFPWID-zP0"
   },
   "outputs": [],
   "source": [
    "_, _, base_results = get_results(extrnn_64channel_results, return_base_results=True)"
   ]
  },
  {
   "cell_type": "code",
   "execution_count": null,
   "metadata": {
    "colab": {
     "base_uri": "https://localhost:8080/"
    },
    "id": "9A1joTQr_Ds_",
    "outputId": "e5938fa8-f2a1-42d5-ccee-792ee6323c5b"
   },
   "outputs": [
    {
     "name": "stdout",
     "output_type": "stream",
     "text": [
      "[50.0, 50.00699996948242, 50.0] 50.01 50.00\n",
      "[53.776302337646484, 90.31922912597656] 90.32 72.05\n",
      "[50.01000213623047, 50.31602478027344, 50.28102111816406, 52.73221969604492, 95.71765899658203] 95.72 59.81\n"
     ]
    }
   ],
   "source": [
    "for res_tuple in base_results:\n",
    "  curr_res_tuple = []\n",
    "  for i in range(1, len(res_tuple)):\n",
    "    if res_tuple[i] != res_tuple[i-1]:\n",
    "      curr_res_tuple.append(res_tuple[i-1])\n",
    "    else:\n",
    "      curr_res_tuple.append(res_tuple[i-1])\n",
    "      break\n",
    "  if i == (len(res_tuple)-1):\n",
    "    curr_res_tuple.append(res_tuple[-1])\n",
    "  print(curr_res_tuple, \"%.2f\" % np.max(curr_res_tuple), \"%.2f\" % np.mean(curr_res_tuple), )"
   ]
  },
  {
   "cell_type": "code",
   "execution_count": null,
   "metadata": {
    "colab": {
     "base_uri": "https://localhost:8080/"
    },
    "id": "WlUNBGmS_M0h",
    "outputId": "30d41f23-5703-4368-fbe3-174d886de076"
   },
   "outputs": [
    {
     "data": {
      "text/plain": [
       "71.5"
      ]
     },
     "execution_count": 118,
     "metadata": {},
     "output_type": "execute_result"
    }
   ],
   "source": [
    "50, (53+90)/2"
   ]
  },
  {
   "cell_type": "code",
   "execution_count": null,
   "metadata": {
    "id": "UAOkB57OAK-E"
   },
   "outputs": [],
   "source": []
  }
 ],
 "metadata": {
  "colab": {
   "collapsed_sections": [
    "7ghZNpKS9uVS",
    "g99LcB8HG4Sq"
   ],
   "provenance": []
  },
  "kernelspec": {
   "display_name": "Python 3",
   "name": "python3"
  },
  "language_info": {
   "name": "python"
  }
 },
 "nbformat": 4,
 "nbformat_minor": 0
}
